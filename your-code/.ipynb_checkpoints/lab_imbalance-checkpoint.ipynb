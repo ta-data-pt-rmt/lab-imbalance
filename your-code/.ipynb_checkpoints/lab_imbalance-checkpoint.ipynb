{
 "cells": [
  {
   "cell_type": "markdown",
   "metadata": {},
   "source": [
    "# Inbalanced Classes\n",
    "## In this lab, we are going to explore a case of imbalanced classes. \n",
    "\n",
    "\n",
    "Like we disussed in class, when we have noisy data, if we are not careful, we can end up fitting our model to the noise in the data and not the 'signal'-- the factors that actually determine the outcome. This is called overfitting, and results in good results in training, and in bad results when the model is applied to real data. Similarly, we could have a model that is too simplistic to accurately model the signal. This produces a model that doesnt work well (ever). \n"
   ]
  },
  {
   "cell_type": "markdown",
   "metadata": {},
   "source": [
    "### Note: before doing the first commit, make sure you don't include the large csv file, either by adding it to .gitignore, or by deleting it."
   ]
  },
  {
   "cell_type": "markdown",
   "metadata": {},
   "source": [
    "### First, download the data from: https://www.kaggle.com/datasets/chitwanmanchanda/fraudulent-transactions-data?resource=download . Import the dataset and provide some discriptive statistics and plots. What do you think will be the important features in determining the outcome?\n",
    "### Note: don't use the entire dataset, use a sample instead, with n=100000 elements, so your computer doesn't freeze."
   ]
  },
  {
   "cell_type": "code",
   "execution_count": 67,
   "metadata": {},
   "outputs": [
    {
     "data": {
      "text/html": [
       "<div>\n",
       "<style scoped>\n",
       "    .dataframe tbody tr th:only-of-type {\n",
       "        vertical-align: middle;\n",
       "    }\n",
       "\n",
       "    .dataframe tbody tr th {\n",
       "        vertical-align: top;\n",
       "    }\n",
       "\n",
       "    .dataframe thead th {\n",
       "        text-align: right;\n",
       "    }\n",
       "</style>\n",
       "<table border=\"1\" class=\"dataframe\">\n",
       "  <thead>\n",
       "    <tr style=\"text-align: right;\">\n",
       "      <th></th>\n",
       "      <th>step</th>\n",
       "      <th>type</th>\n",
       "      <th>amount</th>\n",
       "      <th>nameOrig</th>\n",
       "      <th>oldbalanceOrg</th>\n",
       "      <th>newbalanceOrig</th>\n",
       "      <th>nameDest</th>\n",
       "      <th>oldbalanceDest</th>\n",
       "      <th>newbalanceDest</th>\n",
       "      <th>isFraud</th>\n",
       "      <th>isFlaggedFraud</th>\n",
       "    </tr>\n",
       "  </thead>\n",
       "  <tbody>\n",
       "    <tr>\n",
       "      <th>2003864</th>\n",
       "      <td>179</td>\n",
       "      <td>CASH_IN</td>\n",
       "      <td>222944.07</td>\n",
       "      <td>C365921928</td>\n",
       "      <td>17033.0</td>\n",
       "      <td>239977.07</td>\n",
       "      <td>C143607911</td>\n",
       "      <td>86447.49</td>\n",
       "      <td>0.00</td>\n",
       "      <td>0</td>\n",
       "      <td>0</td>\n",
       "    </tr>\n",
       "    <tr>\n",
       "      <th>4404699</th>\n",
       "      <td>321</td>\n",
       "      <td>CASH_OUT</td>\n",
       "      <td>347481.43</td>\n",
       "      <td>C1565754419</td>\n",
       "      <td>0.0</td>\n",
       "      <td>0.00</td>\n",
       "      <td>C2007798419</td>\n",
       "      <td>520503.37</td>\n",
       "      <td>867984.80</td>\n",
       "      <td>0</td>\n",
       "      <td>0</td>\n",
       "    </tr>\n",
       "    <tr>\n",
       "      <th>2407870</th>\n",
       "      <td>202</td>\n",
       "      <td>CASH_IN</td>\n",
       "      <td>332099.00</td>\n",
       "      <td>C122362720</td>\n",
       "      <td>201.0</td>\n",
       "      <td>332300.00</td>\n",
       "      <td>C147312460</td>\n",
       "      <td>367944.44</td>\n",
       "      <td>35845.44</td>\n",
       "      <td>0</td>\n",
       "      <td>0</td>\n",
       "    </tr>\n",
       "  </tbody>\n",
       "</table>\n",
       "</div>"
      ],
      "text/plain": [
       "         step      type     amount     nameOrig  oldbalanceOrg  \\\n",
       "2003864   179   CASH_IN  222944.07   C365921928        17033.0   \n",
       "4404699   321  CASH_OUT  347481.43  C1565754419            0.0   \n",
       "2407870   202   CASH_IN  332099.00   C122362720          201.0   \n",
       "\n",
       "         newbalanceOrig     nameDest  oldbalanceDest  newbalanceDest  isFraud  \\\n",
       "2003864       239977.07   C143607911        86447.49            0.00        0   \n",
       "4404699            0.00  C2007798419       520503.37       867984.80        0   \n",
       "2407870       332300.00   C147312460       367944.44        35845.44        0   \n",
       "\n",
       "         isFlaggedFraud  \n",
       "2003864               0  \n",
       "4404699               0  \n",
       "2407870               0  "
      ]
     },
     "execution_count": 67,
     "metadata": {},
     "output_type": "execute_result"
    }
   ],
   "source": [
    "# Your code here\n",
    "import pandas as pd\n",
    "fraud = pd.read_csv(\"Fraud.csv\")\n",
    "fraud =fraud.sample(100000)\n",
    "fraud.head(3)"
   ]
  },
  {
   "cell_type": "markdown",
   "metadata": {},
   "source": [
    "### What is the distribution of the outcome? "
   ]
  },
  {
   "cell_type": "code",
   "execution_count": 68,
   "metadata": {},
   "outputs": [
    {
     "data": {
      "text/plain": [
       "0    99863\n",
       "1      137\n",
       "Name: isFraud, dtype: int64"
      ]
     },
     "execution_count": 68,
     "metadata": {},
     "output_type": "execute_result"
    }
   ],
   "source": [
    "# Your response here\n",
    "fraud['isFraud'].value_counts()"
   ]
  },
  {
   "cell_type": "markdown",
   "metadata": {},
   "source": [
    "### Clean the dataset. Pre-process it to make it suitable for ML training. Feel free to explore, drop, encode, transform, etc. Whatever you feel will improve the model score."
   ]
  },
  {
   "cell_type": "code",
   "execution_count": 69,
   "metadata": {},
   "outputs": [
    {
     "name": "stdout",
     "output_type": "stream",
     "text": [
      "step                int64\n",
      "type               object\n",
      "amount            float64\n",
      "nameOrig           object\n",
      "oldbalanceOrg     float64\n",
      "newbalanceOrig    float64\n",
      "nameDest           object\n",
      "oldbalanceDest    float64\n",
      "newbalanceDest    float64\n",
      "isFraud             int64\n",
      "isFlaggedFraud      int64\n",
      "dtype: object\n",
      "step              0\n",
      "type              0\n",
      "amount            0\n",
      "nameOrig          0\n",
      "oldbalanceOrg     0\n",
      "newbalanceOrig    0\n",
      "nameDest          0\n",
      "oldbalanceDest    0\n",
      "newbalanceDest    0\n",
      "isFraud           0\n",
      "isFlaggedFraud    0\n",
      "dtype: int64\n",
      "                step        amount  oldbalanceOrg  newbalanceOrig  \\\n",
      "count  100000.000000  1.000000e+05   1.000000e+05    1.000000e+05   \n",
      "mean      243.253750  1.796326e+05   8.507548e+05    8.720945e+05   \n",
      "std       141.748941  5.617213e+05   2.937850e+06    2.973164e+06   \n",
      "min         1.000000  3.300000e-01   0.000000e+00    0.000000e+00   \n",
      "25%       156.000000  1.334861e+04   0.000000e+00    0.000000e+00   \n",
      "50%       238.000000  7.498454e+04   1.454200e+04    0.000000e+00   \n",
      "75%       334.000000  2.090498e+05   1.088791e+05    1.463585e+05   \n",
      "max       740.000000  6.750076e+07   4.958504e+07    3.958504e+07   \n",
      "\n",
      "       oldbalanceDest  newbalanceDest        isFraud  isFlaggedFraud  \n",
      "count    1.000000e+05    1.000000e+05  100000.000000        100000.0  \n",
      "mean     1.087525e+06    1.209918e+06       0.001370             0.0  \n",
      "std      3.203646e+06    3.421867e+06       0.036988             0.0  \n",
      "min      0.000000e+00    0.000000e+00       0.000000             0.0  \n",
      "25%      0.000000e+00    0.000000e+00       0.000000             0.0  \n",
      "50%      1.336997e+05    2.147014e+05       0.000000             0.0  \n",
      "75%      9.476220e+05    1.116532e+06       0.000000             0.0  \n",
      "max      3.278521e+08    3.279630e+08       1.000000             0.0  \n",
      "0    99863\n",
      "1      137\n",
      "Name: isFraud, dtype: int64\n"
     ]
    }
   ],
   "source": [
    "# Your code here\n",
    "fraud.reset_index(drop=True, inplace=True)\n",
    "print(fraud.dtypes)\n",
    "print(fraud.isnull().sum())\n",
    "print(fraud.describe())\n",
    "print(fraud['isFraud'].value_counts())\n",
    "\n"
   ]
  },
  {
   "cell_type": "markdown",
   "metadata": {},
   "source": [
    "Description of variables:\n",
    "\n",
    "step - maps a unit of time in the real world. In this case 1 step is 1 hour of time. Total steps 744 (30 days simulation).\n",
    "\n",
    "type - CASH-IN, CASH-OUT, DEBIT, PAYMENT and TRANSFER.\n",
    "\n",
    "amount - amount of the transaction in local currency.\n",
    "\n",
    "nameOrig - customer who started the transaction\n",
    "\n",
    "oldbalanceOrg - initial balance before the transaction\n",
    "\n",
    "newbalanceOrig - new balance after the transaction\n",
    "\n",
    "nameDest - customer who is the recipient of the transaction\n",
    "\n",
    "oldbalanceDest - initial balance recipient before the transaction. Note that there is not information for customers that start with M (Merchants).\n",
    "\n",
    "newbalanceDest - new balance recipient after the transaction. Note that there is not information for customers that start with M (Merchants).\n",
    "\n",
    "isFraud - This is the transactions made by the fraudulent agents inside the simulation. In this specific dataset the fraudulent behavior of the agents aims to profit by taking control or customers accounts and try to empty the funds by transferring to another account and then cashing out of the system.\n",
    "\n",
    "isFlaggedFraud - The business model aims to control massive transfers from one account to another and flags illegal attempts. An illegal attempt in this dataset is an attempt to transfer more than 200.000 in a single transaction.\"\n",
    "\n",
    ")"
   ]
  },
  {
   "cell_type": "code",
   "execution_count": 70,
   "metadata": {},
   "outputs": [
    {
     "data": {
      "text/html": [
       "<div>\n",
       "<style scoped>\n",
       "    .dataframe tbody tr th:only-of-type {\n",
       "        vertical-align: middle;\n",
       "    }\n",
       "\n",
       "    .dataframe tbody tr th {\n",
       "        vertical-align: top;\n",
       "    }\n",
       "\n",
       "    .dataframe thead th {\n",
       "        text-align: right;\n",
       "    }\n",
       "</style>\n",
       "<table border=\"1\" class=\"dataframe\">\n",
       "  <thead>\n",
       "    <tr style=\"text-align: right;\">\n",
       "      <th></th>\n",
       "      <th>step</th>\n",
       "      <th>amount</th>\n",
       "      <th>oldbalanceOrg</th>\n",
       "      <th>newbalanceOrig</th>\n",
       "      <th>oldbalanceDest</th>\n",
       "      <th>newbalanceDest</th>\n",
       "      <th>isFraud</th>\n",
       "      <th>isFlaggedFraud</th>\n",
       "    </tr>\n",
       "  </thead>\n",
       "  <tbody>\n",
       "    <tr>\n",
       "      <th>count</th>\n",
       "      <td>137.000000</td>\n",
       "      <td>1.370000e+02</td>\n",
       "      <td>1.370000e+02</td>\n",
       "      <td>1.370000e+02</td>\n",
       "      <td>1.370000e+02</td>\n",
       "      <td>1.370000e+02</td>\n",
       "      <td>137.0</td>\n",
       "      <td>137.0</td>\n",
       "    </tr>\n",
       "    <tr>\n",
       "      <th>mean</th>\n",
       "      <td>391.299270</td>\n",
       "      <td>1.289482e+06</td>\n",
       "      <td>1.686039e+06</td>\n",
       "      <td>3.965573e+05</td>\n",
       "      <td>4.346529e+05</td>\n",
       "      <td>1.094140e+06</td>\n",
       "      <td>1.0</td>\n",
       "      <td>0.0</td>\n",
       "    </tr>\n",
       "    <tr>\n",
       "      <th>std</th>\n",
       "      <td>214.131844</td>\n",
       "      <td>2.180971e+06</td>\n",
       "      <td>4.866533e+06</td>\n",
       "      <td>3.459374e+06</td>\n",
       "      <td>1.699684e+06</td>\n",
       "      <td>2.425710e+06</td>\n",
       "      <td>0.0</td>\n",
       "      <td>0.0</td>\n",
       "    </tr>\n",
       "    <tr>\n",
       "      <th>min</th>\n",
       "      <td>1.000000</td>\n",
       "      <td>1.074810e+03</td>\n",
       "      <td>1.074810e+03</td>\n",
       "      <td>0.000000e+00</td>\n",
       "      <td>0.000000e+00</td>\n",
       "      <td>0.000000e+00</td>\n",
       "      <td>1.0</td>\n",
       "      <td>0.0</td>\n",
       "    </tr>\n",
       "    <tr>\n",
       "      <th>25%</th>\n",
       "      <td>238.000000</td>\n",
       "      <td>1.181069e+05</td>\n",
       "      <td>1.181069e+05</td>\n",
       "      <td>0.000000e+00</td>\n",
       "      <td>0.000000e+00</td>\n",
       "      <td>0.000000e+00</td>\n",
       "      <td>1.0</td>\n",
       "      <td>0.0</td>\n",
       "    </tr>\n",
       "    <tr>\n",
       "      <th>50%</th>\n",
       "      <td>412.000000</td>\n",
       "      <td>4.897673e+05</td>\n",
       "      <td>4.897673e+05</td>\n",
       "      <td>0.000000e+00</td>\n",
       "      <td>0.000000e+00</td>\n",
       "      <td>0.000000e+00</td>\n",
       "      <td>1.0</td>\n",
       "      <td>0.0</td>\n",
       "    </tr>\n",
       "    <tr>\n",
       "      <th>75%</th>\n",
       "      <td>565.000000</td>\n",
       "      <td>1.322278e+06</td>\n",
       "      <td>1.322278e+06</td>\n",
       "      <td>0.000000e+00</td>\n",
       "      <td>2.372250e+04</td>\n",
       "      <td>1.089489e+06</td>\n",
       "      <td>1.0</td>\n",
       "      <td>0.0</td>\n",
       "    </tr>\n",
       "    <tr>\n",
       "      <th>max</th>\n",
       "      <td>740.000000</td>\n",
       "      <td>1.000000e+07</td>\n",
       "      <td>4.958504e+07</td>\n",
       "      <td>3.958504e+07</td>\n",
       "      <td>1.326434e+07</td>\n",
       "      <td>1.414348e+07</td>\n",
       "      <td>1.0</td>\n",
       "      <td>0.0</td>\n",
       "    </tr>\n",
       "  </tbody>\n",
       "</table>\n",
       "</div>"
      ],
      "text/plain": [
       "             step        amount  oldbalanceOrg  newbalanceOrig  \\\n",
       "count  137.000000  1.370000e+02   1.370000e+02    1.370000e+02   \n",
       "mean   391.299270  1.289482e+06   1.686039e+06    3.965573e+05   \n",
       "std    214.131844  2.180971e+06   4.866533e+06    3.459374e+06   \n",
       "min      1.000000  1.074810e+03   1.074810e+03    0.000000e+00   \n",
       "25%    238.000000  1.181069e+05   1.181069e+05    0.000000e+00   \n",
       "50%    412.000000  4.897673e+05   4.897673e+05    0.000000e+00   \n",
       "75%    565.000000  1.322278e+06   1.322278e+06    0.000000e+00   \n",
       "max    740.000000  1.000000e+07   4.958504e+07    3.958504e+07   \n",
       "\n",
       "       oldbalanceDest  newbalanceDest  isFraud  isFlaggedFraud  \n",
       "count    1.370000e+02    1.370000e+02    137.0           137.0  \n",
       "mean     4.346529e+05    1.094140e+06      1.0             0.0  \n",
       "std      1.699684e+06    2.425710e+06      0.0             0.0  \n",
       "min      0.000000e+00    0.000000e+00      1.0             0.0  \n",
       "25%      0.000000e+00    0.000000e+00      1.0             0.0  \n",
       "50%      0.000000e+00    0.000000e+00      1.0             0.0  \n",
       "75%      2.372250e+04    1.089489e+06      1.0             0.0  \n",
       "max      1.326434e+07    1.414348e+07      1.0             0.0  "
      ]
     },
     "execution_count": 70,
     "metadata": {},
     "output_type": "execute_result"
    }
   ],
   "source": [
    "fraud_fraud = fraud[fraud['isFraud']==1]\n",
    "fraud_fraud.describe()"
   ]
  },
  {
   "cell_type": "code",
   "execution_count": 71,
   "metadata": {},
   "outputs": [
    {
     "data": {
      "text/html": [
       "<div>\n",
       "<style scoped>\n",
       "    .dataframe tbody tr th:only-of-type {\n",
       "        vertical-align: middle;\n",
       "    }\n",
       "\n",
       "    .dataframe tbody tr th {\n",
       "        vertical-align: top;\n",
       "    }\n",
       "\n",
       "    .dataframe thead th {\n",
       "        text-align: right;\n",
       "    }\n",
       "</style>\n",
       "<table border=\"1\" class=\"dataframe\">\n",
       "  <thead>\n",
       "    <tr style=\"text-align: right;\">\n",
       "      <th></th>\n",
       "      <th>step</th>\n",
       "      <th>amount</th>\n",
       "      <th>oldbalanceOrg</th>\n",
       "      <th>newbalanceOrig</th>\n",
       "      <th>oldbalanceDest</th>\n",
       "      <th>newbalanceDest</th>\n",
       "      <th>isFraud</th>\n",
       "      <th>isFlaggedFraud</th>\n",
       "    </tr>\n",
       "  </thead>\n",
       "  <tbody>\n",
       "    <tr>\n",
       "      <th>count</th>\n",
       "      <td>99863.000000</td>\n",
       "      <td>9.986300e+04</td>\n",
       "      <td>9.986300e+04</td>\n",
       "      <td>9.986300e+04</td>\n",
       "      <td>9.986300e+04</td>\n",
       "      <td>9.986300e+04</td>\n",
       "      <td>99863.0</td>\n",
       "      <td>99863.0</td>\n",
       "    </tr>\n",
       "    <tr>\n",
       "      <th>mean</th>\n",
       "      <td>243.050649</td>\n",
       "      <td>1.781100e+05</td>\n",
       "      <td>8.496089e+05</td>\n",
       "      <td>8.727469e+05</td>\n",
       "      <td>1.088421e+06</td>\n",
       "      <td>1.210076e+06</td>\n",
       "      <td>0.0</td>\n",
       "      <td>0.0</td>\n",
       "    </tr>\n",
       "    <tr>\n",
       "      <th>std</th>\n",
       "      <td>141.519512</td>\n",
       "      <td>5.547915e+05</td>\n",
       "      <td>2.934210e+06</td>\n",
       "      <td>2.972411e+06</td>\n",
       "      <td>3.205138e+06</td>\n",
       "      <td>3.423040e+06</td>\n",
       "      <td>0.0</td>\n",
       "      <td>0.0</td>\n",
       "    </tr>\n",
       "    <tr>\n",
       "      <th>min</th>\n",
       "      <td>1.000000</td>\n",
       "      <td>3.300000e-01</td>\n",
       "      <td>0.000000e+00</td>\n",
       "      <td>0.000000e+00</td>\n",
       "      <td>0.000000e+00</td>\n",
       "      <td>0.000000e+00</td>\n",
       "      <td>0.0</td>\n",
       "      <td>0.0</td>\n",
       "    </tr>\n",
       "    <tr>\n",
       "      <th>25%</th>\n",
       "      <td>156.000000</td>\n",
       "      <td>1.332949e+04</td>\n",
       "      <td>0.000000e+00</td>\n",
       "      <td>0.000000e+00</td>\n",
       "      <td>0.000000e+00</td>\n",
       "      <td>0.000000e+00</td>\n",
       "      <td>0.0</td>\n",
       "      <td>0.0</td>\n",
       "    </tr>\n",
       "    <tr>\n",
       "      <th>50%</th>\n",
       "      <td>238.000000</td>\n",
       "      <td>7.474929e+04</td>\n",
       "      <td>1.444100e+04</td>\n",
       "      <td>0.000000e+00</td>\n",
       "      <td>1.344900e+05</td>\n",
       "      <td>2.151046e+05</td>\n",
       "      <td>0.0</td>\n",
       "      <td>0.0</td>\n",
       "    </tr>\n",
       "    <tr>\n",
       "      <th>75%</th>\n",
       "      <td>334.000000</td>\n",
       "      <td>2.086770e+05</td>\n",
       "      <td>1.080715e+05</td>\n",
       "      <td>1.470820e+05</td>\n",
       "      <td>9.496743e+05</td>\n",
       "      <td>1.116535e+06</td>\n",
       "      <td>0.0</td>\n",
       "      <td>0.0</td>\n",
       "    </tr>\n",
       "    <tr>\n",
       "      <th>max</th>\n",
       "      <td>718.000000</td>\n",
       "      <td>6.750076e+07</td>\n",
       "      <td>3.825960e+07</td>\n",
       "      <td>3.836475e+07</td>\n",
       "      <td>3.278521e+08</td>\n",
       "      <td>3.279630e+08</td>\n",
       "      <td>0.0</td>\n",
       "      <td>0.0</td>\n",
       "    </tr>\n",
       "  </tbody>\n",
       "</table>\n",
       "</div>"
      ],
      "text/plain": [
       "               step        amount  oldbalanceOrg  newbalanceOrig  \\\n",
       "count  99863.000000  9.986300e+04   9.986300e+04    9.986300e+04   \n",
       "mean     243.050649  1.781100e+05   8.496089e+05    8.727469e+05   \n",
       "std      141.519512  5.547915e+05   2.934210e+06    2.972411e+06   \n",
       "min        1.000000  3.300000e-01   0.000000e+00    0.000000e+00   \n",
       "25%      156.000000  1.332949e+04   0.000000e+00    0.000000e+00   \n",
       "50%      238.000000  7.474929e+04   1.444100e+04    0.000000e+00   \n",
       "75%      334.000000  2.086770e+05   1.080715e+05    1.470820e+05   \n",
       "max      718.000000  6.750076e+07   3.825960e+07    3.836475e+07   \n",
       "\n",
       "       oldbalanceDest  newbalanceDest  isFraud  isFlaggedFraud  \n",
       "count    9.986300e+04    9.986300e+04  99863.0         99863.0  \n",
       "mean     1.088421e+06    1.210076e+06      0.0             0.0  \n",
       "std      3.205138e+06    3.423040e+06      0.0             0.0  \n",
       "min      0.000000e+00    0.000000e+00      0.0             0.0  \n",
       "25%      0.000000e+00    0.000000e+00      0.0             0.0  \n",
       "50%      1.344900e+05    2.151046e+05      0.0             0.0  \n",
       "75%      9.496743e+05    1.116535e+06      0.0             0.0  \n",
       "max      3.278521e+08    3.279630e+08      0.0             0.0  "
      ]
     },
     "execution_count": 71,
     "metadata": {},
     "output_type": "execute_result"
    }
   ],
   "source": [
    "fraud_no_fraud = fraud[fraud['isFraud']==0]\n",
    "fraud_no_fraud.describe()"
   ]
  },
  {
   "cell_type": "code",
   "execution_count": 72,
   "metadata": {},
   "outputs": [
    {
     "data": {
      "image/png": "[encoded data removed]",
      "text/plain": [
       "<Figure size 720x432 with 1 Axes>"
      ]
     },
     "metadata": {},
     "output_type": "display_data"
    },
    {
     "name": "stdout",
     "output_type": "stream",
     "text": [
      "Fraud transaction are normally with less amount, more homogenious. Normal transaction is not so homogenious.\n",
      "mean of the amount of fraud transactions: 1289481.900583941\n",
      "mean of the amount of fraud transactions: 1289481.900583941 Percentile 80: 1629061.4360000005\n",
      "mean of the amount of no fraud transactions: 178110.0025723247 Percentile 80: 245845.21800000002\n"
     ]
    }
   ],
   "source": [
    "import seaborn as sns\n",
    "import matplotlib.pyplot as plt\n",
    "import numpy as np\n",
    "\n",
    "sns.set(style=\"whitegrid\")\n",
    "\n",
    "\n",
    "plt.figure(figsize=(10, 6))\n",
    "\n",
    "sns.kdeplot(fraud_fraud['amount'], shade=True, label='Fraud flag = 1', color='blue')\n",
    "sns.kdeplot(fraud_no_fraud['amount'], shade=True, label='Fraud flag = 0', color='red')\n",
    "\n",
    "# Añadir título y etiquetas de los ejes\n",
    "plt.title('Amount distribution of sample with fraud and without fraud')\n",
    "plt.xlabel('Amount')\n",
    "plt.ylabel('Density')\n",
    "\n",
    "# Añadir una leyenda\n",
    "plt.legend()\n",
    "\n",
    "# Mostrar el gráfico\n",
    "plt.show()\n",
    "percentile_80 = np.percentile(fraud_fraud['amount'], 80)\n",
    "print('Fraud transaction are normally with less amount, more homogenious. Normal transaction is not so homogenious.')\n",
    "print('mean of the amount of fraud transactions:',fraud_fraud['amount'].mean())\n",
    "\n",
    "\n",
    "# Imprimir el percentil 80%\n",
    "print('mean of the amount of fraud transactions:',fraud_fraud['amount'].mean(),'Percentile 80:',np.percentile(fraud_fraud['amount'], 80))\n",
    "print('mean of the amount of no fraud transactions:',fraud_no_fraud['amount'].mean(),'Percentile 80:',np.percentile(fraud_no_fraud['amount'], 80))"
   ]
  },
  {
   "cell_type": "code",
   "execution_count": 73,
   "metadata": {},
   "outputs": [
    {
     "data": {
      "image/png": "[encoded data removed]",
      "text/plain": [
       "<Figure size 720x432 with 1 Axes>"
      ]
     },
     "metadata": {},
     "output_type": "display_data"
    },
    {
     "name": "stdout",
     "output_type": "stream",
     "text": [
      "not so intuitive\n"
     ]
    }
   ],
   "source": [
    "import pandas as pd\n",
    "import seaborn as sns\n",
    "import matplotlib.pyplot as plt\n",
    "\n",
    "\n",
    "sns.set(style=\"whitegrid\")\n",
    "\n",
    "\n",
    "plt.figure(figsize=(10, 6))\n",
    "\n",
    "sns.kdeplot(fraud_fraud['step'], shade=True, label='Fraud flag = 1', color='blue')\n",
    "sns.kdeplot(fraud_no_fraud['step'], shade=True, label='Fraud flag = 0', color='red')\n",
    "\n",
    "# Añadir título y etiquetas de los ejes\n",
    "plt.title('Step distribution of sample with fraud and without fraud')\n",
    "plt.xlabel('step')\n",
    "plt.ylabel('Density')\n",
    "\n",
    "# Añadir una leyenda\n",
    "plt.legend()\n",
    "\n",
    "# Mostrar el gráfico\n",
    "plt.show()\n",
    "print('not so intuitive')"
   ]
  },
  {
   "cell_type": "code",
   "execution_count": 74,
   "metadata": {},
   "outputs": [
    {
     "data": {
      "image/png": "[encoded data removed]",
      "text/plain": [
       "<Figure size 720x432 with 1 Axes>"
      ]
     },
     "metadata": {},
     "output_type": "display_data"
    },
    {
     "name": "stdout",
     "output_type": "stream",
     "text": [
      "mean of the balance before transactions  of fraud transactions: 1686039.1877372256 Percentile 90: 2889377.704\n",
      "mean of the balance before transactions  of no fraud transactions: 849608.8974999756 Percentile 90: 1901407.5940000035\n",
      "Very intuitive, less balance in the origin account before fraud\n"
     ]
    }
   ],
   "source": [
    "import pandas as pd\n",
    "import seaborn as sns\n",
    "import matplotlib.pyplot as plt\n",
    "\n",
    "\n",
    "sns.set(style=\"whitegrid\")\n",
    "\n",
    "\n",
    "plt.figure(figsize=(10, 6))\n",
    "\n",
    "sns.kdeplot(fraud_fraud['oldbalanceOrg'], shade=True, label='Fraud flag = 1', color='blue')\n",
    "sns.kdeplot(fraud_no_fraud['oldbalanceOrg'], shade=True, label='Fraud flag = 0', color='red')\n",
    "\n",
    "# Añadir título y etiquetas de los ejes\n",
    "plt.title('Balance before the transaction distribution of sample with fraud and without fraud')\n",
    "plt.xlabel('oldbalanceOrg')\n",
    "plt.ylabel('Density')\n",
    "\n",
    "# Añadir una leyenda\n",
    "plt.legend()\n",
    "\n",
    "# Mostrar el gráfico\n",
    "plt.show()\n",
    "print('mean of the balance before transactions  of fraud transactions:',fraud_fraud['oldbalanceOrg'].mean(),'Percentile 90:',np.percentile(fraud_fraud['oldbalanceOrg'], 90))\n",
    "print('mean of the balance before transactions  of no fraud transactions:',fraud_no_fraud['oldbalanceOrg'].mean(),'Percentile 90:',np.percentile(fraud_no_fraud['oldbalanceOrg'], 90)\n",
    "     )\n",
    "print('Very intuitive, less balance in the origin account before fraud')"
   ]
  },
  {
   "cell_type": "code",
   "execution_count": 75,
   "metadata": {},
   "outputs": [
    {
     "data": {
      "image/png": "[encoded data removed]",
      "text/plain": [
       "<Figure size 720x432 with 1 Axes>"
      ]
     },
     "metadata": {},
     "output_type": "display_data"
    },
    {
     "name": "stdout",
     "output_type": "stream",
     "text": [
      "mean of the balance in dest. before transactions  of fraud transactions: 434652.9487591241 Percentile 90: 642370.3440000002\n",
      "mean of the balance before transactions in dest.  of no fraud transactions: 1088420.6031427023 Percentile 90: 2923091.3620000007\n",
      "Very intuitive, less balance in dest. for fraud transactions\n"
     ]
    }
   ],
   "source": [
    "import pandas as pd\n",
    "import seaborn as sns\n",
    "import matplotlib.pyplot as plt\n",
    "\n",
    "\n",
    "sns.set(style=\"whitegrid\")\n",
    "\n",
    "\n",
    "plt.figure(figsize=(10, 6))\n",
    "\n",
    "sns.kdeplot(fraud_fraud['oldbalanceDest'], shade=True, label='Fraud flag = 1', color='blue')\n",
    "sns.kdeplot(fraud_no_fraud['oldbalanceDest'], shade=True, label='Fraud flag = 0', color='red')\n",
    "\n",
    "# Añadir título y etiquetas de los ejes\n",
    "plt.title('Balance before the transaction distribution of sample with fraud and without fraud')\n",
    "plt.xlabel('oldbalanceDest')\n",
    "plt.ylabel('Density')\n",
    "\n",
    "# Añadir una leyenda\n",
    "plt.legend()\n",
    "\n",
    "# Mostrar el gráfico\n",
    "plt.show()\n",
    "print('mean of the balance in dest. before transactions  of fraud transactions:',fraud_fraud['oldbalanceDest'].mean(),'Percentile 90:',np.percentile(fraud_fraud['oldbalanceDest'], 90))\n",
    "print('mean of the balance before transactions in dest.  of no fraud transactions:',fraud_no_fraud['oldbalanceDest'].mean(),'Percentile 90:',np.percentile(fraud_no_fraud['oldbalanceDest'], 90)\n",
    "     )\n",
    "print('Very intuitive, less balance in dest. for fraud transactions')"
   ]
  },
  {
   "cell_type": "code",
   "execution_count": 76,
   "metadata": {},
   "outputs": [
    {
     "data": {
      "image/png": "[encoded data removed]",
      "text/plain": [
       "<Figure size 720x432 with 1 Axes>"
      ]
     },
     "metadata": {},
     "output_type": "display_data"
    },
    {
     "name": "stdout",
     "output_type": "stream",
     "text": [
      "mean of the balance in dest. after transactions  of fraud transactions: 1094140.1542335765 Percentile 90: 2766331.6440000003\n",
      "mean of the balance after transactions in dest.  of no fraud transactions: 1210076.4846858198 Percentile 90: 3209460.2240000013\n",
      "Very intuitive, less balance in dest. for fraud transactions\n"
     ]
    }
   ],
   "source": [
    "import pandas as pd\n",
    "import seaborn as sns\n",
    "import matplotlib.pyplot as plt\n",
    "\n",
    "\n",
    "sns.set(style=\"whitegrid\")\n",
    "\n",
    "\n",
    "plt.figure(figsize=(10, 6))\n",
    "\n",
    "sns.kdeplot(fraud_fraud['newbalanceDest'], shade=True, label='Fraud flag = 1', color='blue')\n",
    "sns.kdeplot(fraud_no_fraud['newbalanceDest'], shade=True, label='Fraud flag = 0', color='red')\n",
    "\n",
    "# Añadir título y etiquetas de los ejes\n",
    "plt.title('Balance before the transaction distribution of sample with fraud and without fraud')\n",
    "plt.xlabel('newbalanceDest')\n",
    "plt.ylabel('Density')\n",
    "\n",
    "# Añadir una leyenda\n",
    "plt.legend()\n",
    "\n",
    "# Mostrar el gráfico\n",
    "plt.show()\n",
    "print('mean of the balance in dest. after transactions  of fraud transactions:',fraud_fraud['newbalanceDest'].mean(),'Percentile 90:',np.percentile(fraud_fraud['newbalanceDest'], 90))\n",
    "print('mean of the balance after transactions in dest.  of no fraud transactions:',fraud_no_fraud['newbalanceDest'].mean(),'Percentile 90:',np.percentile(fraud_no_fraud['newbalanceDest'], 90)\n",
    "     )\n",
    "print('Very intuitive, less balance in dest. for fraud transactions')"
   ]
  },
  {
   "cell_type": "code",
   "execution_count": 77,
   "metadata": {},
   "outputs": [
    {
     "name": "stdout",
     "output_type": "stream",
     "text": [
      "['TRANSFER' 'CASH_OUT']\n",
      "['CASH_IN' 'CASH_OUT' 'PAYMENT' 'TRANSFER' 'DEBIT']\n"
     ]
    }
   ],
   "source": [
    "print(fraud_fraud['type'].unique())\n",
    "print(fraud_no_fraud['type'].unique())"
   ]
  },
  {
   "cell_type": "markdown",
   "metadata": {},
   "source": [
    "### Run a logisitc regression classifier and evaluate its accuracy."
   ]
  },
  {
   "cell_type": "code",
   "execution_count": 78,
   "metadata": {},
   "outputs": [
    {
     "name": "stdout",
     "output_type": "stream",
     "text": [
      "Candidate variables: step, amount and choosing one of these, as there are correlated:newbalanceDest,oldbalanceDest\n",
      "Index(['step', 'type', 'amount', 'nameOrig', 'oldbalanceOrg', 'newbalanceOrig',\n",
      "       'nameDest', 'oldbalanceDest', 'newbalanceDest', 'isFraud',\n",
      "       'isFlaggedFraud'],\n",
      "      dtype='object')\n",
      "Model A SCORE: 0.99872\n",
      "Model B SCORE: 0.99868\n",
      "Precision Model A: 0.0\n",
      "Recall Model A: 0.0\n",
      "F1-score Model A: 0.0\n",
      "Precision Model B: 0.25\n",
      "Recall Model B: 0.03225806451612903\n",
      "F1-score Model B: 0.05714285714285715\n"
     ]
    },
    {
     "name": "stderr",
     "output_type": "stream",
     "text": [
      "C:\\Users\\rozio\\anaconda3\\lib\\site-packages\\sklearn\\metrics\\_classification.py:1272: UndefinedMetricWarning: Precision is ill-defined and being set to 0.0 due to no predicted samples. Use `zero_division` parameter to control this behavior.\n",
      "  _warn_prf(average, modifier, msg_start, len(result))\n"
     ]
    }
   ],
   "source": [
    "print('Candidate variables: step, amount and choosing one of these, as there are correlated:newbalanceDest,oldbalanceDest')\n",
    "print(fraud.columns)  # Imprimir los nombres de las columnas\n",
    "X_A = fraud[['amount', 'oldbalanceOrg', 'oldbalanceDest']]\n",
    "y_A = fraud['isFraud']\n",
    "from sklearn.model_selection import train_test_split\n",
    "X_train_A, X_test_A, y_train_A, y_test_A = train_test_split(X_A, y_A)\n",
    "\n",
    "X_B = fraud[['amount', 'newbalanceOrig', 'newbalanceDest']]\n",
    "y_B = fraud['isFraud']\n",
    "\n",
    "X_train_B, X_test_B, y_train_B, y_test_B = train_test_split(X_B, y_B)\n",
    "from sklearn.linear_model import LogisticRegression\n",
    "\n",
    "Regression_Model_A = LogisticRegression(max_iter=1000)\n",
    "Regression_Model_A.fit(X_train_A, y_train_A)\n",
    "print('Model A SCORE:', Regression_Model_A.score(X_test_A, y_test_A))\n",
    "\n",
    "Regression_Model_B = LogisticRegression(max_iter=1000)\n",
    "Regression_Model_B.fit(X_train_B, y_train_B)\n",
    "print('Model B SCORE:', Regression_Model_B.score(X_test_B, y_test_B))\n",
    "\n",
    "from sklearn.metrics import precision_score\n",
    "from sklearn.metrics import recall_score\n",
    "from sklearn.metrics import f1_score\n",
    "\n",
    "# Calcular precisión, recall y F1-score para el modelo A\n",
    "y_pred_A = Regression_Model_A.predict(X_test_A)\n",
    "print(\"Precision Model A:\", precision_score(y_test_A, y_pred_A))\n",
    "print(\"Recall Model A:\", recall_score(y_test_A, y_pred_A))\n",
    "print(\"F1-score Model A:\", f1_score(y_test_A, y_pred_A))\n",
    "\n",
    "# Calcular precisión, recall y F1-score para el modelo B\n",
    "y_pred_B = Regression_Model_B.predict(X_test_B)\n",
    "print(\"Precision Model B:\", precision_score(y_test_B, y_pred_B))\n",
    "print(\"Recall Model B:\", recall_score(y_test_B, y_pred_B))\n",
    "print(\"F1-score Model B:\", f1_score(y_test_B, y_pred_B))"
   ]
  },
  {
   "cell_type": "code",
   "execution_count": 79,
   "metadata": {},
   "outputs": [
    {
     "data": {
      "text/plain": [
       "array([[24966,     3],\n",
       "       [   30,     1]], dtype=int64)"
      ]
     },
     "execution_count": 79,
     "metadata": {},
     "output_type": "execute_result"
    }
   ],
   "source": [
    "from sklearn.metrics import confusion_matrix\n",
    "confusion_matrix(y_test_B,y_pred_B)"
   ]
  },
  {
   "cell_type": "markdown",
   "metadata": {},
   "source": [
    "# Oversamping over Model B"
   ]
  },
  {
   "cell_type": "code",
   "execution_count": 80,
   "metadata": {},
   "outputs": [
    {
     "data": {
      "text/plain": [
       "(75000, 4)"
      ]
     },
     "metadata": {},
     "output_type": "display_data"
    },
    {
     "data": {
      "text/html": [
       "<div>\n",
       "<style scoped>\n",
       "    .dataframe tbody tr th:only-of-type {\n",
       "        vertical-align: middle;\n",
       "    }\n",
       "\n",
       "    .dataframe tbody tr th {\n",
       "        vertical-align: top;\n",
       "    }\n",
       "\n",
       "    .dataframe thead th {\n",
       "        text-align: right;\n",
       "    }\n",
       "</style>\n",
       "<table border=\"1\" class=\"dataframe\">\n",
       "  <thead>\n",
       "    <tr style=\"text-align: right;\">\n",
       "      <th></th>\n",
       "      <th>amount</th>\n",
       "      <th>newbalanceOrig</th>\n",
       "      <th>newbalanceDest</th>\n",
       "      <th>isFraud</th>\n",
       "    </tr>\n",
       "  </thead>\n",
       "  <tbody>\n",
       "    <tr>\n",
       "      <th>31394</th>\n",
       "      <td>38950.91</td>\n",
       "      <td>0.00</td>\n",
       "      <td>345465.92</td>\n",
       "      <td>0</td>\n",
       "    </tr>\n",
       "    <tr>\n",
       "      <th>48967</th>\n",
       "      <td>154362.73</td>\n",
       "      <td>7797554.71</td>\n",
       "      <td>4019831.80</td>\n",
       "      <td>0</td>\n",
       "    </tr>\n",
       "    <tr>\n",
       "      <th>16219</th>\n",
       "      <td>132114.17</td>\n",
       "      <td>132283.17</td>\n",
       "      <td>111063.33</td>\n",
       "      <td>0</td>\n",
       "    </tr>\n",
       "    <tr>\n",
       "      <th>54781</th>\n",
       "      <td>11467.06</td>\n",
       "      <td>9291.94</td>\n",
       "      <td>0.00</td>\n",
       "      <td>0</td>\n",
       "    </tr>\n",
       "    <tr>\n",
       "      <th>24647</th>\n",
       "      <td>25081.21</td>\n",
       "      <td>0.00</td>\n",
       "      <td>0.00</td>\n",
       "      <td>0</td>\n",
       "    </tr>\n",
       "  </tbody>\n",
       "</table>\n",
       "</div>"
      ],
      "text/plain": [
       "          amount  newbalanceOrig  newbalanceDest  isFraud\n",
       "31394   38950.91            0.00       345465.92        0\n",
       "48967  154362.73      7797554.71      4019831.80        0\n",
       "16219  132114.17       132283.17       111063.33        0\n",
       "54781   11467.06         9291.94            0.00        0\n",
       "24647   25081.21            0.00            0.00        0"
      ]
     },
     "execution_count": 80,
     "metadata": {},
     "output_type": "execute_result"
    }
   ],
   "source": [
    "from sklearn.utils import resample\n",
    "train = pd.concat([X_train_B, y_train_B],axis=1)\n",
    "display(train.shape)\n",
    "train.head()\n"
   ]
  },
  {
   "cell_type": "code",
   "execution_count": 81,
   "metadata": {},
   "outputs": [
    {
     "data": {
      "text/plain": [
       "(106, 4)"
      ]
     },
     "metadata": {},
     "output_type": "display_data"
    },
    {
     "data": {
      "text/plain": [
       "(74894, 4)"
      ]
     },
     "metadata": {},
     "output_type": "display_data"
    }
   ],
   "source": [
    "yes_fraud = train[train['isFraud']==1]\n",
    "no_fraud = train[train['isFraud']==0]\n",
    "display(yes_fraud.shape)\n",
    "display(no_fraud.shape)"
   ]
  },
  {
   "cell_type": "code",
   "execution_count": 82,
   "metadata": {},
   "outputs": [
    {
     "data": {
      "text/plain": [
       "(74894, 4)"
      ]
     },
     "metadata": {},
     "output_type": "display_data"
    }
   ],
   "source": [
    "yes_fraud_oversampled = resample(yes_fraud, #<- sample from here\n",
    "                                    replace=True, #<- we need replacement, since we don't have enough data otherwise\n",
    "                                    n_samples = len(no_fraud),#<- make both sets the same size\n",
    "                                    random_state=0)\n",
    "display(yes_fraud_oversampled.shape)"
   ]
  },
  {
   "cell_type": "code",
   "execution_count": 83,
   "metadata": {},
   "outputs": [
    {
     "data": {
      "text/html": [
       "<div>\n",
       "<style scoped>\n",
       "    .dataframe tbody tr th:only-of-type {\n",
       "        vertical-align: middle;\n",
       "    }\n",
       "\n",
       "    .dataframe tbody tr th {\n",
       "        vertical-align: top;\n",
       "    }\n",
       "\n",
       "    .dataframe thead th {\n",
       "        text-align: right;\n",
       "    }\n",
       "</style>\n",
       "<table border=\"1\" class=\"dataframe\">\n",
       "  <thead>\n",
       "    <tr style=\"text-align: right;\">\n",
       "      <th></th>\n",
       "      <th>amount</th>\n",
       "      <th>newbalanceOrig</th>\n",
       "      <th>newbalanceDest</th>\n",
       "      <th>isFraud</th>\n",
       "    </tr>\n",
       "  </thead>\n",
       "  <tbody>\n",
       "    <tr>\n",
       "      <th>31394</th>\n",
       "      <td>38950.91</td>\n",
       "      <td>0.00</td>\n",
       "      <td>345465.92</td>\n",
       "      <td>0</td>\n",
       "    </tr>\n",
       "    <tr>\n",
       "      <th>48967</th>\n",
       "      <td>154362.73</td>\n",
       "      <td>7797554.71</td>\n",
       "      <td>4019831.80</td>\n",
       "      <td>0</td>\n",
       "    </tr>\n",
       "    <tr>\n",
       "      <th>16219</th>\n",
       "      <td>132114.17</td>\n",
       "      <td>132283.17</td>\n",
       "      <td>111063.33</td>\n",
       "      <td>0</td>\n",
       "    </tr>\n",
       "    <tr>\n",
       "      <th>54781</th>\n",
       "      <td>11467.06</td>\n",
       "      <td>9291.94</td>\n",
       "      <td>0.00</td>\n",
       "      <td>0</td>\n",
       "    </tr>\n",
       "    <tr>\n",
       "      <th>24647</th>\n",
       "      <td>25081.21</td>\n",
       "      <td>0.00</td>\n",
       "      <td>0.00</td>\n",
       "      <td>0</td>\n",
       "    </tr>\n",
       "  </tbody>\n",
       "</table>\n",
       "</div>"
      ],
      "text/plain": [
       "          amount  newbalanceOrig  newbalanceDest  isFraud\n",
       "31394   38950.91            0.00       345465.92        0\n",
       "48967  154362.73      7797554.71      4019831.80        0\n",
       "16219  132114.17       132283.17       111063.33        0\n",
       "54781   11467.06         9291.94            0.00        0\n",
       "24647   25081.21            0.00            0.00        0"
      ]
     },
     "execution_count": 83,
     "metadata": {},
     "output_type": "execute_result"
    }
   ],
   "source": [
    "train_oversampled = pd.concat([no_fraud,yes_fraud_oversampled])\n",
    "train_oversampled.head()"
   ]
  },
  {
   "cell_type": "code",
   "execution_count": 85,
   "metadata": {},
   "outputs": [
    {
     "name": "stdout",
     "output_type": "stream",
     "text": [
      "precision:  0.0024632788979107745\n",
      "recall:  0.8709677419354839\n",
      "f1:  0.0049126637554585155\n",
      "Model B OVERSAMPLED SCORE: 0.56248\n",
      "In this model there are too many false positives, bad precision. However, it is a conservative model because the recall is high. Not too many false negatives.\n"
     ]
    }
   ],
   "source": [
    "y_train_over = train_oversampled['isFraud'].copy()\n",
    "X_train_over = train_oversampled.drop('isFraud',axis = 1).copy()\n",
    "LR = LogisticRegression(max_iter=1000)\n",
    "LR.fit(X_train_over, y_train_over)\n",
    "pred = LR.predict(X_test_B)\n",
    "from sklearn.metrics import precision_score\n",
    "from sklearn.metrics import recall_score\n",
    "from sklearn.metrics import f1_score\n",
    "print(\"precision: \",precision_score(y_test_B,pred))\n",
    "print(\"recall: \",recall_score(y_test_B,pred))\n",
    "print(\"f1: \",f1_score(y_test_B,pred))\n",
    "print('Model B OVERSAMPLED SCORE:',LR.score(X_test_B, y_test_B))\n",
    "from sklearn.metrics import confusion_matrix\n",
    "confusion_matrix(y_test_B,pred)\n",
    "print('In this model there are too many false positives, bad precision. However, it is a conservative model because the recall is high. Not too many false negatives.')"
   ]
  },
  {
   "cell_type": "markdown",
   "metadata": {},
   "source": [
    "# Undersampling"
   ]
  },
  {
   "cell_type": "code",
   "execution_count": 89,
   "metadata": {},
   "outputs": [
    {
     "data": {
      "text/plain": [
       "(106, 4)"
      ]
     },
     "metadata": {},
     "output_type": "display_data"
    }
   ],
   "source": [
    "no_fraud_undersampled = resample(no_fraud, #<- sample from here\n",
    "                                    replace=True, #<- we need replacement, since we don't have enough data otherwise\n",
    "                                    n_samples = len(yes_fraud),#<- make both sets the same size\n",
    "                                    random_state=0)\n",
    "display(no_fraud_undersampled.shape)"
   ]
  },
  {
   "cell_type": "code",
   "execution_count": 90,
   "metadata": {},
   "outputs": [
    {
     "data": {
      "text/html": [
       "<div>\n",
       "<style scoped>\n",
       "    .dataframe tbody tr th:only-of-type {\n",
       "        vertical-align: middle;\n",
       "    }\n",
       "\n",
       "    .dataframe tbody tr th {\n",
       "        vertical-align: top;\n",
       "    }\n",
       "\n",
       "    .dataframe thead th {\n",
       "        text-align: right;\n",
       "    }\n",
       "</style>\n",
       "<table border=\"1\" class=\"dataframe\">\n",
       "  <thead>\n",
       "    <tr style=\"text-align: right;\">\n",
       "      <th></th>\n",
       "      <th>amount</th>\n",
       "      <th>newbalanceOrig</th>\n",
       "      <th>newbalanceDest</th>\n",
       "      <th>isFraud</th>\n",
       "    </tr>\n",
       "  </thead>\n",
       "  <tbody>\n",
       "    <tr>\n",
       "      <th>70317</th>\n",
       "      <td>147186.94</td>\n",
       "      <td>0.0</td>\n",
       "      <td>0.00</td>\n",
       "      <td>1</td>\n",
       "    </tr>\n",
       "    <tr>\n",
       "      <th>94136</th>\n",
       "      <td>99458.21</td>\n",
       "      <td>0.0</td>\n",
       "      <td>0.00</td>\n",
       "      <td>1</td>\n",
       "    </tr>\n",
       "    <tr>\n",
       "      <th>63759</th>\n",
       "      <td>741277.85</td>\n",
       "      <td>0.0</td>\n",
       "      <td>0.00</td>\n",
       "      <td>1</td>\n",
       "    </tr>\n",
       "    <tr>\n",
       "      <th>13640</th>\n",
       "      <td>161147.38</td>\n",
       "      <td>0.0</td>\n",
       "      <td>0.00</td>\n",
       "      <td>1</td>\n",
       "    </tr>\n",
       "    <tr>\n",
       "      <th>74986</th>\n",
       "      <td>248799.49</td>\n",
       "      <td>0.0</td>\n",
       "      <td>571942.72</td>\n",
       "      <td>1</td>\n",
       "    </tr>\n",
       "  </tbody>\n",
       "</table>\n",
       "</div>"
      ],
      "text/plain": [
       "          amount  newbalanceOrig  newbalanceDest  isFraud\n",
       "70317  147186.94             0.0            0.00        1\n",
       "94136   99458.21             0.0            0.00        1\n",
       "63759  741277.85             0.0            0.00        1\n",
       "13640  161147.38             0.0            0.00        1\n",
       "74986  248799.49             0.0       571942.72        1"
      ]
     },
     "execution_count": 90,
     "metadata": {},
     "output_type": "execute_result"
    }
   ],
   "source": [
    "train_undersampled = pd.concat([yes_fraud,no_fraud_undersampled])\n",
    "train_undersampled.head()"
   ]
  },
  {
   "cell_type": "code",
   "execution_count": 94,
   "metadata": {},
   "outputs": [
    {
     "name": "stdout",
     "output_type": "stream",
     "text": [
      "precision:  0.00232218113012815\n",
      "recall:  0.8709677419354839\n",
      "f1:  0.004632012352032939\n",
      "Model B UNDERSAMPLED SCORE: 0.53584\n",
      "In this model there are too many false positives, bad precision. However, it is a conservative model because the recall is high. Not too many false negatives.\n"
     ]
    },
    {
     "data": {
      "text/plain": [
       "array([[13369, 11600],\n",
       "       [    4,    27]], dtype=int64)"
      ]
     },
     "execution_count": 94,
     "metadata": {},
     "output_type": "execute_result"
    }
   ],
   "source": [
    "y_train_under = train_undersampled['isFraud'].copy()\n",
    "X_train_under = train_undersampled.drop('isFraud',axis = 1).copy()\n",
    "LR_under = LogisticRegression(max_iter=1000)\n",
    "LR_under.fit(X_train_under, y_train_under)\n",
    "pred_under = LR_under.predict(X_test_B)\n",
    "from sklearn.metrics import precision_score\n",
    "from sklearn.metrics import recall_score\n",
    "from sklearn.metrics import f1_score\n",
    "print(\"precision: \",precision_score(y_test_B,pred_under))\n",
    "print(\"recall: \",recall_score(y_test_B,pred_under))\n",
    "print(\"f1: \",f1_score(y_test_B,pred_under))\n",
    "print('Model B UNDERSAMPLED SCORE:',LR_under.score(X_test_B, y_test_B))\n",
    "from sklearn.metrics import confusion_matrix\n",
    "\n",
    "print('In this model there are too many false positives, bad precision. However, it is a conservative model because the recall is high. Not too many false negatives.')\n",
    "confusion_matrix(y_test_B,pred_under)"
   ]
  },
  {
   "cell_type": "markdown",
   "metadata": {},
   "source": [
    "### Now pick a model of your choice and evaluate its accuracy."
   ]
  },
  {
   "cell_type": "code",
   "execution_count": 95,
   "metadata": {},
   "outputs": [
    {
     "name": "stdout",
     "output_type": "stream",
     "text": [
      "precision:  0.0024632788979107745\n",
      "recall:  0.8709677419354839\n",
      "f1:  0.0049126637554585155\n",
      "Model B OVERSAMPLED SCORE: 0.53584\n",
      "In this model there are too many false positives, bad precision. However, it is a conservative model because the recall is high. Not too many false negatives.\n"
     ]
    }
   ],
   "source": [
    "# Your code here\n",
    "print(\"precision: \",precision_score(y_test_B,pred))\n",
    "print(\"recall: \",recall_score(y_test_B,pred))\n",
    "print(\"f1: \",f1_score(y_test_B,pred))\n",
    "print('Model B OVERSAMPLED SCORE:',LR.score(X_test_B, y_test_B))\n",
    "from sklearn.metrics import confusion_matrix\n",
    "confusion_matrix(y_test_B,pred)\n",
    "print('In this model there are too many false positives, bad precision. However, it is a conservative model because the recall is high. Not too many false negatives.')"
   ]
  },
  {
   "cell_type": "markdown",
   "metadata": {},
   "source": [
    "### Which model worked better and how do you know?"
   ]
  },
  {
   "cell_type": "code",
   "execution_count": 87,
   "metadata": {},
   "outputs": [
    {
     "name": "stdout",
     "output_type": "stream",
     "text": [
      "Model B oversampled\n"
     ]
    }
   ],
   "source": [
    "# Your response here\n",
    "print('Model B oversampled')\n",
    "fraud.to_csv('fraud_reduced_sample.csv')"
   ]
  },
  {
   "cell_type": "markdown",
   "metadata": {},
   "source": [
    "### Note: before doing the first commit, make sure you don't include the large csv file, either by adding it to .gitignore, or by deleting it."
   ]
  }
 ],
 "metadata": {
  "kernelspec": {
   "display_name": "Python 3",
   "language": "python",
   "name": "python3"
  },
  "language_info": {
   "codemirror_mode": {
    "name": "ipython",
    "version": 3
   },
   "file_extension": ".py",
   "mimetype": "text/x-python",
   "name": "python",
   "nbconvert_exporter": "python",
   "pygments_lexer": "ipython3",
   "version": "3.7.6"
  }
 },
 "nbformat": 4,
 "nbformat_minor": 2
}
