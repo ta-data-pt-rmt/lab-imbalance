{
 "cells": [
  {
   "cell_type": "markdown",
   "metadata": {},
   "source": [
    "# Inbalanced Classes\n",
    "## In this lab, we are going to explore a case of imbalanced classes. \n",
    "\n",
    "\n",
    "Like we disussed in class, when we have noisy data, if we are not careful, we can end up fitting our model to the noise in the data and not the 'signal'-- the factors that actually determine the outcome. This is called overfitting, and results in good results in training, and in bad results when the model is applied to real data. Similarly, we could have a model that is too simplistic to accurately model the signal. This produces a model that doesnt work well (ever). \n"
   ]
  },
  {
   "cell_type": "markdown",
   "metadata": {},
   "source": [
    "### Note: before doing the first commit, make sure you don't include the large csv file, either by adding it to .gitignore, or by deleting it."
   ]
  },
  {
   "cell_type": "markdown",
   "metadata": {},
   "source": [
    "### First, download the data from: https://www.kaggle.com/datasets/chitwanmanchanda/fraudulent-transactions-data?resource=download . Import the dataset and provide some discriptive statistics and plots. What do you think will be the important features in determining the outcome?\n",
    "### Note: don't use the entire dataset, use a sample instead, with n=100000 elements, so your computer doesn't freeze."
   ]
  },
  {
   "cell_type": "code",
   "execution_count": 217,
   "metadata": {},
   "outputs": [
    {
     "data": {
      "text/html": [
       "<div>\n",
       "<style scoped>\n",
       "    .dataframe tbody tr th:only-of-type {\n",
       "        vertical-align: middle;\n",
       "    }\n",
       "\n",
       "    .dataframe tbody tr th {\n",
       "        vertical-align: top;\n",
       "    }\n",
       "\n",
       "    .dataframe thead th {\n",
       "        text-align: right;\n",
       "    }\n",
       "</style>\n",
       "<table border=\"1\" class=\"dataframe\">\n",
       "  <thead>\n",
       "    <tr style=\"text-align: right;\">\n",
       "      <th></th>\n",
       "      <th>step</th>\n",
       "      <th>type</th>\n",
       "      <th>amount</th>\n",
       "      <th>nameOrig</th>\n",
       "      <th>oldbalanceOrg</th>\n",
       "      <th>newbalanceOrig</th>\n",
       "      <th>nameDest</th>\n",
       "      <th>oldbalanceDest</th>\n",
       "      <th>newbalanceDest</th>\n",
       "      <th>isFraud</th>\n",
       "      <th>isFlaggedFraud</th>\n",
       "    </tr>\n",
       "  </thead>\n",
       "  <tbody>\n",
       "    <tr>\n",
       "      <th>0</th>\n",
       "      <td>1</td>\n",
       "      <td>PAYMENT</td>\n",
       "      <td>9839.64</td>\n",
       "      <td>C1231006815</td>\n",
       "      <td>170136.0</td>\n",
       "      <td>160296.36</td>\n",
       "      <td>M1979787155</td>\n",
       "      <td>0.0</td>\n",
       "      <td>0.0</td>\n",
       "      <td>0</td>\n",
       "      <td>0</td>\n",
       "    </tr>\n",
       "    <tr>\n",
       "      <th>1</th>\n",
       "      <td>1</td>\n",
       "      <td>PAYMENT</td>\n",
       "      <td>1864.28</td>\n",
       "      <td>C1666544295</td>\n",
       "      <td>21249.0</td>\n",
       "      <td>19384.72</td>\n",
       "      <td>M2044282225</td>\n",
       "      <td>0.0</td>\n",
       "      <td>0.0</td>\n",
       "      <td>0</td>\n",
       "      <td>0</td>\n",
       "    </tr>\n",
       "    <tr>\n",
       "      <th>2</th>\n",
       "      <td>1</td>\n",
       "      <td>TRANSFER</td>\n",
       "      <td>181.00</td>\n",
       "      <td>C1305486145</td>\n",
       "      <td>181.0</td>\n",
       "      <td>0.00</td>\n",
       "      <td>C553264065</td>\n",
       "      <td>0.0</td>\n",
       "      <td>0.0</td>\n",
       "      <td>1</td>\n",
       "      <td>0</td>\n",
       "    </tr>\n",
       "    <tr>\n",
       "      <th>3</th>\n",
       "      <td>1</td>\n",
       "      <td>CASH_OUT</td>\n",
       "      <td>181.00</td>\n",
       "      <td>C840083671</td>\n",
       "      <td>181.0</td>\n",
       "      <td>0.00</td>\n",
       "      <td>C38997010</td>\n",
       "      <td>21182.0</td>\n",
       "      <td>0.0</td>\n",
       "      <td>1</td>\n",
       "      <td>0</td>\n",
       "    </tr>\n",
       "    <tr>\n",
       "      <th>4</th>\n",
       "      <td>1</td>\n",
       "      <td>PAYMENT</td>\n",
       "      <td>11668.14</td>\n",
       "      <td>C2048537720</td>\n",
       "      <td>41554.0</td>\n",
       "      <td>29885.86</td>\n",
       "      <td>M1230701703</td>\n",
       "      <td>0.0</td>\n",
       "      <td>0.0</td>\n",
       "      <td>0</td>\n",
       "      <td>0</td>\n",
       "    </tr>\n",
       "  </tbody>\n",
       "</table>\n",
       "</div>"
      ],
      "text/plain": [
       "   step      type    amount     nameOrig  oldbalanceOrg  newbalanceOrig  \\\n",
       "0     1   PAYMENT   9839.64  C1231006815       170136.0       160296.36   \n",
       "1     1   PAYMENT   1864.28  C1666544295        21249.0        19384.72   \n",
       "2     1  TRANSFER    181.00  C1305486145          181.0            0.00   \n",
       "3     1  CASH_OUT    181.00   C840083671          181.0            0.00   \n",
       "4     1   PAYMENT  11668.14  C2048537720        41554.0        29885.86   \n",
       "\n",
       "      nameDest  oldbalanceDest  newbalanceDest  isFraud  isFlaggedFraud  \n",
       "0  M1979787155             0.0             0.0        0               0  \n",
       "1  M2044282225             0.0             0.0        0               0  \n",
       "2   C553264065             0.0             0.0        1               0  \n",
       "3    C38997010         21182.0             0.0        1               0  \n",
       "4  M1230701703             0.0             0.0        0               0  "
      ]
     },
     "execution_count": 217,
     "metadata": {},
     "output_type": "execute_result"
    }
   ],
   "source": [
    "# Your code here\n",
    "import pandas as pd\n",
    "import numpy as np\n",
    "\n",
    "bank_fraud=pd.read_csv('Fraud.csv')\n",
    "bank_fraud.head()"
   ]
  },
  {
   "cell_type": "code",
   "execution_count": 276,
   "metadata": {},
   "outputs": [
    {
     "data": {
      "text/html": [
       "<div>\n",
       "<style scoped>\n",
       "    .dataframe tbody tr th:only-of-type {\n",
       "        vertical-align: middle;\n",
       "    }\n",
       "\n",
       "    .dataframe tbody tr th {\n",
       "        vertical-align: top;\n",
       "    }\n",
       "\n",
       "    .dataframe thead th {\n",
       "        text-align: right;\n",
       "    }\n",
       "</style>\n",
       "<table border=\"1\" class=\"dataframe\">\n",
       "  <thead>\n",
       "    <tr style=\"text-align: right;\">\n",
       "      <th></th>\n",
       "      <th>step</th>\n",
       "      <th>type</th>\n",
       "      <th>amount</th>\n",
       "      <th>nameOrig</th>\n",
       "      <th>oldbalanceOrg</th>\n",
       "      <th>newbalanceOrig</th>\n",
       "      <th>nameDest</th>\n",
       "      <th>oldbalanceDest</th>\n",
       "      <th>newbalanceDest</th>\n",
       "      <th>isFraud</th>\n",
       "      <th>isFlaggedFraud</th>\n",
       "    </tr>\n",
       "  </thead>\n",
       "  <tbody>\n",
       "    <tr>\n",
       "      <th>5225812</th>\n",
       "      <td>370</td>\n",
       "      <td>PAYMENT</td>\n",
       "      <td>6787.15</td>\n",
       "      <td>C1333938858</td>\n",
       "      <td>5051.00</td>\n",
       "      <td>0.00</td>\n",
       "      <td>M1147989472</td>\n",
       "      <td>0.00</td>\n",
       "      <td>0.00</td>\n",
       "      <td>0</td>\n",
       "      <td>0</td>\n",
       "    </tr>\n",
       "    <tr>\n",
       "      <th>321637</th>\n",
       "      <td>16</td>\n",
       "      <td>CASH_IN</td>\n",
       "      <td>4181.73</td>\n",
       "      <td>C774301459</td>\n",
       "      <td>17582760.43</td>\n",
       "      <td>17586942.16</td>\n",
       "      <td>C1027072502</td>\n",
       "      <td>16780.52</td>\n",
       "      <td>0.00</td>\n",
       "      <td>0</td>\n",
       "      <td>0</td>\n",
       "    </tr>\n",
       "    <tr>\n",
       "      <th>4310737</th>\n",
       "      <td>308</td>\n",
       "      <td>CASH_OUT</td>\n",
       "      <td>97785.77</td>\n",
       "      <td>C1747795955</td>\n",
       "      <td>62462.45</td>\n",
       "      <td>0.00</td>\n",
       "      <td>C1443280684</td>\n",
       "      <td>219297.38</td>\n",
       "      <td>317083.15</td>\n",
       "      <td>0</td>\n",
       "      <td>0</td>\n",
       "    </tr>\n",
       "    <tr>\n",
       "      <th>5633200</th>\n",
       "      <td>395</td>\n",
       "      <td>CASH_IN</td>\n",
       "      <td>71113.23</td>\n",
       "      <td>C1300350475</td>\n",
       "      <td>27875433.32</td>\n",
       "      <td>27946546.55</td>\n",
       "      <td>C948711121</td>\n",
       "      <td>2234377.93</td>\n",
       "      <td>2163264.70</td>\n",
       "      <td>0</td>\n",
       "      <td>0</td>\n",
       "    </tr>\n",
       "    <tr>\n",
       "      <th>2173588</th>\n",
       "      <td>185</td>\n",
       "      <td>CASH_OUT</td>\n",
       "      <td>22087.52</td>\n",
       "      <td>C1813459078</td>\n",
       "      <td>0.00</td>\n",
       "      <td>0.00</td>\n",
       "      <td>C1658545652</td>\n",
       "      <td>30397.13</td>\n",
       "      <td>52484.66</td>\n",
       "      <td>0</td>\n",
       "      <td>0</td>\n",
       "    </tr>\n",
       "  </tbody>\n",
       "</table>\n",
       "</div>"
      ],
      "text/plain": [
       "         step      type    amount     nameOrig  oldbalanceOrg  newbalanceOrig  \\\n",
       "5225812   370   PAYMENT   6787.15  C1333938858        5051.00            0.00   \n",
       "321637     16   CASH_IN   4181.73   C774301459    17582760.43     17586942.16   \n",
       "4310737   308  CASH_OUT  97785.77  C1747795955       62462.45            0.00   \n",
       "5633200   395   CASH_IN  71113.23  C1300350475    27875433.32     27946546.55   \n",
       "2173588   185  CASH_OUT  22087.52  C1813459078           0.00            0.00   \n",
       "\n",
       "            nameDest  oldbalanceDest  newbalanceDest  isFraud  isFlaggedFraud  \n",
       "5225812  M1147989472            0.00            0.00        0               0  \n",
       "321637   C1027072502        16780.52            0.00        0               0  \n",
       "4310737  C1443280684       219297.38       317083.15        0               0  \n",
       "5633200   C948711121      2234377.93      2163264.70        0               0  \n",
       "2173588  C1658545652        30397.13        52484.66        0               0  "
      ]
     },
     "execution_count": 276,
     "metadata": {},
     "output_type": "execute_result"
    }
   ],
   "source": [
    "fraud = bank_fraud.sample(1000000)\n",
    "fraud.head(5)"
   ]
  },
  {
   "cell_type": "markdown",
   "metadata": {},
   "source": [
    "### What is the distribution of the outcome? "
   ]
  },
  {
   "cell_type": "code",
   "execution_count": 277,
   "metadata": {},
   "outputs": [
    {
     "data": {
      "text/plain": [
       "<AxesSubplot:>"
      ]
     },
     "execution_count": 277,
     "metadata": {},
     "output_type": "execute_result"
    },
    {
     "data": {
      "image/png": "[encoded data removed]",
      "text/plain": [
       "<Figure size 1500x800 with 1 Axes>"
      ]
     },
     "metadata": {},
     "output_type": "display_data"
    }
   ],
   "source": [
    "# Your response here\n",
    "count_classes = pd.value_counts(fraud['isFraud'])\n",
    "count_classes.plot(kind = 'bar')"
   ]
  },
  {
   "cell_type": "code",
   "execution_count": 278,
   "metadata": {},
   "outputs": [
    {
     "data": {
      "text/plain": [
       "(1311, 11)"
      ]
     },
     "execution_count": 278,
     "metadata": {},
     "output_type": "execute_result"
    }
   ],
   "source": [
    "fraud[fraud['isFraud']==1].shape"
   ]
  },
  {
   "cell_type": "markdown",
   "metadata": {},
   "source": [
    "### Clean the dataset. Pre-process it to make it suitable for ML training. Feel free to explore, drop, encode, transform, etc. Whatever you feel will improve the model score."
   ]
  },
  {
   "cell_type": "code",
   "execution_count": 279,
   "metadata": {},
   "outputs": [
    {
     "data": {
      "text/plain": [
       "step              0\n",
       "type              0\n",
       "amount            0\n",
       "nameOrig          0\n",
       "oldbalanceOrg     0\n",
       "newbalanceOrig    0\n",
       "nameDest          0\n",
       "oldbalanceDest    0\n",
       "newbalanceDest    0\n",
       "isFraud           0\n",
       "isFlaggedFraud    0\n",
       "dtype: int64"
      ]
     },
     "execution_count": 279,
     "metadata": {},
     "output_type": "execute_result"
    }
   ],
   "source": [
    "# Your code here\n",
    "fraud.isna().sum()"
   ]
  },
  {
   "cell_type": "code",
   "execution_count": 280,
   "metadata": {},
   "outputs": [
    {
     "data": {
      "text/plain": [
       "step                int64\n",
       "type               object\n",
       "amount            float64\n",
       "nameOrig           object\n",
       "oldbalanceOrg     float64\n",
       "newbalanceOrig    float64\n",
       "nameDest           object\n",
       "oldbalanceDest    float64\n",
       "newbalanceDest    float64\n",
       "isFraud             int64\n",
       "isFlaggedFraud      int64\n",
       "dtype: object"
      ]
     },
     "execution_count": 280,
     "metadata": {},
     "output_type": "execute_result"
    }
   ],
   "source": [
    "fraud.dtypes"
   ]
  },
  {
   "cell_type": "code",
   "execution_count": 281,
   "metadata": {},
   "outputs": [
    {
     "data": {
      "text/html": [
       "<div>\n",
       "<style scoped>\n",
       "    .dataframe tbody tr th:only-of-type {\n",
       "        vertical-align: middle;\n",
       "    }\n",
       "\n",
       "    .dataframe tbody tr th {\n",
       "        vertical-align: top;\n",
       "    }\n",
       "\n",
       "    .dataframe thead th {\n",
       "        text-align: right;\n",
       "    }\n",
       "</style>\n",
       "<table border=\"1\" class=\"dataframe\">\n",
       "  <thead>\n",
       "    <tr style=\"text-align: right;\">\n",
       "      <th></th>\n",
       "      <th>step</th>\n",
       "      <th>type</th>\n",
       "      <th>amount</th>\n",
       "      <th>nameOrig</th>\n",
       "      <th>oldbalanceOrg</th>\n",
       "      <th>newbalanceOrig</th>\n",
       "      <th>nameDest</th>\n",
       "      <th>oldbalanceDest</th>\n",
       "      <th>newbalanceDest</th>\n",
       "      <th>isFraud</th>\n",
       "      <th>isFlaggedFraud</th>\n",
       "      <th>typeOrigAccount</th>\n",
       "      <th>typeDestAccount</th>\n",
       "    </tr>\n",
       "  </thead>\n",
       "  <tbody>\n",
       "    <tr>\n",
       "      <th>5225812</th>\n",
       "      <td>370</td>\n",
       "      <td>PAYMENT</td>\n",
       "      <td>6787.15</td>\n",
       "      <td>C1333938858</td>\n",
       "      <td>5051.00</td>\n",
       "      <td>0.00</td>\n",
       "      <td>M1147989472</td>\n",
       "      <td>0.00</td>\n",
       "      <td>0.00</td>\n",
       "      <td>0</td>\n",
       "      <td>0</td>\n",
       "      <td>C</td>\n",
       "      <td>M</td>\n",
       "    </tr>\n",
       "    <tr>\n",
       "      <th>321637</th>\n",
       "      <td>16</td>\n",
       "      <td>CASH_IN</td>\n",
       "      <td>4181.73</td>\n",
       "      <td>C774301459</td>\n",
       "      <td>17582760.43</td>\n",
       "      <td>17586942.16</td>\n",
       "      <td>C1027072502</td>\n",
       "      <td>16780.52</td>\n",
       "      <td>0.00</td>\n",
       "      <td>0</td>\n",
       "      <td>0</td>\n",
       "      <td>C</td>\n",
       "      <td>C</td>\n",
       "    </tr>\n",
       "    <tr>\n",
       "      <th>4310737</th>\n",
       "      <td>308</td>\n",
       "      <td>CASH_OUT</td>\n",
       "      <td>97785.77</td>\n",
       "      <td>C1747795955</td>\n",
       "      <td>62462.45</td>\n",
       "      <td>0.00</td>\n",
       "      <td>C1443280684</td>\n",
       "      <td>219297.38</td>\n",
       "      <td>317083.15</td>\n",
       "      <td>0</td>\n",
       "      <td>0</td>\n",
       "      <td>C</td>\n",
       "      <td>C</td>\n",
       "    </tr>\n",
       "    <tr>\n",
       "      <th>5633200</th>\n",
       "      <td>395</td>\n",
       "      <td>CASH_IN</td>\n",
       "      <td>71113.23</td>\n",
       "      <td>C1300350475</td>\n",
       "      <td>27875433.32</td>\n",
       "      <td>27946546.55</td>\n",
       "      <td>C948711121</td>\n",
       "      <td>2234377.93</td>\n",
       "      <td>2163264.70</td>\n",
       "      <td>0</td>\n",
       "      <td>0</td>\n",
       "      <td>C</td>\n",
       "      <td>C</td>\n",
       "    </tr>\n",
       "    <tr>\n",
       "      <th>2173588</th>\n",
       "      <td>185</td>\n",
       "      <td>CASH_OUT</td>\n",
       "      <td>22087.52</td>\n",
       "      <td>C1813459078</td>\n",
       "      <td>0.00</td>\n",
       "      <td>0.00</td>\n",
       "      <td>C1658545652</td>\n",
       "      <td>30397.13</td>\n",
       "      <td>52484.66</td>\n",
       "      <td>0</td>\n",
       "      <td>0</td>\n",
       "      <td>C</td>\n",
       "      <td>C</td>\n",
       "    </tr>\n",
       "  </tbody>\n",
       "</table>\n",
       "</div>"
      ],
      "text/plain": [
       "         step      type    amount     nameOrig  oldbalanceOrg  newbalanceOrig  \\\n",
       "5225812   370   PAYMENT   6787.15  C1333938858        5051.00            0.00   \n",
       "321637     16   CASH_IN   4181.73   C774301459    17582760.43     17586942.16   \n",
       "4310737   308  CASH_OUT  97785.77  C1747795955       62462.45            0.00   \n",
       "5633200   395   CASH_IN  71113.23  C1300350475    27875433.32     27946546.55   \n",
       "2173588   185  CASH_OUT  22087.52  C1813459078           0.00            0.00   \n",
       "\n",
       "            nameDest  oldbalanceDest  newbalanceDest  isFraud  isFlaggedFraud  \\\n",
       "5225812  M1147989472            0.00            0.00        0               0   \n",
       "321637   C1027072502        16780.52            0.00        0               0   \n",
       "4310737  C1443280684       219297.38       317083.15        0               0   \n",
       "5633200   C948711121      2234377.93      2163264.70        0               0   \n",
       "2173588  C1658545652        30397.13        52484.66        0               0   \n",
       "\n",
       "        typeOrigAccount typeDestAccount  \n",
       "5225812               C               M  \n",
       "321637                C               C  \n",
       "4310737               C               C  \n",
       "5633200               C               C  \n",
       "2173588               C               C  "
      ]
     },
     "execution_count": 281,
     "metadata": {},
     "output_type": "execute_result"
    }
   ],
   "source": [
    "fraud['typeOrigAccount'] = fraud['nameOrig'].str[0]\n",
    "fraud['typeDestAccount'] = fraud['nameDest'].str[0]\n",
    "fraud.head()"
   ]
  },
  {
   "cell_type": "code",
   "execution_count": 282,
   "metadata": {},
   "outputs": [
    {
     "data": {
      "text/plain": [
       "array(['C'], dtype=object)"
      ]
     },
     "execution_count": 282,
     "metadata": {},
     "output_type": "execute_result"
    }
   ],
   "source": [
    "fraud['typeOrigAccount'].unique()"
   ]
  },
  {
   "cell_type": "code",
   "execution_count": 283,
   "metadata": {},
   "outputs": [
    {
     "data": {
      "text/plain": [
       "array(['M', 'C'], dtype=object)"
      ]
     },
     "execution_count": 283,
     "metadata": {},
     "output_type": "execute_result"
    }
   ],
   "source": [
    "fraud['typeDestAccount'].unique()"
   ]
  },
  {
   "cell_type": "code",
   "execution_count": 284,
   "metadata": {},
   "outputs": [],
   "source": [
    "fraud = fraud.drop(['typeOrigAccount','nameOrig'], axis =1)"
   ]
  },
  {
   "cell_type": "code",
   "execution_count": 285,
   "metadata": {},
   "outputs": [
    {
     "data": {
      "text/html": [
       "<div>\n",
       "<style scoped>\n",
       "    .dataframe tbody tr th:only-of-type {\n",
       "        vertical-align: middle;\n",
       "    }\n",
       "\n",
       "    .dataframe tbody tr th {\n",
       "        vertical-align: top;\n",
       "    }\n",
       "\n",
       "    .dataframe thead th {\n",
       "        text-align: right;\n",
       "    }\n",
       "</style>\n",
       "<table border=\"1\" class=\"dataframe\">\n",
       "  <thead>\n",
       "    <tr style=\"text-align: right;\">\n",
       "      <th></th>\n",
       "      <th>step</th>\n",
       "      <th>type</th>\n",
       "      <th>amount</th>\n",
       "      <th>oldbalanceOrg</th>\n",
       "      <th>newbalanceOrig</th>\n",
       "      <th>nameDest</th>\n",
       "      <th>oldbalanceDest</th>\n",
       "      <th>newbalanceDest</th>\n",
       "      <th>isFraud</th>\n",
       "      <th>isFlaggedFraud</th>\n",
       "      <th>typeDestAccount</th>\n",
       "    </tr>\n",
       "  </thead>\n",
       "  <tbody>\n",
       "    <tr>\n",
       "      <th>5225812</th>\n",
       "      <td>370</td>\n",
       "      <td>PAYMENT</td>\n",
       "      <td>6787.15</td>\n",
       "      <td>5051.00</td>\n",
       "      <td>0.00</td>\n",
       "      <td>M1147989472</td>\n",
       "      <td>0.00</td>\n",
       "      <td>0.00</td>\n",
       "      <td>0</td>\n",
       "      <td>0</td>\n",
       "      <td>M</td>\n",
       "    </tr>\n",
       "    <tr>\n",
       "      <th>321637</th>\n",
       "      <td>16</td>\n",
       "      <td>CASH_IN</td>\n",
       "      <td>4181.73</td>\n",
       "      <td>17582760.43</td>\n",
       "      <td>17586942.16</td>\n",
       "      <td>C1027072502</td>\n",
       "      <td>16780.52</td>\n",
       "      <td>0.00</td>\n",
       "      <td>0</td>\n",
       "      <td>0</td>\n",
       "      <td>C</td>\n",
       "    </tr>\n",
       "    <tr>\n",
       "      <th>4310737</th>\n",
       "      <td>308</td>\n",
       "      <td>CASH_OUT</td>\n",
       "      <td>97785.77</td>\n",
       "      <td>62462.45</td>\n",
       "      <td>0.00</td>\n",
       "      <td>C1443280684</td>\n",
       "      <td>219297.38</td>\n",
       "      <td>317083.15</td>\n",
       "      <td>0</td>\n",
       "      <td>0</td>\n",
       "      <td>C</td>\n",
       "    </tr>\n",
       "    <tr>\n",
       "      <th>5633200</th>\n",
       "      <td>395</td>\n",
       "      <td>CASH_IN</td>\n",
       "      <td>71113.23</td>\n",
       "      <td>27875433.32</td>\n",
       "      <td>27946546.55</td>\n",
       "      <td>C948711121</td>\n",
       "      <td>2234377.93</td>\n",
       "      <td>2163264.70</td>\n",
       "      <td>0</td>\n",
       "      <td>0</td>\n",
       "      <td>C</td>\n",
       "    </tr>\n",
       "    <tr>\n",
       "      <th>2173588</th>\n",
       "      <td>185</td>\n",
       "      <td>CASH_OUT</td>\n",
       "      <td>22087.52</td>\n",
       "      <td>0.00</td>\n",
       "      <td>0.00</td>\n",
       "      <td>C1658545652</td>\n",
       "      <td>30397.13</td>\n",
       "      <td>52484.66</td>\n",
       "      <td>0</td>\n",
       "      <td>0</td>\n",
       "      <td>C</td>\n",
       "    </tr>\n",
       "  </tbody>\n",
       "</table>\n",
       "</div>"
      ],
      "text/plain": [
       "         step      type    amount  oldbalanceOrg  newbalanceOrig     nameDest  \\\n",
       "5225812   370   PAYMENT   6787.15        5051.00            0.00  M1147989472   \n",
       "321637     16   CASH_IN   4181.73    17582760.43     17586942.16  C1027072502   \n",
       "4310737   308  CASH_OUT  97785.77       62462.45            0.00  C1443280684   \n",
       "5633200   395   CASH_IN  71113.23    27875433.32     27946546.55   C948711121   \n",
       "2173588   185  CASH_OUT  22087.52           0.00            0.00  C1658545652   \n",
       "\n",
       "         oldbalanceDest  newbalanceDest  isFraud  isFlaggedFraud  \\\n",
       "5225812            0.00            0.00        0               0   \n",
       "321637         16780.52            0.00        0               0   \n",
       "4310737       219297.38       317083.15        0               0   \n",
       "5633200      2234377.93      2163264.70        0               0   \n",
       "2173588        30397.13        52484.66        0               0   \n",
       "\n",
       "        typeDestAccount  \n",
       "5225812               M  \n",
       "321637                C  \n",
       "4310737               C  \n",
       "5633200               C  \n",
       "2173588               C  "
      ]
     },
     "execution_count": 285,
     "metadata": {},
     "output_type": "execute_result"
    }
   ],
   "source": [
    "fraud.head()"
   ]
  },
  {
   "cell_type": "code",
   "execution_count": 286,
   "metadata": {},
   "outputs": [
    {
     "data": {
      "text/html": [
       "<div>\n",
       "<style scoped>\n",
       "    .dataframe tbody tr th:only-of-type {\n",
       "        vertical-align: middle;\n",
       "    }\n",
       "\n",
       "    .dataframe tbody tr th {\n",
       "        vertical-align: top;\n",
       "    }\n",
       "\n",
       "    .dataframe thead th {\n",
       "        text-align: right;\n",
       "    }\n",
       "</style>\n",
       "<table border=\"1\" class=\"dataframe\">\n",
       "  <thead>\n",
       "    <tr style=\"text-align: right;\">\n",
       "      <th></th>\n",
       "      <th>step</th>\n",
       "      <th>type</th>\n",
       "      <th>amount</th>\n",
       "      <th>oldbalanceOrg</th>\n",
       "      <th>newbalanceOrig</th>\n",
       "      <th>nameDest</th>\n",
       "      <th>oldbalanceDest</th>\n",
       "      <th>newbalanceDest</th>\n",
       "      <th>isFraud</th>\n",
       "      <th>isFlaggedFraud</th>\n",
       "      <th>CustomerDestAccount</th>\n",
       "    </tr>\n",
       "  </thead>\n",
       "  <tbody>\n",
       "    <tr>\n",
       "      <th>5225812</th>\n",
       "      <td>370</td>\n",
       "      <td>PAYMENT</td>\n",
       "      <td>6787.15</td>\n",
       "      <td>5051.00</td>\n",
       "      <td>0.00</td>\n",
       "      <td>M1147989472</td>\n",
       "      <td>0.00</td>\n",
       "      <td>0.00</td>\n",
       "      <td>0</td>\n",
       "      <td>0</td>\n",
       "      <td>0</td>\n",
       "    </tr>\n",
       "    <tr>\n",
       "      <th>321637</th>\n",
       "      <td>16</td>\n",
       "      <td>CASH_IN</td>\n",
       "      <td>4181.73</td>\n",
       "      <td>17582760.43</td>\n",
       "      <td>17586942.16</td>\n",
       "      <td>C1027072502</td>\n",
       "      <td>16780.52</td>\n",
       "      <td>0.00</td>\n",
       "      <td>0</td>\n",
       "      <td>0</td>\n",
       "      <td>1</td>\n",
       "    </tr>\n",
       "    <tr>\n",
       "      <th>4310737</th>\n",
       "      <td>308</td>\n",
       "      <td>CASH_OUT</td>\n",
       "      <td>97785.77</td>\n",
       "      <td>62462.45</td>\n",
       "      <td>0.00</td>\n",
       "      <td>C1443280684</td>\n",
       "      <td>219297.38</td>\n",
       "      <td>317083.15</td>\n",
       "      <td>0</td>\n",
       "      <td>0</td>\n",
       "      <td>1</td>\n",
       "    </tr>\n",
       "    <tr>\n",
       "      <th>5633200</th>\n",
       "      <td>395</td>\n",
       "      <td>CASH_IN</td>\n",
       "      <td>71113.23</td>\n",
       "      <td>27875433.32</td>\n",
       "      <td>27946546.55</td>\n",
       "      <td>C948711121</td>\n",
       "      <td>2234377.93</td>\n",
       "      <td>2163264.70</td>\n",
       "      <td>0</td>\n",
       "      <td>0</td>\n",
       "      <td>1</td>\n",
       "    </tr>\n",
       "    <tr>\n",
       "      <th>2173588</th>\n",
       "      <td>185</td>\n",
       "      <td>CASH_OUT</td>\n",
       "      <td>22087.52</td>\n",
       "      <td>0.00</td>\n",
       "      <td>0.00</td>\n",
       "      <td>C1658545652</td>\n",
       "      <td>30397.13</td>\n",
       "      <td>52484.66</td>\n",
       "      <td>0</td>\n",
       "      <td>0</td>\n",
       "      <td>1</td>\n",
       "    </tr>\n",
       "  </tbody>\n",
       "</table>\n",
       "</div>"
      ],
      "text/plain": [
       "         step      type    amount  oldbalanceOrg  newbalanceOrig     nameDest  \\\n",
       "5225812   370   PAYMENT   6787.15        5051.00            0.00  M1147989472   \n",
       "321637     16   CASH_IN   4181.73    17582760.43     17586942.16  C1027072502   \n",
       "4310737   308  CASH_OUT  97785.77       62462.45            0.00  C1443280684   \n",
       "5633200   395   CASH_IN  71113.23    27875433.32     27946546.55   C948711121   \n",
       "2173588   185  CASH_OUT  22087.52           0.00            0.00  C1658545652   \n",
       "\n",
       "         oldbalanceDest  newbalanceDest  isFraud  isFlaggedFraud  \\\n",
       "5225812            0.00            0.00        0               0   \n",
       "321637         16780.52            0.00        0               0   \n",
       "4310737       219297.38       317083.15        0               0   \n",
       "5633200      2234377.93      2163264.70        0               0   \n",
       "2173588        30397.13        52484.66        0               0   \n",
       "\n",
       "        CustomerDestAccount  \n",
       "5225812                   0  \n",
       "321637                    1  \n",
       "4310737                   1  \n",
       "5633200                   1  \n",
       "2173588                   1  "
      ]
     },
     "execution_count": 286,
     "metadata": {},
     "output_type": "execute_result"
    }
   ],
   "source": [
    "fraud.loc[fraud['typeDestAccount'] == 'C', 'CustomerDestAccount'] = '1'\n",
    "fraud.loc[fraud['typeDestAccount'] != 'C', 'CustomerDestAccount'] = '0'\n",
    "fraud = fraud.drop(['typeDestAccount'], axis =1)\n",
    "fraud.head()"
   ]
  },
  {
   "cell_type": "code",
   "execution_count": 287,
   "metadata": {},
   "outputs": [
    {
     "data": {
      "text/html": [
       "<div>\n",
       "<style scoped>\n",
       "    .dataframe tbody tr th:only-of-type {\n",
       "        vertical-align: middle;\n",
       "    }\n",
       "\n",
       "    .dataframe tbody tr th {\n",
       "        vertical-align: top;\n",
       "    }\n",
       "\n",
       "    .dataframe thead th {\n",
       "        text-align: right;\n",
       "    }\n",
       "</style>\n",
       "<table border=\"1\" class=\"dataframe\">\n",
       "  <thead>\n",
       "    <tr style=\"text-align: right;\">\n",
       "      <th></th>\n",
       "      <th>step</th>\n",
       "      <th>type</th>\n",
       "      <th>amount</th>\n",
       "      <th>oldbalanceOrg</th>\n",
       "      <th>newbalanceOrig</th>\n",
       "      <th>nameDest</th>\n",
       "      <th>oldbalanceDest</th>\n",
       "      <th>newbalanceDest</th>\n",
       "      <th>isFraud</th>\n",
       "      <th>isFlaggedFraud</th>\n",
       "      <th>CustomerDestAccount</th>\n",
       "    </tr>\n",
       "  </thead>\n",
       "  <tbody>\n",
       "    <tr>\n",
       "      <th>2516796</th>\n",
       "      <td>205</td>\n",
       "      <td>TRANSFER</td>\n",
       "      <td>566156.42</td>\n",
       "      <td>566156.42</td>\n",
       "      <td>0.0</td>\n",
       "      <td>C1639518321</td>\n",
       "      <td>0.00</td>\n",
       "      <td>0.00</td>\n",
       "      <td>1</td>\n",
       "      <td>0</td>\n",
       "      <td>1</td>\n",
       "    </tr>\n",
       "    <tr>\n",
       "      <th>6040171</th>\n",
       "      <td>487</td>\n",
       "      <td>CASH_OUT</td>\n",
       "      <td>1610110.66</td>\n",
       "      <td>1610110.66</td>\n",
       "      <td>0.0</td>\n",
       "      <td>C1866292696</td>\n",
       "      <td>17821.53</td>\n",
       "      <td>1627932.20</td>\n",
       "      <td>1</td>\n",
       "      <td>0</td>\n",
       "      <td>1</td>\n",
       "    </tr>\n",
       "    <tr>\n",
       "      <th>3192128</th>\n",
       "      <td>241</td>\n",
       "      <td>CASH_OUT</td>\n",
       "      <td>989966.55</td>\n",
       "      <td>989966.55</td>\n",
       "      <td>0.0</td>\n",
       "      <td>C1485453615</td>\n",
       "      <td>0.00</td>\n",
       "      <td>989966.55</td>\n",
       "      <td>1</td>\n",
       "      <td>0</td>\n",
       "      <td>1</td>\n",
       "    </tr>\n",
       "    <tr>\n",
       "      <th>3039581</th>\n",
       "      <td>234</td>\n",
       "      <td>CASH_OUT</td>\n",
       "      <td>120385.10</td>\n",
       "      <td>120385.10</td>\n",
       "      <td>0.0</td>\n",
       "      <td>C1596015733</td>\n",
       "      <td>0.00</td>\n",
       "      <td>120385.10</td>\n",
       "      <td>1</td>\n",
       "      <td>0</td>\n",
       "      <td>1</td>\n",
       "    </tr>\n",
       "    <tr>\n",
       "      <th>5724272</th>\n",
       "      <td>398</td>\n",
       "      <td>CASH_OUT</td>\n",
       "      <td>10000000.00</td>\n",
       "      <td>10000000.00</td>\n",
       "      <td>0.0</td>\n",
       "      <td>C2129872070</td>\n",
       "      <td>2246.43</td>\n",
       "      <td>10002246.43</td>\n",
       "      <td>1</td>\n",
       "      <td>0</td>\n",
       "      <td>1</td>\n",
       "    </tr>\n",
       "  </tbody>\n",
       "</table>\n",
       "</div>"
      ],
      "text/plain": [
       "         step      type       amount  oldbalanceOrg  newbalanceOrig  \\\n",
       "2516796   205  TRANSFER    566156.42      566156.42             0.0   \n",
       "6040171   487  CASH_OUT   1610110.66     1610110.66             0.0   \n",
       "3192128   241  CASH_OUT    989966.55      989966.55             0.0   \n",
       "3039581   234  CASH_OUT    120385.10      120385.10             0.0   \n",
       "5724272   398  CASH_OUT  10000000.00    10000000.00             0.0   \n",
       "\n",
       "            nameDest  oldbalanceDest  newbalanceDest  isFraud  isFlaggedFraud  \\\n",
       "2516796  C1639518321            0.00            0.00        1               0   \n",
       "6040171  C1866292696        17821.53      1627932.20        1               0   \n",
       "3192128  C1485453615            0.00       989966.55        1               0   \n",
       "3039581  C1596015733            0.00       120385.10        1               0   \n",
       "5724272  C2129872070         2246.43     10002246.43        1               0   \n",
       "\n",
       "        CustomerDestAccount  \n",
       "2516796                   1  \n",
       "6040171                   1  \n",
       "3192128                   1  \n",
       "3039581                   1  \n",
       "5724272                   1  "
      ]
     },
     "execution_count": 287,
     "metadata": {},
     "output_type": "execute_result"
    }
   ],
   "source": [
    "fraud_yes = fraud[fraud['isFraud']==1]\n",
    "fraud_yes.head(5)"
   ]
  },
  {
   "cell_type": "code",
   "execution_count": 288,
   "metadata": {},
   "outputs": [
    {
     "data": {
      "text/plain": [
       "0.00           1284\n",
       "11343002.08       1\n",
       "7670038.08        1\n",
       "32542664.27       1\n",
       "298767.61         1\n",
       "1975271.77        1\n",
       "23576297.10       1\n",
       "12625132.51       1\n",
       "9295454.24        1\n",
       "1810044.85        1\n",
       "20353874.22       1\n",
       "8931607.89        1\n",
       "17316255.05       1\n",
       "6468916.64        1\n",
       "4953893.08        1\n",
       "5274773.52        1\n",
       "2113271.99        1\n",
       "3020974.53        1\n",
       "27316255.05       1\n",
       "5912204.00        1\n",
       "3576297.10        1\n",
       "6250438.78        1\n",
       "6580427.81        1\n",
       "35674547.89       1\n",
       "2772043.90        1\n",
       "30399045.08       1\n",
       "47316255.05       1\n",
       "2321633.57        1\n",
       "Name: newbalanceOrig, dtype: int64"
      ]
     },
     "execution_count": 288,
     "metadata": {},
     "output_type": "execute_result"
    }
   ],
   "source": [
    "fraud_yes['newbalanceOrig'].value_counts()"
   ]
  },
  {
   "cell_type": "code",
   "execution_count": 289,
   "metadata": {},
   "outputs": [
    {
     "data": {
      "text/plain": [
       "TRANSFER    657\n",
       "CASH_OUT    654\n",
       "Name: type, dtype: int64"
      ]
     },
     "execution_count": 289,
     "metadata": {},
     "output_type": "execute_result"
    }
   ],
   "source": [
    "fraud_yes['type'].value_counts()"
   ]
  },
  {
   "cell_type": "code",
   "execution_count": 290,
   "metadata": {},
   "outputs": [
    {
     "name": "stderr",
     "output_type": "stream",
     "text": [
      "C:\\Users\\Javier\\miniconda3\\lib\\site-packages\\ipykernel_launcher.py:2: SettingWithCopyWarning: \n",
      "A value is trying to be set on a copy of a slice from a DataFrame\n",
      "\n",
      "See the caveats in the documentation: https://pandas.pydata.org/pandas-docs/stable/user_guide/indexing.html#returning-a-view-versus-a-copy\n",
      "  \n"
     ]
    }
   ],
   "source": [
    "fraud['emptied_account'] = 0\n",
    "fraud['emptied_account'][fraud['newbalanceOrig'] == 0] = 1"
   ]
  },
  {
   "cell_type": "code",
   "execution_count": 291,
   "metadata": {},
   "outputs": [
    {
     "data": {
      "text/html": [
       "<div>\n",
       "<style scoped>\n",
       "    .dataframe tbody tr th:only-of-type {\n",
       "        vertical-align: middle;\n",
       "    }\n",
       "\n",
       "    .dataframe tbody tr th {\n",
       "        vertical-align: top;\n",
       "    }\n",
       "\n",
       "    .dataframe thead th {\n",
       "        text-align: right;\n",
       "    }\n",
       "</style>\n",
       "<table border=\"1\" class=\"dataframe\">\n",
       "  <thead>\n",
       "    <tr style=\"text-align: right;\">\n",
       "      <th></th>\n",
       "      <th>step</th>\n",
       "      <th>type</th>\n",
       "      <th>amount</th>\n",
       "      <th>oldbalanceOrg</th>\n",
       "      <th>newbalanceOrig</th>\n",
       "      <th>nameDest</th>\n",
       "      <th>oldbalanceDest</th>\n",
       "      <th>newbalanceDest</th>\n",
       "      <th>isFraud</th>\n",
       "      <th>isFlaggedFraud</th>\n",
       "      <th>CustomerDestAccount</th>\n",
       "      <th>emptied_account</th>\n",
       "    </tr>\n",
       "  </thead>\n",
       "  <tbody>\n",
       "    <tr>\n",
       "      <th>5225812</th>\n",
       "      <td>370</td>\n",
       "      <td>PAYMENT</td>\n",
       "      <td>6787.15</td>\n",
       "      <td>5051.00</td>\n",
       "      <td>0.00</td>\n",
       "      <td>M1147989472</td>\n",
       "      <td>0.00</td>\n",
       "      <td>0.00</td>\n",
       "      <td>0</td>\n",
       "      <td>0</td>\n",
       "      <td>0</td>\n",
       "      <td>1</td>\n",
       "    </tr>\n",
       "    <tr>\n",
       "      <th>321637</th>\n",
       "      <td>16</td>\n",
       "      <td>CASH_IN</td>\n",
       "      <td>4181.73</td>\n",
       "      <td>17582760.43</td>\n",
       "      <td>17586942.16</td>\n",
       "      <td>C1027072502</td>\n",
       "      <td>16780.52</td>\n",
       "      <td>0.00</td>\n",
       "      <td>0</td>\n",
       "      <td>0</td>\n",
       "      <td>1</td>\n",
       "      <td>0</td>\n",
       "    </tr>\n",
       "    <tr>\n",
       "      <th>4310737</th>\n",
       "      <td>308</td>\n",
       "      <td>CASH_OUT</td>\n",
       "      <td>97785.77</td>\n",
       "      <td>62462.45</td>\n",
       "      <td>0.00</td>\n",
       "      <td>C1443280684</td>\n",
       "      <td>219297.38</td>\n",
       "      <td>317083.15</td>\n",
       "      <td>0</td>\n",
       "      <td>0</td>\n",
       "      <td>1</td>\n",
       "      <td>1</td>\n",
       "    </tr>\n",
       "    <tr>\n",
       "      <th>5633200</th>\n",
       "      <td>395</td>\n",
       "      <td>CASH_IN</td>\n",
       "      <td>71113.23</td>\n",
       "      <td>27875433.32</td>\n",
       "      <td>27946546.55</td>\n",
       "      <td>C948711121</td>\n",
       "      <td>2234377.93</td>\n",
       "      <td>2163264.70</td>\n",
       "      <td>0</td>\n",
       "      <td>0</td>\n",
       "      <td>1</td>\n",
       "      <td>0</td>\n",
       "    </tr>\n",
       "    <tr>\n",
       "      <th>2173588</th>\n",
       "      <td>185</td>\n",
       "      <td>CASH_OUT</td>\n",
       "      <td>22087.52</td>\n",
       "      <td>0.00</td>\n",
       "      <td>0.00</td>\n",
       "      <td>C1658545652</td>\n",
       "      <td>30397.13</td>\n",
       "      <td>52484.66</td>\n",
       "      <td>0</td>\n",
       "      <td>0</td>\n",
       "      <td>1</td>\n",
       "      <td>1</td>\n",
       "    </tr>\n",
       "  </tbody>\n",
       "</table>\n",
       "</div>"
      ],
      "text/plain": [
       "         step      type    amount  oldbalanceOrg  newbalanceOrig     nameDest  \\\n",
       "5225812   370   PAYMENT   6787.15        5051.00            0.00  M1147989472   \n",
       "321637     16   CASH_IN   4181.73    17582760.43     17586942.16  C1027072502   \n",
       "4310737   308  CASH_OUT  97785.77       62462.45            0.00  C1443280684   \n",
       "5633200   395   CASH_IN  71113.23    27875433.32     27946546.55   C948711121   \n",
       "2173588   185  CASH_OUT  22087.52           0.00            0.00  C1658545652   \n",
       "\n",
       "         oldbalanceDest  newbalanceDest  isFraud  isFlaggedFraud  \\\n",
       "5225812            0.00            0.00        0               0   \n",
       "321637         16780.52            0.00        0               0   \n",
       "4310737       219297.38       317083.15        0               0   \n",
       "5633200      2234377.93      2163264.70        0               0   \n",
       "2173588        30397.13        52484.66        0               0   \n",
       "\n",
       "        CustomerDestAccount  emptied_account  \n",
       "5225812                   0                1  \n",
       "321637                    1                0  \n",
       "4310737                   1                1  \n",
       "5633200                   1                0  \n",
       "2173588                   1                1  "
      ]
     },
     "execution_count": 291,
     "metadata": {},
     "output_type": "execute_result"
    }
   ],
   "source": [
    "fraud.head(5)"
   ]
  },
  {
   "cell_type": "code",
   "execution_count": 292,
   "metadata": {},
   "outputs": [
    {
     "data": {
      "text/html": [
       "<div>\n",
       "<style scoped>\n",
       "    .dataframe tbody tr th:only-of-type {\n",
       "        vertical-align: middle;\n",
       "    }\n",
       "\n",
       "    .dataframe tbody tr th {\n",
       "        vertical-align: top;\n",
       "    }\n",
       "\n",
       "    .dataframe thead th {\n",
       "        text-align: right;\n",
       "    }\n",
       "</style>\n",
       "<table border=\"1\" class=\"dataframe\">\n",
       "  <thead>\n",
       "    <tr style=\"text-align: right;\">\n",
       "      <th></th>\n",
       "      <th>step</th>\n",
       "      <th>amount</th>\n",
       "      <th>oldbalanceOrg</th>\n",
       "      <th>newbalanceOrig</th>\n",
       "      <th>oldbalanceDest</th>\n",
       "      <th>newbalanceDest</th>\n",
       "      <th>isFraud</th>\n",
       "      <th>isFlaggedFraud</th>\n",
       "      <th>emptied_account</th>\n",
       "    </tr>\n",
       "  </thead>\n",
       "  <tbody>\n",
       "    <tr>\n",
       "      <th>step</th>\n",
       "      <td>1.000000</td>\n",
       "      <td>0.022056</td>\n",
       "      <td>-0.009183</td>\n",
       "      <td>-0.009443</td>\n",
       "      <td>0.028400</td>\n",
       "      <td>0.026401</td>\n",
       "      <td>0.031523</td>\n",
       "      <td>0.003108</td>\n",
       "      <td>0.007285</td>\n",
       "    </tr>\n",
       "    <tr>\n",
       "      <th>amount</th>\n",
       "      <td>0.022056</td>\n",
       "      <td>1.000000</td>\n",
       "      <td>-0.001896</td>\n",
       "      <td>-0.007130</td>\n",
       "      <td>0.288198</td>\n",
       "      <td>0.454029</td>\n",
       "      <td>0.077346</td>\n",
       "      <td>0.017508</td>\n",
       "      <td>0.116814</td>\n",
       "    </tr>\n",
       "    <tr>\n",
       "      <th>oldbalanceOrg</th>\n",
       "      <td>-0.009183</td>\n",
       "      <td>-0.001896</td>\n",
       "      <td>1.000000</td>\n",
       "      <td>0.998797</td>\n",
       "      <td>0.065404</td>\n",
       "      <td>0.041263</td>\n",
       "      <td>0.010664</td>\n",
       "      <td>0.004648</td>\n",
       "      <td>-0.323101</td>\n",
       "    </tr>\n",
       "    <tr>\n",
       "      <th>newbalanceOrig</th>\n",
       "      <td>-0.009443</td>\n",
       "      <td>-0.007130</td>\n",
       "      <td>0.998797</td>\n",
       "      <td>1.000000</td>\n",
       "      <td>0.067008</td>\n",
       "      <td>0.041097</td>\n",
       "      <td>-0.007390</td>\n",
       "      <td>0.004580</td>\n",
       "      <td>-0.334251</td>\n",
       "    </tr>\n",
       "    <tr>\n",
       "      <th>oldbalanceDest</th>\n",
       "      <td>0.028400</td>\n",
       "      <td>0.288198</td>\n",
       "      <td>0.065404</td>\n",
       "      <td>0.067008</td>\n",
       "      <td>1.000000</td>\n",
       "      <td>0.976726</td>\n",
       "      <td>-0.007142</td>\n",
       "      <td>-0.000562</td>\n",
       "      <td>0.040263</td>\n",
       "    </tr>\n",
       "    <tr>\n",
       "      <th>newbalanceDest</th>\n",
       "      <td>0.026401</td>\n",
       "      <td>0.454029</td>\n",
       "      <td>0.041263</td>\n",
       "      <td>0.041097</td>\n",
       "      <td>0.976726</td>\n",
       "      <td>1.000000</td>\n",
       "      <td>-0.000734</td>\n",
       "      <td>-0.000580</td>\n",
       "      <td>0.078837</td>\n",
       "    </tr>\n",
       "    <tr>\n",
       "      <th>isFraud</th>\n",
       "      <td>0.031523</td>\n",
       "      <td>0.077346</td>\n",
       "      <td>0.010664</td>\n",
       "      <td>-0.007390</td>\n",
       "      <td>-0.007142</td>\n",
       "      <td>-0.000734</td>\n",
       "      <td>1.000000</td>\n",
       "      <td>0.047805</td>\n",
       "      <td>0.030117</td>\n",
       "    </tr>\n",
       "    <tr>\n",
       "      <th>isFlaggedFraud</th>\n",
       "      <td>0.003108</td>\n",
       "      <td>0.017508</td>\n",
       "      <td>0.004648</td>\n",
       "      <td>0.004580</td>\n",
       "      <td>-0.000562</td>\n",
       "      <td>-0.000580</td>\n",
       "      <td>0.047805</td>\n",
       "      <td>1.000000</td>\n",
       "      <td>-0.001984</td>\n",
       "    </tr>\n",
       "    <tr>\n",
       "      <th>emptied_account</th>\n",
       "      <td>0.007285</td>\n",
       "      <td>0.116814</td>\n",
       "      <td>-0.323101</td>\n",
       "      <td>-0.334251</td>\n",
       "      <td>0.040263</td>\n",
       "      <td>0.078837</td>\n",
       "      <td>0.030117</td>\n",
       "      <td>-0.001984</td>\n",
       "      <td>1.000000</td>\n",
       "    </tr>\n",
       "  </tbody>\n",
       "</table>\n",
       "</div>"
      ],
      "text/plain": [
       "                     step    amount  oldbalanceOrg  newbalanceOrig  \\\n",
       "step             1.000000  0.022056      -0.009183       -0.009443   \n",
       "amount           0.022056  1.000000      -0.001896       -0.007130   \n",
       "oldbalanceOrg   -0.009183 -0.001896       1.000000        0.998797   \n",
       "newbalanceOrig  -0.009443 -0.007130       0.998797        1.000000   \n",
       "oldbalanceDest   0.028400  0.288198       0.065404        0.067008   \n",
       "newbalanceDest   0.026401  0.454029       0.041263        0.041097   \n",
       "isFraud          0.031523  0.077346       0.010664       -0.007390   \n",
       "isFlaggedFraud   0.003108  0.017508       0.004648        0.004580   \n",
       "emptied_account  0.007285  0.116814      -0.323101       -0.334251   \n",
       "\n",
       "                 oldbalanceDest  newbalanceDest   isFraud  isFlaggedFraud  \\\n",
       "step                   0.028400        0.026401  0.031523        0.003108   \n",
       "amount                 0.288198        0.454029  0.077346        0.017508   \n",
       "oldbalanceOrg          0.065404        0.041263  0.010664        0.004648   \n",
       "newbalanceOrig         0.067008        0.041097 -0.007390        0.004580   \n",
       "oldbalanceDest         1.000000        0.976726 -0.007142       -0.000562   \n",
       "newbalanceDest         0.976726        1.000000 -0.000734       -0.000580   \n",
       "isFraud               -0.007142       -0.000734  1.000000        0.047805   \n",
       "isFlaggedFraud        -0.000562       -0.000580  0.047805        1.000000   \n",
       "emptied_account        0.040263        0.078837  0.030117       -0.001984   \n",
       "\n",
       "                 emptied_account  \n",
       "step                    0.007285  \n",
       "amount                  0.116814  \n",
       "oldbalanceOrg          -0.323101  \n",
       "newbalanceOrig         -0.334251  \n",
       "oldbalanceDest          0.040263  \n",
       "newbalanceDest          0.078837  \n",
       "isFraud                 0.030117  \n",
       "isFlaggedFraud         -0.001984  \n",
       "emptied_account         1.000000  "
      ]
     },
     "execution_count": 292,
     "metadata": {},
     "output_type": "execute_result"
    }
   ],
   "source": [
    "corr_matrix = fraud.corr()\n",
    "corr_matrix"
   ]
  },
  {
   "cell_type": "code",
   "execution_count": 293,
   "metadata": {},
   "outputs": [
    {
     "data": {
      "text/plain": [
       "<AxesSubplot:>"
      ]
     },
     "execution_count": 293,
     "metadata": {},
     "output_type": "execute_result"
    },
    {
     "data": {
      "image/png": "[encoded data removed]",
      "text/plain": [
       "<Figure size 1500x800 with 2 Axes>"
      ]
     },
     "metadata": {},
     "output_type": "display_data"
    }
   ],
   "source": [
    "import matplotlib.pyplot as plt\n",
    "import seaborn as sns\n",
    "\n",
    "sns.set(rc = {'figure.figsize':(15,8)})\n",
    "heat_map = sns.heatmap(corr_matrix,cmap = \"Blues\", annot = True)\n",
    "heat_map"
   ]
  },
  {
   "cell_type": "code",
   "execution_count": 294,
   "metadata": {},
   "outputs": [
    {
     "data": {
      "text/plain": [
       "CASH_OUT    351010\n",
       "PAYMENT     338323\n",
       "CASH_IN     219831\n",
       "TRANSFER     84296\n",
       "DEBIT         6540\n",
       "Name: type, dtype: int64"
      ]
     },
     "execution_count": 294,
     "metadata": {},
     "output_type": "execute_result"
    }
   ],
   "source": [
    "fraud['type'].value_counts()"
   ]
  },
  {
   "cell_type": "code",
   "execution_count": 295,
   "metadata": {},
   "outputs": [
    {
     "data": {
      "text/plain": [
       "Index(['step', 'type', 'amount', 'oldbalanceOrg', 'newbalanceOrig', 'nameDest',\n",
       "       'oldbalanceDest', 'newbalanceDest', 'isFraud', 'isFlaggedFraud',\n",
       "       'CustomerDestAccount', 'emptied_account'],\n",
       "      dtype='object')"
      ]
     },
     "execution_count": 295,
     "metadata": {},
     "output_type": "execute_result"
    }
   ],
   "source": [
    "fraud.columns"
   ]
  },
  {
   "cell_type": "code",
   "execution_count": 296,
   "metadata": {},
   "outputs": [
    {
     "data": {
      "text/html": [
       "<div>\n",
       "<style scoped>\n",
       "    .dataframe tbody tr th:only-of-type {\n",
       "        vertical-align: middle;\n",
       "    }\n",
       "\n",
       "    .dataframe tbody tr th {\n",
       "        vertical-align: top;\n",
       "    }\n",
       "\n",
       "    .dataframe thead th {\n",
       "        text-align: right;\n",
       "    }\n",
       "</style>\n",
       "<table border=\"1\" class=\"dataframe\">\n",
       "  <thead>\n",
       "    <tr style=\"text-align: right;\">\n",
       "      <th></th>\n",
       "      <th>type_CASH_IN</th>\n",
       "      <th>type_CASH_OUT</th>\n",
       "      <th>type_DEBIT</th>\n",
       "      <th>type_PAYMENT</th>\n",
       "      <th>type_TRANSFER</th>\n",
       "      <th>amount</th>\n",
       "      <th>oldbalanceOrg</th>\n",
       "      <th>newbalanceOrig</th>\n",
       "      <th>oldbalanceDest</th>\n",
       "      <th>newbalanceDest</th>\n",
       "      <th>isFraud</th>\n",
       "      <th>CustomerDestAccount</th>\n",
       "      <th>emptied_account</th>\n",
       "    </tr>\n",
       "  </thead>\n",
       "  <tbody>\n",
       "    <tr>\n",
       "      <th>5225812</th>\n",
       "      <td>0</td>\n",
       "      <td>0</td>\n",
       "      <td>0</td>\n",
       "      <td>1</td>\n",
       "      <td>0</td>\n",
       "      <td>6787.15</td>\n",
       "      <td>5051.0</td>\n",
       "      <td>0.0</td>\n",
       "      <td>0.0</td>\n",
       "      <td>0.0</td>\n",
       "      <td>0</td>\n",
       "      <td>0</td>\n",
       "      <td>1</td>\n",
       "    </tr>\n",
       "  </tbody>\n",
       "</table>\n",
       "</div>"
      ],
      "text/plain": [
       "         type_CASH_IN  type_CASH_OUT  type_DEBIT  type_PAYMENT  type_TRANSFER  \\\n",
       "5225812             0              0           0             1              0   \n",
       "\n",
       "          amount  oldbalanceOrg  newbalanceOrig  oldbalanceDest  \\\n",
       "5225812  6787.15         5051.0             0.0             0.0   \n",
       "\n",
       "         newbalanceDest  isFraud CustomerDestAccount  emptied_account  \n",
       "5225812             0.0        0                   0                1  "
      ]
     },
     "execution_count": 296,
     "metadata": {},
     "output_type": "execute_result"
    }
   ],
   "source": [
    "fraud = pd.concat([pd.get_dummies(fraud[['type']]), fraud[['amount', 'oldbalanceOrg', 'newbalanceOrig',\n",
    "       'oldbalanceDest', 'newbalanceDest', 'isFraud','CustomerDestAccount','emptied_account']]],axis=1)\n",
    "fraud.head(1)"
   ]
  },
  {
   "cell_type": "code",
   "execution_count": 297,
   "metadata": {},
   "outputs": [
    {
     "data": {
      "text/plain": [
       "type_CASH_IN             uint8\n",
       "type_CASH_OUT            uint8\n",
       "type_DEBIT               uint8\n",
       "type_PAYMENT             uint8\n",
       "type_TRANSFER            uint8\n",
       "amount                 float64\n",
       "oldbalanceOrg          float64\n",
       "newbalanceOrig         float64\n",
       "oldbalanceDest         float64\n",
       "newbalanceDest         float64\n",
       "isFraud                  int64\n",
       "CustomerDestAccount     object\n",
       "emptied_account          int64\n",
       "dtype: object"
      ]
     },
     "execution_count": 297,
     "metadata": {},
     "output_type": "execute_result"
    }
   ],
   "source": [
    "fraud.dtypes"
   ]
  },
  {
   "cell_type": "code",
   "execution_count": 298,
   "metadata": {},
   "outputs": [],
   "source": [
    "X = fraud.drop('isFraud',axis = 1)\n",
    "y = fraud['isFraud']"
   ]
  },
  {
   "cell_type": "code",
   "execution_count": 299,
   "metadata": {},
   "outputs": [],
   "source": [
    "from sklearn.model_selection import train_test_split\n",
    "X_train, X_test, y_train, y_test = train_test_split(X, y, random_state=0)"
   ]
  },
  {
   "cell_type": "markdown",
   "metadata": {},
   "source": [
    "### Run a logisitc regression classifier and evaluate its accuracy."
   ]
  },
  {
   "cell_type": "code",
   "execution_count": 300,
   "metadata": {},
   "outputs": [
    {
     "data": {
      "text/plain": [
       "0.997832"
      ]
     },
     "execution_count": 300,
     "metadata": {},
     "output_type": "execute_result"
    }
   ],
   "source": [
    "# Your code here\n",
    "from sklearn.linear_model import LogisticRegression\n",
    "\n",
    "fraud_model = LogisticRegression(max_iter=1000)\n",
    "fraud_model.fit(X_train, y_train)\n",
    "fraud_model.score(X_test, y_test)"
   ]
  },
  {
   "cell_type": "code",
   "execution_count": 301,
   "metadata": {},
   "outputs": [],
   "source": [
    "y_pred = fraud_model.predict(X_test)\n",
    "y_true = np.array(y_test)"
   ]
  },
  {
   "cell_type": "code",
   "execution_count": 302,
   "metadata": {},
   "outputs": [
    {
     "data": {
      "text/plain": [
       "array([[249204,    471],\n",
       "       [    71,    254]], dtype=int64)"
      ]
     },
     "execution_count": 302,
     "metadata": {},
     "output_type": "execute_result"
    }
   ],
   "source": [
    "from sklearn.metrics import confusion_matrix\n",
    "\n",
    "confusion_matrix(y_true, y_pred)"
   ]
  },
  {
   "cell_type": "code",
   "execution_count": 303,
   "metadata": {},
   "outputs": [
    {
     "name": "stdout",
     "output_type": "stream",
     "text": [
      "precision:  0.3503448275862069\n",
      "recall:  0.7815384615384615\n",
      "f1:  0.4838095238095238\n"
     ]
    }
   ],
   "source": [
    "from sklearn.metrics import precision_score\n",
    "from sklearn.metrics import recall_score\n",
    "from sklearn.metrics import f1_score\n",
    "\n",
    "\n",
    "\n",
    "print(\"precision: \",precision_score(y_test,y_pred))\n",
    "print(\"recall: \",recall_score(y_test,y_pred))\n",
    "print(\"f1: \",f1_score(y_test,y_pred))"
   ]
  },
  {
   "cell_type": "code",
   "execution_count": 304,
   "metadata": {},
   "outputs": [],
   "source": [
    "from sklearn.utils import resample"
   ]
  },
  {
   "cell_type": "code",
   "execution_count": 305,
   "metadata": {},
   "outputs": [
    {
     "data": {
      "text/plain": [
       "(750000, 13)"
      ]
     },
     "metadata": {},
     "output_type": "display_data"
    },
    {
     "data": {
      "text/html": [
       "<div>\n",
       "<style scoped>\n",
       "    .dataframe tbody tr th:only-of-type {\n",
       "        vertical-align: middle;\n",
       "    }\n",
       "\n",
       "    .dataframe tbody tr th {\n",
       "        vertical-align: top;\n",
       "    }\n",
       "\n",
       "    .dataframe thead th {\n",
       "        text-align: right;\n",
       "    }\n",
       "</style>\n",
       "<table border=\"1\" class=\"dataframe\">\n",
       "  <thead>\n",
       "    <tr style=\"text-align: right;\">\n",
       "      <th></th>\n",
       "      <th>type_CASH_IN</th>\n",
       "      <th>type_CASH_OUT</th>\n",
       "      <th>type_DEBIT</th>\n",
       "      <th>type_PAYMENT</th>\n",
       "      <th>type_TRANSFER</th>\n",
       "      <th>amount</th>\n",
       "      <th>oldbalanceOrg</th>\n",
       "      <th>newbalanceOrig</th>\n",
       "      <th>oldbalanceDest</th>\n",
       "      <th>newbalanceDest</th>\n",
       "      <th>CustomerDestAccount</th>\n",
       "      <th>emptied_account</th>\n",
       "      <th>isFraud</th>\n",
       "    </tr>\n",
       "  </thead>\n",
       "  <tbody>\n",
       "    <tr>\n",
       "      <th>1228879</th>\n",
       "      <td>1</td>\n",
       "      <td>0</td>\n",
       "      <td>0</td>\n",
       "      <td>0</td>\n",
       "      <td>0</td>\n",
       "      <td>92418.00</td>\n",
       "      <td>195000.00</td>\n",
       "      <td>287418.00</td>\n",
       "      <td>128704.11</td>\n",
       "      <td>36286.11</td>\n",
       "      <td>1</td>\n",
       "      <td>0</td>\n",
       "      <td>0</td>\n",
       "    </tr>\n",
       "    <tr>\n",
       "      <th>1504610</th>\n",
       "      <td>1</td>\n",
       "      <td>0</td>\n",
       "      <td>0</td>\n",
       "      <td>0</td>\n",
       "      <td>0</td>\n",
       "      <td>607391.56</td>\n",
       "      <td>10636443.27</td>\n",
       "      <td>11243834.83</td>\n",
       "      <td>2365647.15</td>\n",
       "      <td>1758255.59</td>\n",
       "      <td>1</td>\n",
       "      <td>0</td>\n",
       "      <td>0</td>\n",
       "    </tr>\n",
       "    <tr>\n",
       "      <th>4717191</th>\n",
       "      <td>0</td>\n",
       "      <td>0</td>\n",
       "      <td>0</td>\n",
       "      <td>1</td>\n",
       "      <td>0</td>\n",
       "      <td>12230.08</td>\n",
       "      <td>0.00</td>\n",
       "      <td>0.00</td>\n",
       "      <td>0.00</td>\n",
       "      <td>0.00</td>\n",
       "      <td>0</td>\n",
       "      <td>1</td>\n",
       "      <td>0</td>\n",
       "    </tr>\n",
       "    <tr>\n",
       "      <th>62525</th>\n",
       "      <td>1</td>\n",
       "      <td>0</td>\n",
       "      <td>0</td>\n",
       "      <td>0</td>\n",
       "      <td>0</td>\n",
       "      <td>149167.25</td>\n",
       "      <td>21251.00</td>\n",
       "      <td>170418.25</td>\n",
       "      <td>3160705.08</td>\n",
       "      <td>3464681.62</td>\n",
       "      <td>1</td>\n",
       "      <td>0</td>\n",
       "      <td>0</td>\n",
       "    </tr>\n",
       "    <tr>\n",
       "      <th>2687262</th>\n",
       "      <td>0</td>\n",
       "      <td>0</td>\n",
       "      <td>0</td>\n",
       "      <td>1</td>\n",
       "      <td>0</td>\n",
       "      <td>677.33</td>\n",
       "      <td>271453.22</td>\n",
       "      <td>270775.89</td>\n",
       "      <td>0.00</td>\n",
       "      <td>0.00</td>\n",
       "      <td>0</td>\n",
       "      <td>0</td>\n",
       "      <td>0</td>\n",
       "    </tr>\n",
       "  </tbody>\n",
       "</table>\n",
       "</div>"
      ],
      "text/plain": [
       "         type_CASH_IN  type_CASH_OUT  type_DEBIT  type_PAYMENT  type_TRANSFER  \\\n",
       "1228879             1              0           0             0              0   \n",
       "1504610             1              0           0             0              0   \n",
       "4717191             0              0           0             1              0   \n",
       "62525               1              0           0             0              0   \n",
       "2687262             0              0           0             1              0   \n",
       "\n",
       "            amount  oldbalanceOrg  newbalanceOrig  oldbalanceDest  \\\n",
       "1228879   92418.00      195000.00       287418.00       128704.11   \n",
       "1504610  607391.56    10636443.27     11243834.83      2365647.15   \n",
       "4717191   12230.08           0.00            0.00            0.00   \n",
       "62525    149167.25       21251.00       170418.25      3160705.08   \n",
       "2687262     677.33      271453.22       270775.89            0.00   \n",
       "\n",
       "         newbalanceDest CustomerDestAccount  emptied_account  isFraud  \n",
       "1228879        36286.11                   1                0        0  \n",
       "1504610      1758255.59                   1                0        0  \n",
       "4717191            0.00                   0                1        0  \n",
       "62525        3464681.62                   1                0        0  \n",
       "2687262            0.00                   0                0        0  "
      ]
     },
     "execution_count": 305,
     "metadata": {},
     "output_type": "execute_result"
    }
   ],
   "source": [
    "train = pd.concat([X_train, y_train],axis=1)\n",
    "display(train.shape)\n",
    "train.head()"
   ]
  },
  {
   "cell_type": "code",
   "execution_count": 306,
   "metadata": {},
   "outputs": [],
   "source": [
    "no_fraud = train[train['isFraud']==0]\n",
    "yes_fraud = train[train['isFraud']==1]"
   ]
  },
  {
   "cell_type": "code",
   "execution_count": 307,
   "metadata": {},
   "outputs": [
    {
     "data": {
      "text/plain": [
       "(749014, 13)"
      ]
     },
     "metadata": {},
     "output_type": "display_data"
    },
    {
     "data": {
      "text/plain": [
       "(986, 13)"
      ]
     },
     "metadata": {},
     "output_type": "display_data"
    }
   ],
   "source": [
    "display(no_fraud.shape)\n",
    "display(yes_fraud.shape)"
   ]
  },
  {
   "cell_type": "code",
   "execution_count": 308,
   "metadata": {},
   "outputs": [],
   "source": [
    "yes_fraud_oversampled = resample(yes_fraud, \n",
    "                                    replace=True, \n",
    "                                    n_samples = len(no_fraud),\n",
    "                                    random_state=0)"
   ]
  },
  {
   "cell_type": "code",
   "execution_count": 309,
   "metadata": {},
   "outputs": [
    {
     "data": {
      "text/html": [
       "<div>\n",
       "<style scoped>\n",
       "    .dataframe tbody tr th:only-of-type {\n",
       "        vertical-align: middle;\n",
       "    }\n",
       "\n",
       "    .dataframe tbody tr th {\n",
       "        vertical-align: top;\n",
       "    }\n",
       "\n",
       "    .dataframe thead th {\n",
       "        text-align: right;\n",
       "    }\n",
       "</style>\n",
       "<table border=\"1\" class=\"dataframe\">\n",
       "  <thead>\n",
       "    <tr style=\"text-align: right;\">\n",
       "      <th></th>\n",
       "      <th>type_CASH_IN</th>\n",
       "      <th>type_CASH_OUT</th>\n",
       "      <th>type_DEBIT</th>\n",
       "      <th>type_PAYMENT</th>\n",
       "      <th>type_TRANSFER</th>\n",
       "      <th>amount</th>\n",
       "      <th>oldbalanceOrg</th>\n",
       "      <th>newbalanceOrig</th>\n",
       "      <th>oldbalanceDest</th>\n",
       "      <th>newbalanceDest</th>\n",
       "      <th>CustomerDestAccount</th>\n",
       "      <th>emptied_account</th>\n",
       "      <th>isFraud</th>\n",
       "    </tr>\n",
       "  </thead>\n",
       "  <tbody>\n",
       "    <tr>\n",
       "      <th>1228879</th>\n",
       "      <td>1</td>\n",
       "      <td>0</td>\n",
       "      <td>0</td>\n",
       "      <td>0</td>\n",
       "      <td>0</td>\n",
       "      <td>92418.00</td>\n",
       "      <td>195000.00</td>\n",
       "      <td>287418.00</td>\n",
       "      <td>128704.11</td>\n",
       "      <td>36286.11</td>\n",
       "      <td>1</td>\n",
       "      <td>0</td>\n",
       "      <td>0</td>\n",
       "    </tr>\n",
       "    <tr>\n",
       "      <th>1504610</th>\n",
       "      <td>1</td>\n",
       "      <td>0</td>\n",
       "      <td>0</td>\n",
       "      <td>0</td>\n",
       "      <td>0</td>\n",
       "      <td>607391.56</td>\n",
       "      <td>10636443.27</td>\n",
       "      <td>11243834.83</td>\n",
       "      <td>2365647.15</td>\n",
       "      <td>1758255.59</td>\n",
       "      <td>1</td>\n",
       "      <td>0</td>\n",
       "      <td>0</td>\n",
       "    </tr>\n",
       "    <tr>\n",
       "      <th>4717191</th>\n",
       "      <td>0</td>\n",
       "      <td>0</td>\n",
       "      <td>0</td>\n",
       "      <td>1</td>\n",
       "      <td>0</td>\n",
       "      <td>12230.08</td>\n",
       "      <td>0.00</td>\n",
       "      <td>0.00</td>\n",
       "      <td>0.00</td>\n",
       "      <td>0.00</td>\n",
       "      <td>0</td>\n",
       "      <td>1</td>\n",
       "      <td>0</td>\n",
       "    </tr>\n",
       "    <tr>\n",
       "      <th>62525</th>\n",
       "      <td>1</td>\n",
       "      <td>0</td>\n",
       "      <td>0</td>\n",
       "      <td>0</td>\n",
       "      <td>0</td>\n",
       "      <td>149167.25</td>\n",
       "      <td>21251.00</td>\n",
       "      <td>170418.25</td>\n",
       "      <td>3160705.08</td>\n",
       "      <td>3464681.62</td>\n",
       "      <td>1</td>\n",
       "      <td>0</td>\n",
       "      <td>0</td>\n",
       "    </tr>\n",
       "    <tr>\n",
       "      <th>2687262</th>\n",
       "      <td>0</td>\n",
       "      <td>0</td>\n",
       "      <td>0</td>\n",
       "      <td>1</td>\n",
       "      <td>0</td>\n",
       "      <td>677.33</td>\n",
       "      <td>271453.22</td>\n",
       "      <td>270775.89</td>\n",
       "      <td>0.00</td>\n",
       "      <td>0.00</td>\n",
       "      <td>0</td>\n",
       "      <td>0</td>\n",
       "      <td>0</td>\n",
       "    </tr>\n",
       "  </tbody>\n",
       "</table>\n",
       "</div>"
      ],
      "text/plain": [
       "         type_CASH_IN  type_CASH_OUT  type_DEBIT  type_PAYMENT  type_TRANSFER  \\\n",
       "1228879             1              0           0             0              0   \n",
       "1504610             1              0           0             0              0   \n",
       "4717191             0              0           0             1              0   \n",
       "62525               1              0           0             0              0   \n",
       "2687262             0              0           0             1              0   \n",
       "\n",
       "            amount  oldbalanceOrg  newbalanceOrig  oldbalanceDest  \\\n",
       "1228879   92418.00      195000.00       287418.00       128704.11   \n",
       "1504610  607391.56    10636443.27     11243834.83      2365647.15   \n",
       "4717191   12230.08           0.00            0.00            0.00   \n",
       "62525    149167.25       21251.00       170418.25      3160705.08   \n",
       "2687262     677.33      271453.22       270775.89            0.00   \n",
       "\n",
       "         newbalanceDest CustomerDestAccount  emptied_account  isFraud  \n",
       "1228879        36286.11                   1                0        0  \n",
       "1504610      1758255.59                   1                0        0  \n",
       "4717191            0.00                   0                1        0  \n",
       "62525        3464681.62                   1                0        0  \n",
       "2687262            0.00                   0                0        0  "
      ]
     },
     "execution_count": 309,
     "metadata": {},
     "output_type": "execute_result"
    }
   ],
   "source": [
    "train_oversampled = pd.concat([no_fraud,yes_fraud_oversampled])\n",
    "train_oversampled.head()"
   ]
  },
  {
   "cell_type": "code",
   "execution_count": 310,
   "metadata": {},
   "outputs": [],
   "source": [
    "y_train_over = train_oversampled['isFraud'].copy()\n",
    "X_train_over = train_oversampled.drop('isFraud',axis = 1).copy()"
   ]
  },
  {
   "cell_type": "code",
   "execution_count": 311,
   "metadata": {},
   "outputs": [
    {
     "name": "stdout",
     "output_type": "stream",
     "text": [
      "precision:  0.003734648440305475\n",
      "recall:  0.96\n",
      "f1:  0.007440351985882408\n"
     ]
    }
   ],
   "source": [
    "fraud_model1 = LogisticRegression(max_iter=1000)\n",
    "fraud_model1.fit(X_train_over, y_train_over)\n",
    "pred = fraud_model1.predict(X_test)\n",
    "\n",
    "print(\"precision: \",precision_score(y_test,pred))\n",
    "print(\"recall: \",recall_score(y_test,pred))\n",
    "print(\"f1: \",f1_score(y_test,pred))"
   ]
  },
  {
   "cell_type": "code",
   "execution_count": 312,
   "metadata": {},
   "outputs": [
    {
     "data": {
      "text/plain": [
       "array([[166445,  83230],\n",
       "       [    13,    312]], dtype=int64)"
      ]
     },
     "execution_count": 312,
     "metadata": {},
     "output_type": "execute_result"
    }
   ],
   "source": [
    "confusion_matrix(y_test,pred)"
   ]
  },
  {
   "cell_type": "code",
   "execution_count": 313,
   "metadata": {},
   "outputs": [],
   "source": [
    "no_fraud_undersampled = resample(no_fraud, \n",
    "                                    replace=False, \n",
    "                                    n_samples = len(yes_fraud),\n",
    "                                    random_state=0)"
   ]
  },
  {
   "cell_type": "code",
   "execution_count": 314,
   "metadata": {},
   "outputs": [
    {
     "data": {
      "text/html": [
       "<div>\n",
       "<style scoped>\n",
       "    .dataframe tbody tr th:only-of-type {\n",
       "        vertical-align: middle;\n",
       "    }\n",
       "\n",
       "    .dataframe tbody tr th {\n",
       "        vertical-align: top;\n",
       "    }\n",
       "\n",
       "    .dataframe thead th {\n",
       "        text-align: right;\n",
       "    }\n",
       "</style>\n",
       "<table border=\"1\" class=\"dataframe\">\n",
       "  <thead>\n",
       "    <tr style=\"text-align: right;\">\n",
       "      <th></th>\n",
       "      <th>type_CASH_IN</th>\n",
       "      <th>type_CASH_OUT</th>\n",
       "      <th>type_DEBIT</th>\n",
       "      <th>type_PAYMENT</th>\n",
       "      <th>type_TRANSFER</th>\n",
       "      <th>amount</th>\n",
       "      <th>oldbalanceOrg</th>\n",
       "      <th>newbalanceOrig</th>\n",
       "      <th>oldbalanceDest</th>\n",
       "      <th>newbalanceDest</th>\n",
       "      <th>CustomerDestAccount</th>\n",
       "      <th>emptied_account</th>\n",
       "      <th>isFraud</th>\n",
       "    </tr>\n",
       "  </thead>\n",
       "  <tbody>\n",
       "    <tr>\n",
       "      <th>4782637</th>\n",
       "      <td>0</td>\n",
       "      <td>0</td>\n",
       "      <td>0</td>\n",
       "      <td>0</td>\n",
       "      <td>1</td>\n",
       "      <td>38115.00</td>\n",
       "      <td>38115.00</td>\n",
       "      <td>0.0</td>\n",
       "      <td>0.0</td>\n",
       "      <td>0.0</td>\n",
       "      <td>1</td>\n",
       "      <td>1</td>\n",
       "      <td>1</td>\n",
       "    </tr>\n",
       "    <tr>\n",
       "      <th>6021362</th>\n",
       "      <td>0</td>\n",
       "      <td>0</td>\n",
       "      <td>0</td>\n",
       "      <td>0</td>\n",
       "      <td>1</td>\n",
       "      <td>144283.42</td>\n",
       "      <td>144283.42</td>\n",
       "      <td>0.0</td>\n",
       "      <td>0.0</td>\n",
       "      <td>0.0</td>\n",
       "      <td>1</td>\n",
       "      <td>1</td>\n",
       "      <td>1</td>\n",
       "    </tr>\n",
       "    <tr>\n",
       "      <th>6202773</th>\n",
       "      <td>0</td>\n",
       "      <td>0</td>\n",
       "      <td>0</td>\n",
       "      <td>0</td>\n",
       "      <td>1</td>\n",
       "      <td>1016081.00</td>\n",
       "      <td>1016081.00</td>\n",
       "      <td>0.0</td>\n",
       "      <td>0.0</td>\n",
       "      <td>0.0</td>\n",
       "      <td>1</td>\n",
       "      <td>1</td>\n",
       "      <td>1</td>\n",
       "    </tr>\n",
       "    <tr>\n",
       "      <th>5561948</th>\n",
       "      <td>0</td>\n",
       "      <td>0</td>\n",
       "      <td>0</td>\n",
       "      <td>0</td>\n",
       "      <td>1</td>\n",
       "      <td>620512.76</td>\n",
       "      <td>620512.76</td>\n",
       "      <td>0.0</td>\n",
       "      <td>0.0</td>\n",
       "      <td>0.0</td>\n",
       "      <td>1</td>\n",
       "      <td>1</td>\n",
       "      <td>1</td>\n",
       "    </tr>\n",
       "    <tr>\n",
       "      <th>6362436</th>\n",
       "      <td>0</td>\n",
       "      <td>0</td>\n",
       "      <td>0</td>\n",
       "      <td>0</td>\n",
       "      <td>1</td>\n",
       "      <td>3846781.01</td>\n",
       "      <td>3846781.01</td>\n",
       "      <td>0.0</td>\n",
       "      <td>0.0</td>\n",
       "      <td>0.0</td>\n",
       "      <td>1</td>\n",
       "      <td>1</td>\n",
       "      <td>1</td>\n",
       "    </tr>\n",
       "  </tbody>\n",
       "</table>\n",
       "</div>"
      ],
      "text/plain": [
       "         type_CASH_IN  type_CASH_OUT  type_DEBIT  type_PAYMENT  type_TRANSFER  \\\n",
       "4782637             0              0           0             0              1   \n",
       "6021362             0              0           0             0              1   \n",
       "6202773             0              0           0             0              1   \n",
       "5561948             0              0           0             0              1   \n",
       "6362436             0              0           0             0              1   \n",
       "\n",
       "             amount  oldbalanceOrg  newbalanceOrig  oldbalanceDest  \\\n",
       "4782637    38115.00       38115.00             0.0             0.0   \n",
       "6021362   144283.42      144283.42             0.0             0.0   \n",
       "6202773  1016081.00     1016081.00             0.0             0.0   \n",
       "5561948   620512.76      620512.76             0.0             0.0   \n",
       "6362436  3846781.01     3846781.01             0.0             0.0   \n",
       "\n",
       "         newbalanceDest CustomerDestAccount  emptied_account  isFraud  \n",
       "4782637             0.0                   1                1        1  \n",
       "6021362             0.0                   1                1        1  \n",
       "6202773             0.0                   1                1        1  \n",
       "5561948             0.0                   1                1        1  \n",
       "6362436             0.0                   1                1        1  "
      ]
     },
     "execution_count": 314,
     "metadata": {},
     "output_type": "execute_result"
    }
   ],
   "source": [
    "train_undersampled = pd.concat([yes_fraud,no_fraud_undersampled])\n",
    "train_undersampled.head()"
   ]
  },
  {
   "cell_type": "code",
   "execution_count": 315,
   "metadata": {},
   "outputs": [],
   "source": [
    "y_train_under = train_undersampled['isFraud'].copy()\n",
    "X_train_under = train_undersampled.drop('isFraud',axis = 1).copy()"
   ]
  },
  {
   "cell_type": "code",
   "execution_count": 316,
   "metadata": {},
   "outputs": [
    {
     "name": "stdout",
     "output_type": "stream",
     "text": [
      "precision:  0.003874236328416033\n",
      "recall:  0.96\n",
      "f1:  0.007717328122487849\n"
     ]
    }
   ],
   "source": [
    "fraud_model2 = LogisticRegression(max_iter=1000)\n",
    "fraud_model2.fit(X_train_under, y_train_under)\n",
    "pred = fraud_model2.predict(X_test)\n",
    "\n",
    "print(\"precision: \",precision_score(y_test,pred))\n",
    "print(\"recall: \",recall_score(y_test,pred))\n",
    "print(\"f1: \",f1_score(y_test,pred))"
   ]
  },
  {
   "cell_type": "code",
   "execution_count": 317,
   "metadata": {},
   "outputs": [
    {
     "data": {
      "text/plain": [
       "array([[169455,  80220],\n",
       "       [    13,    312]], dtype=int64)"
      ]
     },
     "execution_count": 317,
     "metadata": {},
     "output_type": "execute_result"
    }
   ],
   "source": [
    "confusion_matrix(y_test,pred)"
   ]
  },
  {
   "cell_type": "markdown",
   "metadata": {},
   "source": [
    "### Now pick a model of your choice and evaluate its accuracy."
   ]
  },
  {
   "cell_type": "code",
   "execution_count": 318,
   "metadata": {},
   "outputs": [
    {
     "data": {
      "text/plain": [
       "0.999372"
      ]
     },
     "execution_count": 318,
     "metadata": {},
     "output_type": "execute_result"
    }
   ],
   "source": [
    "# Your code here\n",
    "from sklearn.neighbors import KNeighborsClassifier\n",
    "knn_fraud = KNeighborsClassifier(n_neighbors=3)\n",
    "knn_fraud.fit(X_train, y_train)\n",
    "knn_fraud.score(X_test, y_test)"
   ]
  },
  {
   "cell_type": "code",
   "execution_count": 319,
   "metadata": {},
   "outputs": [],
   "source": [
    "y_pred = knn_fraud.predict(X_test)\n",
    "y_true = np.array(y_test)"
   ]
  },
  {
   "cell_type": "code",
   "execution_count": 320,
   "metadata": {},
   "outputs": [
    {
     "data": {
      "text/plain": [
       "array([[249626,     49],\n",
       "       [   108,    217]], dtype=int64)"
      ]
     },
     "execution_count": 320,
     "metadata": {},
     "output_type": "execute_result"
    }
   ],
   "source": [
    "confusion_matrix(y_true, y_pred)"
   ]
  },
  {
   "cell_type": "code",
   "execution_count": 321,
   "metadata": {},
   "outputs": [
    {
     "name": "stdout",
     "output_type": "stream",
     "text": [
      "precision:  0.8157894736842105\n",
      "recall:  0.6676923076923077\n",
      "f1:  0.7343485617597293\n"
     ]
    }
   ],
   "source": [
    "print(\"precision: \",precision_score(y_test,y_pred))\n",
    "print(\"recall: \",recall_score(y_test,y_pred))\n",
    "print(\"f1: \",f1_score(y_test,y_pred))"
   ]
  },
  {
   "cell_type": "code",
   "execution_count": 322,
   "metadata": {},
   "outputs": [
    {
     "data": {
      "text/plain": [
       "0.999396"
      ]
     },
     "execution_count": 322,
     "metadata": {},
     "output_type": "execute_result"
    }
   ],
   "source": [
    "knn_fraud1 = KNeighborsClassifier(n_neighbors=10)\n",
    "knn_fraud1.fit(X_train, y_train)\n",
    "knn_fraud1.score(X_test, y_test)"
   ]
  },
  {
   "cell_type": "code",
   "execution_count": 323,
   "metadata": {},
   "outputs": [],
   "source": [
    "y_pred = knn_fraud1.predict(X_test)\n",
    "y_true = np.array(y_test)"
   ]
  },
  {
   "cell_type": "code",
   "execution_count": 324,
   "metadata": {},
   "outputs": [
    {
     "data": {
      "text/plain": [
       "array([[249651,     24],\n",
       "       [   127,    198]], dtype=int64)"
      ]
     },
     "execution_count": 324,
     "metadata": {},
     "output_type": "execute_result"
    }
   ],
   "source": [
    "confusion_matrix(y_true, y_pred)"
   ]
  },
  {
   "cell_type": "code",
   "execution_count": 325,
   "metadata": {},
   "outputs": [
    {
     "name": "stdout",
     "output_type": "stream",
     "text": [
      "precision:  0.8918918918918919\n",
      "recall:  0.6092307692307692\n",
      "f1:  0.7239488117001829\n"
     ]
    }
   ],
   "source": [
    "print(\"precision: \",precision_score(y_test,y_pred))\n",
    "print(\"recall: \",recall_score(y_test,y_pred))\n",
    "print(\"f1: \",f1_score(y_test,y_pred))"
   ]
  },
  {
   "cell_type": "code",
   "execution_count": 326,
   "metadata": {},
   "outputs": [],
   "source": [
    "yes_fraud_oversampled = resample(yes_fraud, \n",
    "                                    replace=True, \n",
    "                                    n_samples = len(no_fraud),\n",
    "                                    random_state=0)"
   ]
  },
  {
   "cell_type": "code",
   "execution_count": 327,
   "metadata": {},
   "outputs": [
    {
     "name": "stdout",
     "output_type": "stream",
     "text": [
      "precision:  0.35704323570432356\n",
      "recall:  0.7876923076923077\n",
      "f1:  0.49136276391554695\n"
     ]
    }
   ],
   "source": [
    "knn_fraud2 = KNeighborsClassifier(n_neighbors=10)\n",
    "knn_fraud2.fit(X_train_over, y_train_over)\n",
    "pred = knn_fraud2.predict(X_test)\n",
    "\n",
    "print(\"precision: \",precision_score(y_test,pred))\n",
    "print(\"recall: \",recall_score(y_test,pred))\n",
    "print(\"f1: \",f1_score(y_test,pred))"
   ]
  },
  {
   "cell_type": "markdown",
   "metadata": {},
   "source": [
    "### Which model worked better and how do you know?"
   ]
  },
  {
   "cell_type": "raw",
   "metadata": {},
   "source": [
    "# Your response here\n",
    "I have tried the logistic regression and knn algorithms, the knn algorithm works better, as the precision and recall metrics are better, although the models are not good enough, so the best way to improve them would be to work on the original data, when performing the imbalance it is observed that in all cases the recall increases but always to the detriment of the precision, so we would have to see what we want to prioritise in our model, depending on the objectives.\n"
   ]
  },
  {
   "cell_type": "markdown",
   "metadata": {},
   "source": [
    "### Note: before doing the first commit, make sure you don't include the large csv file, either by adding it to .gitignore, or by deleting it."
   ]
  }
 ],
 "metadata": {
  "kernelspec": {
   "display_name": "Python 3 (ipykernel)",
   "language": "python",
   "name": "python3"
  },
  "language_info": {
   "codemirror_mode": {
    "name": "ipython",
    "version": 3
   },
   "file_extension": ".py",
   "mimetype": "text/x-python",
   "name": "python",
   "nbconvert_exporter": "python",
   "pygments_lexer": "ipython3",
   "version": "3.7.13"
  }
 },
 "nbformat": 4,
 "nbformat_minor": 2
}
