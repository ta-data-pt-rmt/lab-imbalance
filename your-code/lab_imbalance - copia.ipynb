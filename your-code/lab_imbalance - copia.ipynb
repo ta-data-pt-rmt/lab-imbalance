{
 "cells": [
  {
   "cell_type": "markdown",
   "metadata": {},
   "source": [
    "# Inbalanced Classes\n",
    "## In this lab, we are going to explore a case of imbalanced classes. \n",
    "\n",
    "\n",
    "Like we disussed in class, when we have noisy data, if we are not careful, we can end up fitting our model to the noise in the data and not the 'signal'-- the factors that actually determine the outcome. This is called overfitting, and results in good results in training, and in bad results when the model is applied to real data. Similarly, we could have a model that is too simplistic to accurately model the signal. This produces a model that doesnt work well (ever). \n"
   ]
  },
  {
   "cell_type": "markdown",
   "metadata": {},
   "source": [
    "### Note: before doing the first commit, make sure you don't include the large csv file, either by adding it to .gitignore, or by deleting it."
   ]
  },
  {
   "cell_type": "markdown",
   "metadata": {},
   "source": [
    "### First, download the data from: https://www.kaggle.com/datasets/chitwanmanchanda/fraudulent-transactions-data?resource=download . Import the dataset and provide some discriptive statistics and plots. What do you think will be the important features in determining the outcome?\n",
    "### Note: don't use the entire dataset, use a sample instead, with n=100000 elements, so your computer doesn't freeze."
   ]
  },
  {
   "cell_type": "code",
<<<<<<< HEAD
   "execution_count": 46,
=======
   "execution_count": 256,
>>>>>>> 6c56a46edc250f98c1d510c528777ebe60a0529b
   "metadata": {},
   "outputs": [
    {
     "data": {
      "text/html": [
       "<div>\n",
       "<style scoped>\n",
       "    .dataframe tbody tr th:only-of-type {\n",
       "        vertical-align: middle;\n",
       "    }\n",
       "\n",
       "    .dataframe tbody tr th {\n",
       "        vertical-align: top;\n",
       "    }\n",
       "\n",
       "    .dataframe thead th {\n",
       "        text-align: right;\n",
       "    }\n",
       "</style>\n",
       "<table border=\"1\" class=\"dataframe\">\n",
       "  <thead>\n",
       "    <tr style=\"text-align: right;\">\n",
       "      <th></th>\n",
       "      <th>step</th>\n",
       "      <th>type</th>\n",
       "      <th>amount</th>\n",
       "      <th>nameOrig</th>\n",
       "      <th>oldbalanceOrg</th>\n",
       "      <th>newbalanceOrig</th>\n",
       "      <th>nameDest</th>\n",
       "      <th>oldbalanceDest</th>\n",
       "      <th>newbalanceDest</th>\n",
       "      <th>isFraud</th>\n",
       "      <th>isFlaggedFraud</th>\n",
       "    </tr>\n",
       "  </thead>\n",
       "  <tbody>\n",
       "    <tr>\n",
<<<<<<< HEAD
       "      <th>262529</th>\n",
       "      <td>15</td>\n",
       "      <td>CASH_OUT</td>\n",
       "      <td>14947.68</td>\n",
       "      <td>C1155350947</td>\n",
       "      <td>216.00</td>\n",
       "      <td>0.00</td>\n",
       "      <td>C1188229244</td>\n",
       "      <td>1107349.93</td>\n",
       "      <td>1122297.61</td>\n",
=======
       "      <th>3342574</th>\n",
       "      <td>253</td>\n",
       "      <td>PAYMENT</td>\n",
       "      <td>2319.61</td>\n",
       "      <td>C639152325</td>\n",
       "      <td>4350.86</td>\n",
       "      <td>2031.25</td>\n",
       "      <td>M171689188</td>\n",
       "      <td>0.0</td>\n",
       "      <td>0.0</td>\n",
>>>>>>> 6c56a46edc250f98c1d510c528777ebe60a0529b
       "      <td>0</td>\n",
       "      <td>0</td>\n",
       "    </tr>\n",
       "    <tr>\n",
<<<<<<< HEAD
       "      <th>463678</th>\n",
       "      <td>19</td>\n",
       "      <td>CASH_IN</td>\n",
       "      <td>97553.13</td>\n",
       "      <td>C1371961662</td>\n",
       "      <td>50649.00</td>\n",
       "      <td>148202.13</td>\n",
       "      <td>C1126014379</td>\n",
       "      <td>723606.46</td>\n",
       "      <td>806237.88</td>\n",
=======
       "      <th>5465562</th>\n",
       "      <td>379</td>\n",
       "      <td>PAYMENT</td>\n",
       "      <td>13312.22</td>\n",
       "      <td>C1455211821</td>\n",
       "      <td>20121.00</td>\n",
       "      <td>6808.78</td>\n",
       "      <td>M1234400945</td>\n",
       "      <td>0.0</td>\n",
       "      <td>0.0</td>\n",
>>>>>>> 6c56a46edc250f98c1d510c528777ebe60a0529b
       "      <td>0</td>\n",
       "      <td>0</td>\n",
       "    </tr>\n",
       "    <tr>\n",
<<<<<<< HEAD
       "      <th>3564559</th>\n",
       "      <td>260</td>\n",
       "      <td>CASH_IN</td>\n",
       "      <td>323430.80</td>\n",
       "      <td>C58462371</td>\n",
       "      <td>3147521.82</td>\n",
       "      <td>3470952.61</td>\n",
       "      <td>C1360489642</td>\n",
       "      <td>1523100.44</td>\n",
       "      <td>1199669.65</td>\n",
=======
       "      <th>1783359</th>\n",
       "      <td>162</td>\n",
       "      <td>PAYMENT</td>\n",
       "      <td>17693.10</td>\n",
       "      <td>C509207956</td>\n",
       "      <td>30216.00</td>\n",
       "      <td>12522.90</td>\n",
       "      <td>M642137224</td>\n",
       "      <td>0.0</td>\n",
       "      <td>0.0</td>\n",
>>>>>>> 6c56a46edc250f98c1d510c528777ebe60a0529b
       "      <td>0</td>\n",
       "      <td>0</td>\n",
       "    </tr>\n",
       "  </tbody>\n",
       "</table>\n",
       "</div>"
      ],
      "text/plain": [
<<<<<<< HEAD
       "         step      type     amount     nameOrig  oldbalanceOrg  \\\n",
       "262529     15  CASH_OUT   14947.68  C1155350947         216.00   \n",
       "463678     19   CASH_IN   97553.13  C1371961662       50649.00   \n",
       "3564559   260   CASH_IN  323430.80    C58462371     3147521.82   \n",
       "\n",
       "         newbalanceOrig     nameDest  oldbalanceDest  newbalanceDest  isFraud  \\\n",
       "262529             0.00  C1188229244      1107349.93      1122297.61        0   \n",
       "463678        148202.13  C1126014379       723606.46       806237.88        0   \n",
       "3564559      3470952.61  C1360489642      1523100.44      1199669.65        0   \n",
       "\n",
       "         isFlaggedFraud  \n",
       "262529                0  \n",
       "463678                0  \n",
       "3564559               0  "
      ]
     },
     "execution_count": 46,
=======
       "         step     type    amount     nameOrig  oldbalanceOrg  newbalanceOrig  \\\n",
       "3342574   253  PAYMENT   2319.61   C639152325        4350.86         2031.25   \n",
       "5465562   379  PAYMENT  13312.22  C1455211821       20121.00         6808.78   \n",
       "1783359   162  PAYMENT  17693.10   C509207956       30216.00        12522.90   \n",
       "\n",
       "            nameDest  oldbalanceDest  newbalanceDest  isFraud  isFlaggedFraud  \n",
       "3342574   M171689188             0.0             0.0        0               0  \n",
       "5465562  M1234400945             0.0             0.0        0               0  \n",
       "1783359   M642137224             0.0             0.0        0               0  "
      ]
     },
     "execution_count": 256,
>>>>>>> 6c56a46edc250f98c1d510c528777ebe60a0529b
     "metadata": {},
     "output_type": "execute_result"
    }
   ],
   "source": [
    "# Your code here\n",
    "import pandas as pd\n",
    "fraud = pd.read_csv(\"Fraud.csv\")\n",
    "fraud =fraud.sample(100000)\n",
    "fraud.head(3)"
   ]
  },
  {
   "cell_type": "markdown",
   "metadata": {},
   "source": [
    "### What is the distribution of the outcome? "
   ]
  },
  {
   "cell_type": "code",
<<<<<<< HEAD
   "execution_count": 156,
=======
   "execution_count": 352,
>>>>>>> 6c56a46edc250f98c1d510c528777ebe60a0529b
   "metadata": {},
   "outputs": [
    {
     "data": {
      "text/plain": [
<<<<<<< HEAD
       "0    99847\n",
       "1      153\n",
       "Name: isFraud, dtype: int64"
      ]
     },
     "execution_count": 156,
=======
       "0    99878\n",
       "1      122\n",
       "Name: isFraud, dtype: int64"
      ]
     },
     "execution_count": 352,
>>>>>>> 6c56a46edc250f98c1d510c528777ebe60a0529b
     "metadata": {},
     "output_type": "execute_result"
    }
   ],
   "source": [
    "# Your response here\n",
    "fraud['isFraud'].value_counts()"
   ]
  },
  {
   "cell_type": "markdown",
   "metadata": {},
   "source": [
    "### Clean the dataset. Pre-process it to make it suitable for ML training. Feel free to explore, drop, encode, transform, etc. Whatever you feel will improve the model score."
   ]
  },
  {
   "cell_type": "code",
<<<<<<< HEAD
   "execution_count": 157,
=======
   "execution_count": 353,
>>>>>>> 6c56a46edc250f98c1d510c528777ebe60a0529b
   "metadata": {},
   "outputs": [
    {
     "name": "stdout",
     "output_type": "stream",
     "text": [
<<<<<<< HEAD
      "step                    int64\n",
      "type                   object\n",
      "amount                float64\n",
      "nameOrig               object\n",
      "oldbalanceOrg         float64\n",
      "newbalanceOrig        float64\n",
      "nameDest               object\n",
      "oldbalanceDest        float64\n",
      "newbalanceDest        float64\n",
      "isFraud                 int64\n",
      "isFlaggedFraud          int64\n",
      "type_mapped             int64\n",
      "without_oldbalance      int64\n",
      "without_newbalance      int64\n",
      "dtype: object\n",
      "step                  0\n",
      "type                  0\n",
      "amount                0\n",
      "nameOrig              0\n",
      "oldbalanceOrg         0\n",
      "newbalanceOrig        0\n",
      "nameDest              0\n",
      "oldbalanceDest        0\n",
      "newbalanceDest        0\n",
      "isFraud               0\n",
      "isFlaggedFraud        0\n",
      "type_mapped           0\n",
      "without_oldbalance    0\n",
      "without_newbalance    0\n",
      "dtype: int64\n",
      "                step        amount  oldbalanceOrg  newbalanceOrig  \\\n",
      "count  100000.000000  1.000000e+05   1.000000e+05    1.000000e+05   \n",
      "mean      243.263930  1.793573e+05   8.428866e+05    8.640810e+05   \n",
      "std       142.138683  6.019595e+05   2.907056e+06    2.943356e+06   \n",
      "min         1.000000  0.000000e+00   0.000000e+00    0.000000e+00   \n",
      "25%       155.000000  1.344827e+04   0.000000e+00    0.000000e+00   \n",
      "50%       238.000000  7.527515e+04   1.439400e+04    0.000000e+00   \n",
      "75%       334.000000  2.086389e+05   1.074093e+05    1.423193e+05   \n",
      "max       741.000000  7.382349e+07   3.767004e+07    3.501738e+07   \n",
      "\n",
      "       oldbalanceDest  newbalanceDest        isFraud  isFlaggedFraud  \\\n",
      "count    1.000000e+05    1.000000e+05  100000.000000        100000.0   \n",
      "mean     1.104822e+06    1.225550e+06       0.001530             0.0   \n",
      "std      3.334912e+06    3.585459e+06       0.039085             0.0   \n",
      "min      0.000000e+00    0.000000e+00       0.000000             0.0   \n",
      "25%      0.000000e+00    0.000000e+00       0.000000             0.0   \n",
      "50%      1.347330e+05    2.155103e+05       0.000000             0.0   \n",
      "75%      9.562332e+05    1.124950e+06       0.000000             0.0   \n",
      "max      1.746343e+08    1.956882e+08       1.000000             0.0   \n",
      "\n",
      "         type_mapped  without_oldbalance  without_newbalance  \n",
      "count  100000.000000       100000.000000       100000.000000  \n",
      "mean        0.436180            0.331010            0.331010  \n",
      "std         0.495913            0.470579            0.470579  \n",
      "min         0.000000            0.000000            0.000000  \n",
      "25%         0.000000            0.000000            0.000000  \n",
      "50%         0.000000            0.000000            0.000000  \n",
      "75%         1.000000            1.000000            1.000000  \n",
      "max         1.000000            1.000000            1.000000  \n",
      "0    99847\n",
      "1      153\n",
=======
      "step                int64\n",
      "type               object\n",
      "amount            float64\n",
      "nameOrig           object\n",
      "oldbalanceOrg     float64\n",
      "newbalanceOrig    float64\n",
      "nameDest           object\n",
      "oldbalanceDest    float64\n",
      "newbalanceDest    float64\n",
      "isFraud             int64\n",
      "isFlaggedFraud      int64\n",
      "type_mapped         int64\n",
      "Fraud_Dest          int64\n",
      "Fraud_Orig        float64\n",
      "dtype: object\n",
      "step              0\n",
      "type              0\n",
      "amount            0\n",
      "nameOrig          0\n",
      "oldbalanceOrg     0\n",
      "newbalanceOrig    0\n",
      "nameDest          0\n",
      "oldbalanceDest    0\n",
      "newbalanceDest    0\n",
      "isFraud           0\n",
      "isFlaggedFraud    0\n",
      "type_mapped       0\n",
      "Fraud_Dest        0\n",
      "Fraud_Orig        0\n",
      "dtype: int64\n",
      "                step        amount  oldbalanceOrg  newbalanceOrig  \\\n",
      "count  100000.000000  1.000000e+05   1.000000e+05    1.000000e+05   \n",
      "mean      243.557880  1.776355e+05   8.253052e+05    8.466700e+05   \n",
      "std       142.073478  6.038890e+05   2.865992e+06    2.901656e+06   \n",
      "min         1.000000  7.300000e-01   0.000000e+00    0.000000e+00   \n",
      "25%       156.000000  1.336377e+04   0.000000e+00    0.000000e+00   \n",
      "50%       241.000000  7.432414e+04   1.428500e+04    0.000000e+00   \n",
      "75%       335.000000  2.082201e+05   1.066835e+05    1.439428e+05   \n",
      "max       730.000000  6.423445e+07   4.169914e+07    4.169084e+07   \n",
      "\n",
      "       oldbalanceDest  newbalanceDest        isFraud  isFlaggedFraud  \\\n",
      "count    1.000000e+05    1.000000e+05  100000.000000        100000.0   \n",
      "mean     1.086794e+06    1.209962e+06       0.001220             0.0   \n",
      "std      3.527757e+06    3.837721e+06       0.034907             0.0   \n",
      "min      0.000000e+00    0.000000e+00       0.000000             0.0   \n",
      "25%      0.000000e+00    0.000000e+00       0.000000             0.0   \n",
      "50%      1.306873e+05    2.113231e+05       0.000000             0.0   \n",
      "75%      9.273910e+05    1.097732e+06       0.000000             0.0   \n",
      "max      2.916677e+08    3.215898e+08       1.000000             0.0   \n",
      "\n",
      "         type_mapped     Fraud_Dest  Fraud_Orig  \n",
      "count  100000.000000  100000.000000    100000.0  \n",
      "mean        0.433480       0.001360         0.0  \n",
      "std         0.495558       0.036853         0.0  \n",
      "min         0.000000       0.000000         0.0  \n",
      "25%         0.000000       0.000000         0.0  \n",
      "50%         0.000000       0.000000         0.0  \n",
      "75%         1.000000       0.000000         0.0  \n",
      "max         1.000000       1.000000         0.0  \n",
      "0    99878\n",
      "1      122\n",
>>>>>>> 6c56a46edc250f98c1d510c528777ebe60a0529b
      "Name: isFraud, dtype: int64\n"
     ]
    }
   ],
   "source": [
    "# Your code here\n",
    "fraud.reset_index(drop=True, inplace=True)\n",
    "print(fraud.dtypes)\n",
    "print(fraud.isnull().sum())\n",
    "print(fraud.describe())\n",
    "print(fraud['isFraud'].value_counts())\n",
    "\n"
   ]
  },
  {
   "cell_type": "code",
<<<<<<< HEAD
   "execution_count": 158,
=======
   "execution_count": 354,
>>>>>>> 6c56a46edc250f98c1d510c528777ebe60a0529b
   "metadata": {},
   "outputs": [
    {
     "name": "stdout",
     "output_type": "stream",
     "text": [
      "'isFraud' and 'isFlaggedFraud' are different.\n"
     ]
    }
   ],
   "source": [
    "mismos_valores = fraud['isFraud'].equals(fraud['isFlaggedFraud'])\n",
    "\n",
    "# Imprimir el resultado\n",
    "if mismos_valores:\n",
    "    print(\"'isFraud' and 'isFlaggedFraud' are not different.\")\n",
    "else:\n",
    "    print(\"'isFraud' and 'isFlaggedFraud' are different.\")"
   ]
  },
  {
   "cell_type": "markdown",
   "metadata": {},
   "source": [
    "Description of variables:\n",
    "\n",
    "step - maps a unit of time in the real world. In this case 1 step is 1 hour of time. Total steps 744 (30 days simulation).\n",
    "\n",
    "type - CASH-IN, CASH-OUT, DEBIT, PAYMENT and TRANSFER.\n",
    "\n",
    "amount - amount of the transaction in local currency.\n",
    "\n",
    "nameOrig - customer who started the transaction\n",
    "\n",
    "oldbalanceOrg - initial balance before the transaction\n",
    "\n",
    "newbalanceOrig - new balance after the transaction\n",
    "\n",
    "nameDest - customer who is the recipient of the transaction\n",
    "\n",
    "oldbalanceDest - initial balance recipient before the transaction. Note that there is not information for customers that start with M (Merchants).\n",
    "\n",
    "newbalanceDest - new balance recipient after the transaction. Note that there is not information for customers that start with M (Merchants).\n",
    "\n",
    "isFraud - This is the transactions made by the fraudulent agents inside the simulation. In this specific dataset the fraudulent behavior of the agents aims to profit by taking control or customers accounts and try to empty the funds by transferring to another account and then cashing out of the system.\n",
    "\n",
    "isFlaggedFraud - The business model aims to control massive transfers from one account to another and flags illegal attempts. An illegal attempt in this dataset is an attempt to transfer more than 200.000 in a single transaction.\"\n",
    "\n",
    ")"
   ]
  },
  {
   "cell_type": "code",
<<<<<<< HEAD
   "execution_count": 159,
=======
   "execution_count": 355,
>>>>>>> 6c56a46edc250f98c1d510c528777ebe60a0529b
   "metadata": {},
   "outputs": [
    {
     "data": {
      "text/html": [
       "<div>\n",
       "<style scoped>\n",
       "    .dataframe tbody tr th:only-of-type {\n",
       "        vertical-align: middle;\n",
       "    }\n",
       "\n",
       "    .dataframe tbody tr th {\n",
       "        vertical-align: top;\n",
       "    }\n",
       "\n",
       "    .dataframe thead th {\n",
       "        text-align: right;\n",
       "    }\n",
       "</style>\n",
       "<table border=\"1\" class=\"dataframe\">\n",
       "  <thead>\n",
       "    <tr style=\"text-align: right;\">\n",
       "      <th></th>\n",
       "      <th>step</th>\n",
       "      <th>amount</th>\n",
       "      <th>oldbalanceOrg</th>\n",
       "      <th>newbalanceOrig</th>\n",
       "      <th>oldbalanceDest</th>\n",
       "      <th>newbalanceDest</th>\n",
       "      <th>isFraud</th>\n",
       "      <th>isFlaggedFraud</th>\n",
       "      <th>type_mapped</th>\n",
<<<<<<< HEAD
       "      <th>without_oldbalance</th>\n",
       "      <th>without_newbalance</th>\n",
=======
       "      <th>Fraud_Dest</th>\n",
       "      <th>Fraud_Orig</th>\n",
>>>>>>> 6c56a46edc250f98c1d510c528777ebe60a0529b
       "    </tr>\n",
       "  </thead>\n",
       "  <tbody>\n",
       "    <tr>\n",
       "      <th>count</th>\n",
<<<<<<< HEAD
       "      <td>153.000000</td>\n",
       "      <td>1.530000e+02</td>\n",
       "      <td>1.530000e+02</td>\n",
       "      <td>1.530000e+02</td>\n",
       "      <td>1.530000e+02</td>\n",
       "      <td>1.530000e+02</td>\n",
       "      <td>153.0</td>\n",
       "      <td>153.0</td>\n",
       "      <td>153.0</td>\n",
       "      <td>153.000000</td>\n",
       "      <td>153.000000</td>\n",
       "    </tr>\n",
       "    <tr>\n",
       "      <th>mean</th>\n",
       "      <td>373.084967</td>\n",
       "      <td>1.327587e+06</td>\n",
       "      <td>1.549045e+06</td>\n",
       "      <td>2.214583e+05</td>\n",
       "      <td>3.581099e+05</td>\n",
       "      <td>8.864076e+05</td>\n",
=======
       "      <td>122.000000</td>\n",
       "      <td>1.220000e+02</td>\n",
       "      <td>1.220000e+02</td>\n",
       "      <td>1.220000e+02</td>\n",
       "      <td>1.220000e+02</td>\n",
       "      <td>1.220000e+02</td>\n",
       "      <td>122.0</td>\n",
       "      <td>122.0</td>\n",
       "      <td>122.0</td>\n",
       "      <td>122.0</td>\n",
       "      <td>122.0</td>\n",
       "    </tr>\n",
       "    <tr>\n",
       "      <th>mean</th>\n",
       "      <td>325.844262</td>\n",
       "      <td>1.301673e+06</td>\n",
       "      <td>1.424951e+06</td>\n",
       "      <td>1.266882e+05</td>\n",
       "      <td>6.650481e+05</td>\n",
       "      <td>1.319728e+06</td>\n",
       "      <td>1.0</td>\n",
       "      <td>0.0</td>\n",
       "      <td>1.0</td>\n",
>>>>>>> 6c56a46edc250f98c1d510c528777ebe60a0529b
       "      <td>1.0</td>\n",
       "      <td>0.0</td>\n",
       "      <td>1.0</td>\n",
       "      <td>0.006536</td>\n",
       "      <td>0.006536</td>\n",
       "    </tr>\n",
       "    <tr>\n",
       "      <th>std</th>\n",
<<<<<<< HEAD
       "      <td>227.231564</td>\n",
       "      <td>2.203774e+06</td>\n",
       "      <td>3.720105e+06</td>\n",
       "      <td>2.261887e+06</td>\n",
       "      <td>1.261737e+06</td>\n",
       "      <td>2.095600e+06</td>\n",
=======
       "      <td>224.137908</td>\n",
       "      <td>2.221270e+06</td>\n",
       "      <td>3.020377e+06</td>\n",
       "      <td>1.399317e+06</td>\n",
       "      <td>2.695893e+06</td>\n",
       "      <td>3.695891e+06</td>\n",
       "      <td>0.0</td>\n",
       "      <td>0.0</td>\n",
       "      <td>0.0</td>\n",
>>>>>>> 6c56a46edc250f98c1d510c528777ebe60a0529b
       "      <td>0.0</td>\n",
       "      <td>0.0</td>\n",
       "      <td>0.0</td>\n",
       "      <td>0.080845</td>\n",
       "      <td>0.080845</td>\n",
       "    </tr>\n",
       "    <tr>\n",
       "      <th>min</th>\n",
<<<<<<< HEAD
       "      <td>2.000000</td>\n",
       "      <td>0.000000e+00</td>\n",
       "      <td>0.000000e+00</td>\n",
=======
       "      <td>1.000000</td>\n",
       "      <td>4.530710e+03</td>\n",
>>>>>>> 6c56a46edc250f98c1d510c528777ebe60a0529b
       "      <td>0.000000e+00</td>\n",
       "      <td>0.000000e+00</td>\n",
       "      <td>0.000000e+00</td>\n",
       "      <td>0.000000e+00</td>\n",
       "      <td>1.0</td>\n",
       "      <td>0.0</td>\n",
       "      <td>1.0</td>\n",
       "      <td>1.0</td>\n",
       "      <td>0.0</td>\n",
       "      <td>1.0</td>\n",
       "      <td>0.000000</td>\n",
       "      <td>0.000000</td>\n",
       "    </tr>\n",
       "    <tr>\n",
       "      <th>25%</th>\n",
<<<<<<< HEAD
       "      <td>190.000000</td>\n",
       "      <td>1.432758e+05</td>\n",
       "      <td>1.432758e+05</td>\n",
=======
       "      <td>127.500000</td>\n",
       "      <td>1.150278e+05</td>\n",
       "      <td>9.849830e+04</td>\n",
>>>>>>> 6c56a46edc250f98c1d510c528777ebe60a0529b
       "      <td>0.000000e+00</td>\n",
       "      <td>0.000000e+00</td>\n",
       "      <td>0.000000e+00</td>\n",
       "      <td>1.0</td>\n",
       "      <td>0.0</td>\n",
       "      <td>1.0</td>\n",
<<<<<<< HEAD
       "      <td>0.000000</td>\n",
       "      <td>0.000000</td>\n",
       "    </tr>\n",
       "    <tr>\n",
       "      <th>50%</th>\n",
       "      <td>358.000000</td>\n",
       "      <td>4.709222e+05</td>\n",
       "      <td>4.709222e+05</td>\n",
       "      <td>0.000000e+00</td>\n",
=======
       "      <td>1.0</td>\n",
       "      <td>0.0</td>\n",
       "    </tr>\n",
       "    <tr>\n",
       "      <th>50%</th>\n",
       "      <td>300.500000</td>\n",
       "      <td>3.636710e+05</td>\n",
       "      <td>3.543131e+05</td>\n",
>>>>>>> 6c56a46edc250f98c1d510c528777ebe60a0529b
       "      <td>0.000000e+00</td>\n",
       "      <td>0.000000e+00</td>\n",
       "      <td>2.933056e+04</td>\n",
       "      <td>1.0</td>\n",
       "      <td>0.0</td>\n",
       "      <td>1.0</td>\n",
       "      <td>1.0</td>\n",
       "      <td>0.0</td>\n",
       "      <td>1.0</td>\n",
       "      <td>0.000000</td>\n",
       "      <td>0.000000</td>\n",
       "    </tr>\n",
       "    <tr>\n",
       "      <th>75%</th>\n",
<<<<<<< HEAD
       "      <td>581.000000</td>\n",
       "      <td>1.367071e+06</td>\n",
       "      <td>1.367071e+06</td>\n",
       "      <td>0.000000e+00</td>\n",
       "      <td>1.472516e+05</td>\n",
       "      <td>9.270781e+05</td>\n",
=======
       "      <td>534.000000</td>\n",
       "      <td>1.138580e+06</td>\n",
       "      <td>1.138580e+06</td>\n",
       "      <td>0.000000e+00</td>\n",
       "      <td>1.663021e+05</td>\n",
       "      <td>1.054479e+06</td>\n",
       "      <td>1.0</td>\n",
       "      <td>0.0</td>\n",
       "      <td>1.0</td>\n",
>>>>>>> 6c56a46edc250f98c1d510c528777ebe60a0529b
       "      <td>1.0</td>\n",
       "      <td>0.0</td>\n",
       "      <td>1.0</td>\n",
       "      <td>0.000000</td>\n",
       "      <td>0.000000</td>\n",
       "    </tr>\n",
       "    <tr>\n",
       "      <th>max</th>\n",
<<<<<<< HEAD
       "      <td>741.000000</td>\n",
       "      <td>1.000000e+07</td>\n",
       "      <td>3.767004e+07</td>\n",
       "      <td>2.767004e+07</td>\n",
       "      <td>1.364687e+07</td>\n",
       "      <td>1.472918e+07</td>\n",
=======
       "      <td>730.000000</td>\n",
       "      <td>1.000000e+07</td>\n",
       "      <td>2.545597e+07</td>\n",
       "      <td>1.545597e+07</td>\n",
       "      <td>2.682958e+07</td>\n",
       "      <td>3.461831e+07</td>\n",
       "      <td>1.0</td>\n",
       "      <td>0.0</td>\n",
       "      <td>1.0</td>\n",
>>>>>>> 6c56a46edc250f98c1d510c528777ebe60a0529b
       "      <td>1.0</td>\n",
       "      <td>0.0</td>\n",
       "      <td>1.0</td>\n",
       "      <td>1.000000</td>\n",
       "      <td>1.000000</td>\n",
       "    </tr>\n",
       "  </tbody>\n",
       "</table>\n",
       "</div>"
      ],
      "text/plain": [
       "             step        amount  oldbalanceOrg  newbalanceOrig  \\\n",
<<<<<<< HEAD
       "count  153.000000  1.530000e+02   1.530000e+02    1.530000e+02   \n",
       "mean   373.084967  1.327587e+06   1.549045e+06    2.214583e+05   \n",
       "std    227.231564  2.203774e+06   3.720105e+06    2.261887e+06   \n",
       "min      2.000000  0.000000e+00   0.000000e+00    0.000000e+00   \n",
       "25%    190.000000  1.432758e+05   1.432758e+05    0.000000e+00   \n",
       "50%    358.000000  4.709222e+05   4.709222e+05    0.000000e+00   \n",
       "75%    581.000000  1.367071e+06   1.367071e+06    0.000000e+00   \n",
       "max    741.000000  1.000000e+07   3.767004e+07    2.767004e+07   \n",
       "\n",
       "       oldbalanceDest  newbalanceDest  isFraud  isFlaggedFraud  type_mapped  \\\n",
       "count    1.530000e+02    1.530000e+02    153.0           153.0        153.0   \n",
       "mean     3.581099e+05    8.864076e+05      1.0             0.0          1.0   \n",
       "std      1.261737e+06    2.095600e+06      0.0             0.0          0.0   \n",
       "min      0.000000e+00    0.000000e+00      1.0             0.0          1.0   \n",
       "25%      0.000000e+00    0.000000e+00      1.0             0.0          1.0   \n",
       "50%      0.000000e+00    0.000000e+00      1.0             0.0          1.0   \n",
       "75%      1.472516e+05    9.270781e+05      1.0             0.0          1.0   \n",
       "max      1.364687e+07    1.472918e+07      1.0             0.0          1.0   \n",
       "\n",
       "       without_oldbalance  without_newbalance  \n",
       "count          153.000000          153.000000  \n",
       "mean             0.006536            0.006536  \n",
       "std              0.080845            0.080845  \n",
       "min              0.000000            0.000000  \n",
       "25%              0.000000            0.000000  \n",
       "50%              0.000000            0.000000  \n",
       "75%              0.000000            0.000000  \n",
       "max              1.000000            1.000000  "
      ]
     },
     "execution_count": 159,
=======
       "count  122.000000  1.220000e+02   1.220000e+02    1.220000e+02   \n",
       "mean   325.844262  1.301673e+06   1.424951e+06    1.266882e+05   \n",
       "std    224.137908  2.221270e+06   3.020377e+06    1.399317e+06   \n",
       "min      1.000000  4.530710e+03   0.000000e+00    0.000000e+00   \n",
       "25%    127.500000  1.150278e+05   9.849830e+04    0.000000e+00   \n",
       "50%    300.500000  3.636710e+05   3.543131e+05    0.000000e+00   \n",
       "75%    534.000000  1.138580e+06   1.138580e+06    0.000000e+00   \n",
       "max    730.000000  1.000000e+07   2.545597e+07    1.545597e+07   \n",
       "\n",
       "       oldbalanceDest  newbalanceDest  isFraud  isFlaggedFraud  type_mapped  \\\n",
       "count    1.220000e+02    1.220000e+02    122.0           122.0        122.0   \n",
       "mean     6.650481e+05    1.319728e+06      1.0             0.0          1.0   \n",
       "std      2.695893e+06    3.695891e+06      0.0             0.0          0.0   \n",
       "min      0.000000e+00    0.000000e+00      1.0             0.0          1.0   \n",
       "25%      0.000000e+00    0.000000e+00      1.0             0.0          1.0   \n",
       "50%      0.000000e+00    2.933056e+04      1.0             0.0          1.0   \n",
       "75%      1.663021e+05    1.054479e+06      1.0             0.0          1.0   \n",
       "max      2.682958e+07    3.461831e+07      1.0             0.0          1.0   \n",
       "\n",
       "       Fraud_Dest  Fraud_Orig  \n",
       "count       122.0       122.0  \n",
       "mean          1.0         0.0  \n",
       "std           0.0         0.0  \n",
       "min           1.0         0.0  \n",
       "25%           1.0         0.0  \n",
       "50%           1.0         0.0  \n",
       "75%           1.0         0.0  \n",
       "max           1.0         0.0  "
      ]
     },
     "execution_count": 355,
>>>>>>> 6c56a46edc250f98c1d510c528777ebe60a0529b
     "metadata": {},
     "output_type": "execute_result"
    }
   ],
   "source": [
    "fraud_fraud = fraud[fraud['isFraud']==1]\n",
    "fraud_fraud.describe()"
   ]
  },
  {
   "cell_type": "code",
<<<<<<< HEAD
   "execution_count": 160,
=======
   "execution_count": 356,
>>>>>>> 6c56a46edc250f98c1d510c528777ebe60a0529b
   "metadata": {},
   "outputs": [
    {
     "data": {
      "text/html": [
       "<div>\n",
       "<style scoped>\n",
       "    .dataframe tbody tr th:only-of-type {\n",
       "        vertical-align: middle;\n",
       "    }\n",
       "\n",
       "    .dataframe tbody tr th {\n",
       "        vertical-align: top;\n",
       "    }\n",
       "\n",
       "    .dataframe thead th {\n",
       "        text-align: right;\n",
       "    }\n",
       "</style>\n",
       "<table border=\"1\" class=\"dataframe\">\n",
       "  <thead>\n",
       "    <tr style=\"text-align: right;\">\n",
       "      <th></th>\n",
       "      <th>step</th>\n",
       "      <th>amount</th>\n",
       "      <th>oldbalanceOrg</th>\n",
       "      <th>newbalanceOrig</th>\n",
       "      <th>oldbalanceDest</th>\n",
       "      <th>newbalanceDest</th>\n",
       "      <th>isFraud</th>\n",
       "      <th>isFlaggedFraud</th>\n",
       "      <th>type_mapped</th>\n",
<<<<<<< HEAD
       "      <th>without_oldbalance</th>\n",
       "      <th>without_newbalance</th>\n",
=======
       "      <th>Fraud_Dest</th>\n",
       "      <th>Fraud_Orig</th>\n",
>>>>>>> 6c56a46edc250f98c1d510c528777ebe60a0529b
       "    </tr>\n",
       "  </thead>\n",
       "  <tbody>\n",
       "    <tr>\n",
       "      <th>count</th>\n",
<<<<<<< HEAD
       "      <td>99847.000000</td>\n",
       "      <td>9.984700e+04</td>\n",
       "      <td>9.984700e+04</td>\n",
       "      <td>9.984700e+04</td>\n",
       "      <td>9.984700e+04</td>\n",
       "      <td>9.984700e+04</td>\n",
       "      <td>99847.0</td>\n",
       "      <td>99847.0</td>\n",
       "      <td>99847.000000</td>\n",
       "      <td>99847.000000</td>\n",
       "      <td>99847.000000</td>\n",
       "    </tr>\n",
       "    <tr>\n",
       "      <th>mean</th>\n",
       "      <td>243.064999</td>\n",
       "      <td>1.775978e+05</td>\n",
       "      <td>8.418045e+05</td>\n",
       "      <td>8.650658e+05</td>\n",
       "      <td>1.105966e+06</td>\n",
       "      <td>1.226070e+06</td>\n",
       "      <td>0.0</td>\n",
       "      <td>0.0</td>\n",
       "      <td>0.435316</td>\n",
       "      <td>0.331507</td>\n",
       "      <td>0.331507</td>\n",
       "    </tr>\n",
       "    <tr>\n",
       "      <th>std</th>\n",
       "      <td>141.879857</td>\n",
       "      <td>5.945533e+05</td>\n",
       "      <td>2.905528e+06</td>\n",
       "      <td>2.944180e+06</td>\n",
       "      <td>3.336975e+06</td>\n",
       "      <td>3.587248e+06</td>\n",
       "      <td>0.0</td>\n",
       "      <td>0.0</td>\n",
       "      <td>0.495801</td>\n",
       "      <td>0.470757</td>\n",
       "      <td>0.470757</td>\n",
=======
       "      <td>99878.000000</td>\n",
       "      <td>9.987800e+04</td>\n",
       "      <td>9.987800e+04</td>\n",
       "      <td>9.987800e+04</td>\n",
       "      <td>9.987800e+04</td>\n",
       "      <td>9.987800e+04</td>\n",
       "      <td>99878.0</td>\n",
       "      <td>99878.0</td>\n",
       "      <td>99878.000000</td>\n",
       "      <td>99878.000000</td>\n",
       "      <td>99878.0</td>\n",
       "    </tr>\n",
       "    <tr>\n",
       "      <th>mean</th>\n",
       "      <td>243.457368</td>\n",
       "      <td>1.762625e+05</td>\n",
       "      <td>8.245728e+05</td>\n",
       "      <td>8.475495e+05</td>\n",
       "      <td>1.087309e+06</td>\n",
       "      <td>1.209828e+06</td>\n",
       "      <td>0.0</td>\n",
       "      <td>0.0</td>\n",
       "      <td>0.432788</td>\n",
       "      <td>0.000140</td>\n",
       "      <td>0.0</td>\n",
       "    </tr>\n",
       "    <tr>\n",
       "      <th>std</th>\n",
       "      <td>141.916826</td>\n",
       "      <td>5.980005e+05</td>\n",
       "      <td>2.865738e+06</td>\n",
       "      <td>2.902910e+06</td>\n",
       "      <td>3.528633e+06</td>\n",
       "      <td>3.837907e+06</td>\n",
       "      <td>0.0</td>\n",
       "      <td>0.0</td>\n",
       "      <td>0.495464</td>\n",
       "      <td>0.011839</td>\n",
       "      <td>0.0</td>\n",
>>>>>>> 6c56a46edc250f98c1d510c528777ebe60a0529b
       "    </tr>\n",
       "    <tr>\n",
       "      <th>min</th>\n",
       "      <td>1.000000</td>\n",
<<<<<<< HEAD
       "      <td>1.500000e-01</td>\n",
=======
       "      <td>7.300000e-01</td>\n",
>>>>>>> 6c56a46edc250f98c1d510c528777ebe60a0529b
       "      <td>0.000000e+00</td>\n",
       "      <td>0.000000e+00</td>\n",
       "      <td>0.000000e+00</td>\n",
       "      <td>0.000000e+00</td>\n",
       "      <td>0.0</td>\n",
       "      <td>0.0</td>\n",
       "      <td>0.000000</td>\n",
       "      <td>0.000000</td>\n",
<<<<<<< HEAD
       "      <td>0.000000</td>\n",
       "    </tr>\n",
       "    <tr>\n",
       "      <th>25%</th>\n",
       "      <td>155.000000</td>\n",
       "      <td>1.342613e+04</td>\n",
=======
       "      <td>0.0</td>\n",
       "    </tr>\n",
       "    <tr>\n",
       "      <th>25%</th>\n",
       "      <td>156.000000</td>\n",
       "      <td>1.333737e+04</td>\n",
>>>>>>> 6c56a46edc250f98c1d510c528777ebe60a0529b
       "      <td>0.000000e+00</td>\n",
       "      <td>0.000000e+00</td>\n",
       "      <td>0.000000e+00</td>\n",
       "      <td>0.000000e+00</td>\n",
       "      <td>0.0</td>\n",
       "      <td>0.0</td>\n",
       "      <td>0.000000</td>\n",
       "      <td>0.000000</td>\n",
<<<<<<< HEAD
       "      <td>0.000000</td>\n",
       "    </tr>\n",
       "    <tr>\n",
       "      <th>50%</th>\n",
       "      <td>238.000000</td>\n",
       "      <td>7.506650e+04</td>\n",
       "      <td>1.422400e+04</td>\n",
       "      <td>0.000000e+00</td>\n",
       "      <td>1.353959e+05</td>\n",
       "      <td>2.157500e+05</td>\n",
=======
       "      <td>0.0</td>\n",
       "    </tr>\n",
       "    <tr>\n",
       "      <th>50%</th>\n",
       "      <td>240.000000</td>\n",
       "      <td>7.410962e+04</td>\n",
       "      <td>1.415650e+04</td>\n",
       "      <td>0.000000e+00</td>\n",
       "      <td>1.312666e+05</td>\n",
       "      <td>2.115385e+05</td>\n",
>>>>>>> 6c56a46edc250f98c1d510c528777ebe60a0529b
       "      <td>0.0</td>\n",
       "      <td>0.0</td>\n",
       "      <td>0.000000</td>\n",
       "      <td>0.000000</td>\n",
<<<<<<< HEAD
       "      <td>0.000000</td>\n",
       "    </tr>\n",
       "    <tr>\n",
       "      <th>75%</th>\n",
       "      <td>333.000000</td>\n",
       "      <td>2.082061e+05</td>\n",
       "      <td>1.070895e+05</td>\n",
       "      <td>1.431083e+05</td>\n",
       "      <td>9.575898e+05</td>\n",
       "      <td>1.125503e+06</td>\n",
       "      <td>0.0</td>\n",
       "      <td>0.0</td>\n",
       "      <td>1.000000</td>\n",
       "      <td>1.000000</td>\n",
       "      <td>1.000000</td>\n",
=======
       "      <td>0.0</td>\n",
       "    </tr>\n",
       "    <tr>\n",
       "      <th>75%</th>\n",
       "      <td>335.000000</td>\n",
       "      <td>2.079304e+05</td>\n",
       "      <td>1.064195e+05</td>\n",
       "      <td>1.444596e+05</td>\n",
       "      <td>9.284076e+05</td>\n",
       "      <td>1.097803e+06</td>\n",
       "      <td>0.0</td>\n",
       "      <td>0.0</td>\n",
       "      <td>1.000000</td>\n",
       "      <td>0.000000</td>\n",
       "      <td>0.0</td>\n",
>>>>>>> 6c56a46edc250f98c1d510c528777ebe60a0529b
       "    </tr>\n",
       "    <tr>\n",
       "      <th>max</th>\n",
       "      <td>718.000000</td>\n",
<<<<<<< HEAD
       "      <td>7.382349e+07</td>\n",
       "      <td>3.500286e+07</td>\n",
       "      <td>3.501738e+07</td>\n",
       "      <td>1.746343e+08</td>\n",
       "      <td>1.956882e+08</td>\n",
=======
       "      <td>6.423445e+07</td>\n",
       "      <td>4.169914e+07</td>\n",
       "      <td>4.169084e+07</td>\n",
       "      <td>2.916677e+08</td>\n",
       "      <td>3.215898e+08</td>\n",
>>>>>>> 6c56a46edc250f98c1d510c528777ebe60a0529b
       "      <td>0.0</td>\n",
       "      <td>0.0</td>\n",
       "      <td>1.000000</td>\n",
       "      <td>1.000000</td>\n",
<<<<<<< HEAD
       "      <td>1.000000</td>\n",
=======
       "      <td>0.0</td>\n",
>>>>>>> 6c56a46edc250f98c1d510c528777ebe60a0529b
       "    </tr>\n",
       "  </tbody>\n",
       "</table>\n",
       "</div>"
      ],
      "text/plain": [
       "               step        amount  oldbalanceOrg  newbalanceOrig  \\\n",
<<<<<<< HEAD
       "count  99847.000000  9.984700e+04   9.984700e+04    9.984700e+04   \n",
       "mean     243.064999  1.775978e+05   8.418045e+05    8.650658e+05   \n",
       "std      141.879857  5.945533e+05   2.905528e+06    2.944180e+06   \n",
       "min        1.000000  1.500000e-01   0.000000e+00    0.000000e+00   \n",
       "25%      155.000000  1.342613e+04   0.000000e+00    0.000000e+00   \n",
       "50%      238.000000  7.506650e+04   1.422400e+04    0.000000e+00   \n",
       "75%      333.000000  2.082061e+05   1.070895e+05    1.431083e+05   \n",
       "max      718.000000  7.382349e+07   3.500286e+07    3.501738e+07   \n",
       "\n",
       "       oldbalanceDest  newbalanceDest  isFraud  isFlaggedFraud   type_mapped  \\\n",
       "count    9.984700e+04    9.984700e+04  99847.0         99847.0  99847.000000   \n",
       "mean     1.105966e+06    1.226070e+06      0.0             0.0      0.435316   \n",
       "std      3.336975e+06    3.587248e+06      0.0             0.0      0.495801   \n",
       "min      0.000000e+00    0.000000e+00      0.0             0.0      0.000000   \n",
       "25%      0.000000e+00    0.000000e+00      0.0             0.0      0.000000   \n",
       "50%      1.353959e+05    2.157500e+05      0.0             0.0      0.000000   \n",
       "75%      9.575898e+05    1.125503e+06      0.0             0.0      1.000000   \n",
       "max      1.746343e+08    1.956882e+08      0.0             0.0      1.000000   \n",
       "\n",
       "       without_oldbalance  without_newbalance  \n",
       "count        99847.000000        99847.000000  \n",
       "mean             0.331507            0.331507  \n",
       "std              0.470757            0.470757  \n",
       "min              0.000000            0.000000  \n",
       "25%              0.000000            0.000000  \n",
       "50%              0.000000            0.000000  \n",
       "75%              1.000000            1.000000  \n",
       "max              1.000000            1.000000  "
      ]
     },
     "execution_count": 160,
=======
       "count  99878.000000  9.987800e+04   9.987800e+04    9.987800e+04   \n",
       "mean     243.457368  1.762625e+05   8.245728e+05    8.475495e+05   \n",
       "std      141.916826  5.980005e+05   2.865738e+06    2.902910e+06   \n",
       "min        1.000000  7.300000e-01   0.000000e+00    0.000000e+00   \n",
       "25%      156.000000  1.333737e+04   0.000000e+00    0.000000e+00   \n",
       "50%      240.000000  7.410962e+04   1.415650e+04    0.000000e+00   \n",
       "75%      335.000000  2.079304e+05   1.064195e+05    1.444596e+05   \n",
       "max      718.000000  6.423445e+07   4.169914e+07    4.169084e+07   \n",
       "\n",
       "       oldbalanceDest  newbalanceDest  isFraud  isFlaggedFraud   type_mapped  \\\n",
       "count    9.987800e+04    9.987800e+04  99878.0         99878.0  99878.000000   \n",
       "mean     1.087309e+06    1.209828e+06      0.0             0.0      0.432788   \n",
       "std      3.528633e+06    3.837907e+06      0.0             0.0      0.495464   \n",
       "min      0.000000e+00    0.000000e+00      0.0             0.0      0.000000   \n",
       "25%      0.000000e+00    0.000000e+00      0.0             0.0      0.000000   \n",
       "50%      1.312666e+05    2.115385e+05      0.0             0.0      0.000000   \n",
       "75%      9.284076e+05    1.097803e+06      0.0             0.0      1.000000   \n",
       "max      2.916677e+08    3.215898e+08      0.0             0.0      1.000000   \n",
       "\n",
       "         Fraud_Dest  Fraud_Orig  \n",
       "count  99878.000000     99878.0  \n",
       "mean       0.000140         0.0  \n",
       "std        0.011839         0.0  \n",
       "min        0.000000         0.0  \n",
       "25%        0.000000         0.0  \n",
       "50%        0.000000         0.0  \n",
       "75%        0.000000         0.0  \n",
       "max        1.000000         0.0  "
      ]
     },
     "execution_count": 356,
>>>>>>> 6c56a46edc250f98c1d510c528777ebe60a0529b
     "metadata": {},
     "output_type": "execute_result"
    }
   ],
   "source": [
    "fraud_no_fraud = fraud[fraud['isFraud']==0]\n",
    "fraud_no_fraud.describe()"
   ]
  },
  {
   "cell_type": "code",
<<<<<<< HEAD
   "execution_count": 161,
=======
   "execution_count": 357,
>>>>>>> 6c56a46edc250f98c1d510c528777ebe60a0529b
   "metadata": {},
   "outputs": [
    {
     "data": {
<<<<<<< HEAD
      "image/png": "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\n",
=======
      "image/png": "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\n",
>>>>>>> 6c56a46edc250f98c1d510c528777ebe60a0529b
      "text/plain": [
       "<Figure size 720x432 with 1 Axes>"
      ]
     },
     "metadata": {},
     "output_type": "display_data"
    },
    {
     "name": "stdout",
     "output_type": "stream",
     "text": [
      "Fraud transaction are normally with less amount, more homogenious. Normal transaction is not so homogenious.\n",
<<<<<<< HEAD
      "mean of the amount of fraud transactions: 1327586.5471895428\n",
      "mean of the amount of fraud transactions: 1327586.5471895428 Percentile 80: 1664758.864\n",
      "mean of the amount of no fraud transactions: 177597.77058629962 Percentile 80: 246382.89200000005\n"
=======
      "mean of the amount of fraud transactions: 1301672.511885246\n",
      "mean of the amount of fraud transactions: 1301672.511885246 Percentile 80: 1628026.8120000013\n",
      "mean of the amount of no fraud transactions: 176262.46380654266 Percentile 80: 244821.64800000004\n"
>>>>>>> 6c56a46edc250f98c1d510c528777ebe60a0529b
     ]
    }
   ],
   "source": [
    "import seaborn as sns\n",
    "import matplotlib.pyplot as plt\n",
    "import numpy as np\n",
    "\n",
    "sns.set(style=\"whitegrid\")\n",
    "\n",
    "\n",
    "plt.figure(figsize=(10, 6))\n",
    "\n",
    "sns.kdeplot(fraud_fraud['amount'], shade=True, label='Fraud flag = 1', color='blue')\n",
    "sns.kdeplot(fraud_no_fraud['amount'], shade=True, label='Fraud flag = 0', color='red')\n",
    "\n",
    "# Añadir título y etiquetas de los ejes\n",
    "plt.title('Amount distribution of sample with fraud and without fraud')\n",
    "plt.xlabel('Amount')\n",
    "plt.ylabel('Density')\n",
    "\n",
    "# Añadir una leyenda\n",
    "plt.legend()\n",
    "\n",
    "# Mostrar el gráfico\n",
    "plt.show()\n",
    "percentile_80 = np.percentile(fraud_fraud['amount'], 80)\n",
    "print('Fraud transaction are normally with less amount, more homogenious. Normal transaction is not so homogenious.')\n",
    "print('mean of the amount of fraud transactions:',fraud_fraud['amount'].mean())\n",
    "\n",
    "\n",
    "# Imprimir el percentil 80%\n",
    "print('mean of the amount of fraud transactions:',fraud_fraud['amount'].mean(),'Percentile 80:',np.percentile(fraud_fraud['amount'], 80))\n",
    "print('mean of the amount of no fraud transactions:',fraud_no_fraud['amount'].mean(),'Percentile 80:',np.percentile(fraud_no_fraud['amount'], 80))"
   ]
  },
  {
   "cell_type": "code",
<<<<<<< HEAD
   "execution_count": 162,
=======
   "execution_count": 358,
>>>>>>> 6c56a46edc250f98c1d510c528777ebe60a0529b
   "metadata": {},
   "outputs": [
    {
     "data": {
<<<<<<< HEAD
      "image/png": "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\n",
=======
      "image/png": "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\n",
>>>>>>> 6c56a46edc250f98c1d510c528777ebe60a0529b
      "text/plain": [
       "<Figure size 720x432 with 1 Axes>"
      ]
     },
     "metadata": {},
     "output_type": "display_data"
    },
    {
     "name": "stdout",
     "output_type": "stream",
     "text": [
      "not so intuitive\n"
     ]
    }
   ],
   "source": [
    "import pandas as pd\n",
    "import seaborn as sns\n",
    "import matplotlib.pyplot as plt\n",
    "\n",
    "\n",
    "sns.set(style=\"whitegrid\")\n",
    "\n",
    "\n",
    "plt.figure(figsize=(10, 6))\n",
    "\n",
    "sns.kdeplot(fraud_fraud['step'], shade=True, label='Fraud flag = 1', color='blue')\n",
    "sns.kdeplot(fraud_no_fraud['step'], shade=True, label='Fraud flag = 0', color='red')\n",
    "\n",
    "# Añadir título y etiquetas de los ejes\n",
    "plt.title('Step distribution of sample with fraud and without fraud')\n",
    "plt.xlabel('step')\n",
    "plt.ylabel('Density')\n",
    "\n",
    "# Añadir una leyenda\n",
    "plt.legend()\n",
    "\n",
    "# Mostrar el gráfico\n",
    "plt.show()\n",
    "print('not so intuitive')"
   ]
  },
  {
   "cell_type": "code",
<<<<<<< HEAD
   "execution_count": 163,
=======
   "execution_count": 359,
>>>>>>> 6c56a46edc250f98c1d510c528777ebe60a0529b
   "metadata": {},
   "outputs": [
    {
     "data": {
<<<<<<< HEAD
      "image/png": "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\n",
=======
      "image/png": "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\n",
>>>>>>> 6c56a46edc250f98c1d510c528777ebe60a0529b
      "text/plain": [
       "<Figure size 720x432 with 1 Axes>"
      ]
     },
     "metadata": {},
     "output_type": "display_data"
    },
    {
     "name": "stdout",
     "output_type": "stream",
     "text": [
<<<<<<< HEAD
      "mean of the balance before transactions  of fraud transactions: 1549044.870326798 Percentile 90: 3062506.58\n",
      "mean of the balance before transactions  of no fraud transactions: 841804.5418861868 Percentile 90: 1893251.0120000008\n",
=======
      "mean of the balance before transactions  of fraud transactions: 1424950.9096721315 Percentile 90: 4009383.514000001\n",
      "mean of the balance before transactions  of no fraud transactions: 824572.7598160786 Percentile 90: 1760298.5470000028\n",
>>>>>>> 6c56a46edc250f98c1d510c528777ebe60a0529b
      "Very intuitive, less balance in the origin account before fraud\n"
     ]
    }
   ],
   "source": [
    "import pandas as pd\n",
    "import seaborn as sns\n",
    "import matplotlib.pyplot as plt\n",
    "\n",
    "\n",
    "sns.set(style=\"whitegrid\")\n",
    "\n",
    "\n",
    "plt.figure(figsize=(10, 6))\n",
    "\n",
    "sns.kdeplot(fraud_fraud['oldbalanceOrg'], shade=True, label='Fraud flag = 1', color='blue')\n",
    "sns.kdeplot(fraud_no_fraud['oldbalanceOrg'], shade=True, label='Fraud flag = 0', color='red')\n",
    "\n",
    "# Añadir título y etiquetas de los ejes\n",
    "plt.title('Balance before the transaction distribution of sample with fraud and without fraud')\n",
    "plt.xlabel('oldbalanceOrg')\n",
    "plt.ylabel('Density')\n",
    "\n",
    "# Añadir una leyenda\n",
    "plt.legend()\n",
    "\n",
    "# Mostrar el gráfico\n",
    "plt.show()\n",
    "print('mean of the balance before transactions  of fraud transactions:',fraud_fraud['oldbalanceOrg'].mean(),'Percentile 90:',np.percentile(fraud_fraud['oldbalanceOrg'], 90))\n",
    "print('mean of the balance before transactions  of no fraud transactions:',fraud_no_fraud['oldbalanceOrg'].mean(),'Percentile 90:',np.percentile(fraud_no_fraud['oldbalanceOrg'], 90)\n",
    "     )\n",
    "print('Very intuitive, less balance in the origin account before fraud')"
   ]
  },
  {
   "cell_type": "code",
<<<<<<< HEAD
   "execution_count": 164,
=======
   "execution_count": 360,
>>>>>>> 6c56a46edc250f98c1d510c528777ebe60a0529b
   "metadata": {},
   "outputs": [
    {
     "data": {
<<<<<<< HEAD
      "image/png": "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\n",
=======
      "image/png": "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\n",
>>>>>>> 6c56a46edc250f98c1d510c528777ebe60a0529b
      "text/plain": [
       "<Figure size 720x432 with 1 Axes>"
      ]
     },
     "metadata": {},
     "output_type": "display_data"
    },
    {
     "name": "stdout",
     "output_type": "stream",
     "text": [
<<<<<<< HEAD
      "mean of the balance in dest. before transactions  of fraud transactions: 358109.864117647 Percentile 90: 894593.6740000006\n",
      "mean of the balance before transactions in dest.  of no fraud transactions: 1105966.0199242888 Percentile 90: 2943850.132000002\n",
=======
      "mean of the balance in dest. before transactions  of fraud transactions: 665048.0500819669 Percentile 90: 974844.1130000005\n",
      "mean of the balance before transactions in dest.  of no fraud transactions: 1087308.8707221742 Percentile 90: 2877470.631000001\n",
>>>>>>> 6c56a46edc250f98c1d510c528777ebe60a0529b
      "Very intuitive, less balance in dest. for fraud transactions\n"
     ]
    }
   ],
   "source": [
    "import pandas as pd\n",
    "import seaborn as sns\n",
    "import matplotlib.pyplot as plt\n",
    "\n",
    "\n",
    "sns.set(style=\"whitegrid\")\n",
    "\n",
    "\n",
    "plt.figure(figsize=(10, 6))\n",
    "\n",
    "sns.kdeplot(fraud_fraud['oldbalanceDest'], shade=True, label='Fraud flag = 1', color='blue')\n",
    "sns.kdeplot(fraud_no_fraud['oldbalanceDest'], shade=True, label='Fraud flag = 0', color='red')\n",
    "\n",
    "# Añadir título y etiquetas de los ejes\n",
    "plt.title('Balance before the transaction distribution of sample with fraud and without fraud')\n",
    "plt.xlabel('oldbalanceDest')\n",
    "plt.ylabel('Density')\n",
    "\n",
    "# Añadir una leyenda\n",
    "plt.legend()\n",
    "\n",
    "# Mostrar el gráfico\n",
    "plt.show()\n",
    "print('mean of the balance in dest. before transactions  of fraud transactions:',fraud_fraud['oldbalanceDest'].mean(),'Percentile 90:',np.percentile(fraud_fraud['oldbalanceDest'], 90))\n",
    "print('mean of the balance before transactions in dest.  of no fraud transactions:',fraud_no_fraud['oldbalanceDest'].mean(),'Percentile 90:',np.percentile(fraud_no_fraud['oldbalanceDest'], 90)\n",
    "     )\n",
    "print('Very intuitive, less balance in dest. for fraud transactions')"
   ]
  },
  {
   "cell_type": "code",
<<<<<<< HEAD
   "execution_count": 165,
=======
   "execution_count": 361,
>>>>>>> 6c56a46edc250f98c1d510c528777ebe60a0529b
   "metadata": {},
   "outputs": [
    {
     "data": {
<<<<<<< HEAD
      "image/png": "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\n",
=======
      "image/png": "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\n",
>>>>>>> 6c56a46edc250f98c1d510c528777ebe60a0529b
      "text/plain": [
       "<Figure size 720x432 with 1 Axes>"
      ]
     },
     "metadata": {},
     "output_type": "display_data"
    },
    {
     "name": "stdout",
     "output_type": "stream",
     "text": [
<<<<<<< HEAD
      "mean of the balance in dest. after transactions  of fraud transactions: 886407.6390849671 Percentile 90: 2389927.098000002\n",
      "mean of the balance after transactions in dest.  of no fraud transactions: 1226070.1473120868 Percentile 90: 3219829.668\n",
=======
      "mean of the balance in dest. after transactions  of fraud transactions: 1319728.4615573774 Percentile 90: 3551261.598000004\n",
      "mean of the balance after transactions in dest.  of no fraud transactions: 1209828.1800797079 Percentile 90: 3150868.279\n",
>>>>>>> 6c56a46edc250f98c1d510c528777ebe60a0529b
      "Very intuitive, less balance in dest. for fraud transactions\n"
     ]
    }
   ],
   "source": [
    "import pandas as pd\n",
    "import seaborn as sns\n",
    "import matplotlib.pyplot as plt\n",
    "\n",
    "\n",
    "sns.set(style=\"whitegrid\")\n",
    "\n",
    "\n",
    "plt.figure(figsize=(10, 6))\n",
    "\n",
    "sns.kdeplot(fraud_fraud['newbalanceDest'], shade=True, label='Fraud flag = 1', color='blue')\n",
    "sns.kdeplot(fraud_no_fraud['newbalanceDest'], shade=True, label='Fraud flag = 0', color='red')\n",
    "\n",
    "# Añadir título y etiquetas de los ejes\n",
    "plt.title('Balance before the transaction distribution of sample with fraud and without fraud')\n",
    "plt.xlabel('newbalanceDest')\n",
    "plt.ylabel('Density')\n",
    "\n",
    "# Añadir una leyenda\n",
    "plt.legend()\n",
    "\n",
    "# Mostrar el gráfico\n",
    "plt.show()\n",
    "print('mean of the balance in dest. after transactions  of fraud transactions:',fraud_fraud['newbalanceDest'].mean(),'Percentile 90:',np.percentile(fraud_fraud['newbalanceDest'], 90))\n",
    "print('mean of the balance after transactions in dest.  of no fraud transactions:',fraud_no_fraud['newbalanceDest'].mean(),'Percentile 90:',np.percentile(fraud_no_fraud['newbalanceDest'], 90)\n",
    "     )\n",
    "print('Very intuitive, less balance in dest. for fraud transactions')"
   ]
  },
  {
   "cell_type": "code",
<<<<<<< HEAD
   "execution_count": 166,
=======
   "execution_count": 362,
>>>>>>> 6c56a46edc250f98c1d510c528777ebe60a0529b
   "metadata": {},
   "outputs": [
    {
     "name": "stdout",
     "output_type": "stream",
     "text": [
      "['TRANSFER' 'CASH_OUT']\n",
<<<<<<< HEAD
      "['CASH_OUT' 'CASH_IN' 'PAYMENT' 'TRANSFER' 'DEBIT']\n"
=======
      "['PAYMENT' 'CASH_OUT' 'CASH_IN' 'TRANSFER' 'DEBIT']\n"
>>>>>>> 6c56a46edc250f98c1d510c528777ebe60a0529b
     ]
    }
   ],
   "source": [
    "print(fraud_fraud['type'].unique())\n",
    "print(fraud_no_fraud['type'].unique())"
   ]
  },
  {
   "cell_type": "code",
<<<<<<< HEAD
   "execution_count": 190,
=======
   "execution_count": 363,
>>>>>>> 6c56a46edc250f98c1d510c528777ebe60a0529b
   "metadata": {},
   "outputs": [],
   "source": [
    "label_mapping = {'PAYMENT': 0, 'CASH_IN': 0, 'CASH_OUT': 1, 'TRANSFER': 1, 'DEBIT': 0}\n",
    "\n",
    "# Aplicar el mapeo al DataFrame\n",
    "fraud['type_mapped'] = fraud['type'].map(label_mapping)\n",
    "\n",
    "# Ahora puedes binarizar la columna type_mapped\n",
    "# Define los límites de los bins\n",
    "bins = [0, 1]  # Los límites de los bins deben incluir todos los valores posibles, más un límite adicional para el final\n",
    "\n",
    "# Etiquetas para los bins\n",
    "bin_labels = ['Bin1', 'Bin2', 'Bin3', 'Bin4', 'Bin5']"
   ]
  },
  {
   "cell_type": "code",
<<<<<<< HEAD
   "execution_count": 191,
=======
   "execution_count": 364,
   "metadata": {},
   "outputs": [
    {
     "name": "stdout",
     "output_type": "stream",
     "text": [
      "122\n",
      "92924\n"
     ]
    }
   ],
   "source": [
    "print(fraud_fraud['nameDest'].nunique())\n",
    "print(fraud_no_fraud['nameDest'].nunique())\n",
    "\n",
    "fraud_destinations = fraud.groupby('nameDest')['isFraud'].max()\n",
    "\n",
    "# Luego, crea una nueva columna 'Fraud_Dest' que sea 1 si el indicador de fraude es 1 para algún registro en el grupo, 0 en caso contrario\n",
    "fraud['Fraud_Dest'] = fraud['nameDest'].map(fraud_destinations)\n",
    "\n",
    "# Si algún registro en 'isFraud' es 1 para un 'nameDest', 'Fraud_Dest' será 1 para todos los registros con ese 'nameDest'\n",
    "\n",
    "# Rellena los NaN con 0 en caso de que no haya habido ningún fraude en ese 'nameDest'\n",
    "fraud['Fraud_Dest'].fillna(0, inplace=True)\n"
   ]
  },
  {
   "cell_type": "code",
   "execution_count": 403,
   "metadata": {},
   "outputs": [
    {
     "name": "stdout",
     "output_type": "stream",
     "text": [
      "122\n",
      "99877\n"
     ]
    },
    {
     "data": {
      "text/plain": [
       "Fraud_Relation_Name\n",
       "C1000057469C1362759065    0\n",
       "C1000057469C728959852     0\n",
       "C1000079902C1754022041    0\n",
       "C1000124976C1226571881    0\n",
       "C1000156006C414938147     0\n",
       "                         ..\n",
       "M999638185C1871777216     0\n",
       "M999832957C632738020      0\n",
       "M99985492C784440195       0\n",
       "M999863673C1009530817     0\n",
       "M999955508C446239183      0\n",
       "Name: isFraud, Length: 100000, dtype: int64"
      ]
     },
     "execution_count": 403,
     "metadata": {},
     "output_type": "execute_result"
    }
   ],
   "source": [
    "print(fraud_fraud['nameOrig'].nunique())\n",
    "print(fraud_no_fraud['nameOrig'].nunique())\n",
    "\n",
    "fraud_orig = fraud.groupby('nameOrig')['isFraud'].max()\n",
    "\n",
    "# Luego, crea una nueva columna 'Fraud_Dest' que sea 1 si el indicador de fraude es 1 para algún registro en el grupo, 0 en caso contrario\n",
    "fraud['Fraud_Orig'] = fraud['nameOrig'].map(fraud_destinations)\n",
    "\n",
    "# Si algún registro en 'isFraud' es 1 para un 'nameDest', 'Fraud_Dest' será 1 para todos los registros con ese 'nameDest'\n",
    "\n",
    "# Rellena los NaN con 0 en caso de que no haya habido ningún fraude en ese 'nameDest'\n",
    "fraud['Fraud_Orig'].fillna(0, inplace=True)\n",
    "fraud['Fraud_Relation']=fraud['Fraud_Dest']+fraud['Fraud_Orig']\n",
    "\n",
    "fraud['Fraud_Relation_Name']=fraud['nameDest']+fraud['nameOrig']\n",
    "fraud_rel = fraud.groupby('Fraud_Relation_Name')['isFraud'].max()\n",
    "\n",
    "fraud['Fraud_rel'] = fraud['Fraud_Relation_Name'].map(fraud_rel)\n",
    "\n",
    "# Luego, crea una nueva columna 'Fraud_Dest' que sea 1 si el indicador de fraude es 1 para algún registro en el grupo, 0 en caso contrario\n",
    "fraud['Fraud_Orig'] = fraud['nameOrig'].map(fraud_destinations)\n",
    "fraud[fraud['isFraud']==1][['Fraud_Relation_Name']]\n",
    "fraud_rel"
   ]
  },
  {
   "cell_type": "code",
   "execution_count": 404,
>>>>>>> 6c56a46edc250f98c1d510c528777ebe60a0529b
   "metadata": {},
   "outputs": [],
   "source": [
    "fraud_fraud = fraud[fraud['isFraud']==1]\n",
    "fraud_no_fraud = fraud[fraud['isFraud']==0]\n"
   ]
  },
  {
<<<<<<< HEAD
   "cell_type": "code",
   "execution_count": 192,
   "metadata": {},
   "outputs": [
    {
     "data": {
      "text/plain": [
       "Index(['step', 'type', 'amount', 'nameOrig', 'oldbalanceOrg', 'newbalanceOrig',\n",
       "       'nameDest', 'oldbalanceDest', 'newbalanceDest', 'isFraud',\n",
       "       'isFlaggedFraud', 'type_mapped', 'without_oldbalance',\n",
       "       'without_newbalance'],\n",
       "      dtype='object')"
      ]
     },
     "execution_count": 192,
     "metadata": {},
     "output_type": "execute_result"
    }
   ],
   "source": [
    "fraud.columns"
   ]
  },
  {
   "cell_type": "code",
   "execution_count": 193,
   "metadata": {},
   "outputs": [
    {
     "name": "stdout",
     "output_type": "stream",
     "text": [
      "[0 1]\n"
     ]
    }
   ],
   "source": [
    "\n",
    "\n",
    "# Assuming filtered_fraud_old contains the filtered DataFrame\n",
    "filtered_fraud_old = fraud[fraud['oldbalanceOrg'] == 0]\n",
    "\n",
    "# Create a new column 'isFraud_old' in the fraud DataFrame\n",
    "fraud['without_oldbalance'] = 0  # Initialize with 0\n",
    "fraud.loc[filtered_fraud_old.index, 'without_oldbalance'] = 1  # Set 1 for the filtered rows\n",
    "\n",
    "# Display unique values of 'isFraud_old'\n",
    "print(fraud['without_oldbalance'].unique())"
   ]
  },
  {
   "cell_type": "code",
   "execution_count": 194,
   "metadata": {},
   "outputs": [
    {
     "name": "stdout",
     "output_type": "stream",
     "text": [
      "[0 1]\n"
     ]
    }
   ],
   "source": [
    "\n",
    "# Assuming filtered_fraud_old contains the filtered DataFrame\n",
    "filtered_fraud_new = fraud[fraud['newbalanceOrig'] == 0]\n",
    "\n",
    "# Create a new column 'isFraud_old' in the fraud DataFrame\n",
    "fraud['without_newbalance'] = 0  # Initialize with 0\n",
    "fraud.loc[filtered_fraud_old.index, 'without_newbalance'] = 1  # Set 1 for the filtered rows\n",
    "\n",
    "# Display unique values of 'isFraud_old'\n",
    "print(fraud['without_newbalance'].unique())"
   ]
  },
  {
   "cell_type": "code",
   "execution_count": 205,
   "metadata": {},
   "outputs": [
    {
     "data": {
      "text/plain": [
       "array([0, 2], dtype=int64)"
      ]
     },
     "execution_count": 205,
     "metadata": {},
     "output_type": "execute_result"
    }
   ],
   "source": [
    "fraud['critical_situation']=fraud['without_newbalance']+fraud['without_oldbalance']\n",
    "fraud['critical_situation'].unique()"
   ]
  },
  {
=======
>>>>>>> 6c56a46edc250f98c1d510c528777ebe60a0529b
   "cell_type": "markdown",
   "metadata": {},
   "source": [
    "### Run a logisitc regression classifier and evaluate its accuracy."
   ]
  },
  {
   "cell_type": "code",
<<<<<<< HEAD
   "execution_count": 195,
=======
   "execution_count": 407,
>>>>>>> 6c56a46edc250f98c1d510c528777ebe60a0529b
   "metadata": {},
   "outputs": [
    {
     "name": "stdout",
     "output_type": "stream",
     "text": [
      "Candidate variables: step, amount and choosing one of these, as there are correlated:newbalanceDest,oldbalanceDest\n",
      "Index(['step', 'type', 'amount', 'nameOrig', 'oldbalanceOrg', 'newbalanceOrig',\n",
      "       'nameDest', 'oldbalanceDest', 'newbalanceDest', 'isFraud',\n",
<<<<<<< HEAD
      "       'isFlaggedFraud', 'type_mapped', 'without_oldbalance',\n",
      "       'without_newbalance'],\n",
      "      dtype='object')\n"
     ]
    }
   ],
   "source": [
    "print('Candidate variables: step, amount and choosing one of these, as there are correlated:newbalanceDest,oldbalanceDest')\n",
    "print(fraud.columns)  # Imprimir los nombres de las columnas\n",
    "from sklearn.metrics import precision_score\n",
    "from sklearn.metrics import recall_score\n",
    "from sklearn.metrics import f1_score\n",
    "from sklearn.linear_model import LogisticRegression\n"
   ]
  },
  {
   "cell_type": "code",
   "execution_count": 196,
   "metadata": {},
   "outputs": [
    {
     "name": "stderr",
     "output_type": "stream",
     "text": [
      "C:\\Users\\rozio\\anaconda3\\lib\\site-packages\\ipykernel_launcher.py:8: SettingWithCopyWarning: \n",
      "A value is trying to be set on a copy of a slice from a DataFrame.\n",
      "Try using .loc[row_indexer,col_indexer] = value instead\n",
      "\n",
      "See the caveats in the documentation: https://pandas.pydata.org/pandas-docs/stable/user_guide/indexing.html#returning-a-view-versus-a-copy\n",
      "  \n",
      "C:\\Users\\rozio\\anaconda3\\lib\\site-packages\\ipykernel_launcher.py:11: SettingWithCopyWarning: \n",
      "A value is trying to be set on a copy of a slice from a DataFrame.\n",
      "Try using .loc[row_indexer,col_indexer] = value instead\n",
      "\n",
      "See the caveats in the documentation: https://pandas.pydata.org/pandas-docs/stable/user_guide/indexing.html#returning-a-view-versus-a-copy\n",
      "  # This is added back by InteractiveShellApp.init_path()\n",
      "C:\\Users\\rozio\\anaconda3\\lib\\site-packages\\ipykernel_launcher.py:13: SettingWithCopyWarning: \n",
      "A value is trying to be set on a copy of a slice from a DataFrame.\n",
      "Try using .loc[row_indexer,col_indexer] = value instead\n",
      "\n",
      "See the caveats in the documentation: https://pandas.pydata.org/pandas-docs/stable/user_guide/indexing.html#returning-a-view-versus-a-copy\n",
      "  del sys.path[0]\n",
      "C:\\Users\\rozio\\anaconda3\\lib\\site-packages\\ipykernel_launcher.py:14: SettingWithCopyWarning: \n",
      "A value is trying to be set on a copy of a slice from a DataFrame.\n",
      "Try using .loc[row_indexer,col_indexer] = value instead\n",
      "\n",
      "See the caveats in the documentation: https://pandas.pydata.org/pandas-docs/stable/user_guide/indexing.html#returning-a-view-versus-a-copy\n",
      "  \n"
     ]
    }
   ],
   "source": [
    "\n",
    "X_A = fraud[['type_mapped','isFlaggedFraud','without_newbalance','without_oldbalance','nameDest','nameOrig','isFraud']]\n",
    "#'amount', 'oldbalanceOrg', 'oldbalanceDest'\n",
    "y_A = fraud['isFraud']\n",
    "from sklearn.model_selection import train_test_split\n",
    "X_train_A, X_test_A, y_train_A, y_test_A = train_test_split(X_A, y_A)\n",
    "\n",
    "\n",
    "X_train_A['Fraud_Relation_Name']=X_train_A['nameDest']+X_train_A['nameOrig']\n",
    "fraud_rel = X_train_A.groupby('Fraud_Relation_Name')['isFraud'].max()\n",
    "\n",
    "X_train_A['Fraud_rel'] = X_train_A['Fraud_Relation_Name'].map(fraud_rel)\n",
    "\n",
    "X_test_A['Fraud_Relation_Name']=X_test_A['nameDest']+X_test_A['nameOrig']\n",
    "X_test_A['Fraud_rel'] = X_test_A['Fraud_Relation_Name'].map(fraud_rel)\n",
    "X_train_A=X_train_A[['type_mapped','isFlaggedFraud','Fraud_rel']]\n",
    "X_test_A=X_test_A[['type_mapped','isFlaggedFraud','Fraud_rel']]"
   ]
  },
  {
   "cell_type": "code",
   "execution_count": 197,
   "metadata": {},
   "outputs": [
    {
     "name": "stderr",
     "output_type": "stream",
     "text": [
      "C:\\Users\\rozio\\anaconda3\\lib\\site-packages\\ipykernel_launcher.py:12: SettingWithCopyWarning: \n",
      "A value is trying to be set on a copy of a slice from a DataFrame.\n",
      "Try using .loc[row_indexer,col_indexer] = value instead\n",
      "\n",
      "See the caveats in the documentation: https://pandas.pydata.org/pandas-docs/stable/user_guide/indexing.html#returning-a-view-versus-a-copy\n",
      "  if sys.path[0] == '':\n",
      "C:\\Users\\rozio\\anaconda3\\lib\\site-packages\\ipykernel_launcher.py:14: SettingWithCopyWarning: \n",
      "A value is trying to be set on a copy of a slice from a DataFrame.\n",
      "Try using .loc[row_indexer,col_indexer] = value instead\n",
      "\n",
      "See the caveats in the documentation: https://pandas.pydata.org/pandas-docs/stable/user_guide/indexing.html#returning-a-view-versus-a-copy\n",
      "  \n",
      "C:\\Users\\rozio\\anaconda3\\lib\\site-packages\\ipykernel_launcher.py:16: SettingWithCopyWarning: \n",
      "A value is trying to be set on a copy of a slice from a DataFrame.\n",
      "Try using .loc[row_indexer,col_indexer] = value instead\n",
      "\n",
      "See the caveats in the documentation: https://pandas.pydata.org/pandas-docs/stable/user_guide/indexing.html#returning-a-view-versus-a-copy\n",
      "  app.launch_new_instance()\n",
      "C:\\Users\\rozio\\anaconda3\\lib\\site-packages\\ipykernel_launcher.py:17: SettingWithCopyWarning: \n",
      "A value is trying to be set on a copy of a slice from a DataFrame.\n",
      "Try using .loc[row_indexer,col_indexer] = value instead\n",
      "\n",
      "See the caveats in the documentation: https://pandas.pydata.org/pandas-docs/stable/user_guide/indexing.html#returning-a-view-versus-a-copy\n"
     ]
    }
   ],
   "source": [
    "from sklearn.linear_model import LogisticRegression\n",
    "from sklearn.model_selection import train_test_split\n",
    "from sklearn.metrics import precision_score, recall_score, f1_score, confusion_matrix\n",
    "\n",
    "# Assuming these are already defined\n",
    "# X_A = fraud[['type_mapped','isFlaggedFraud','nameDest','nameOrig','isFraud']]\n",
    "# y_A = fraud['isFraud']\n",
    "\n",
    "X_train_A, X_test_A, y_train_A, y_test_A = train_test_split(X_A, y_A)\n",
    "\n",
    "# Creating engineered features\n",
    "X_train_A['Fraud_Relation_Name'] = X_train_A['nameDest'] + X_train_A['nameOrig']\n",
    "fraud_rel = X_train_A.groupby('Fraud_Relation_Name')['isFraud'].max()\n",
    "X_train_A['Fraud_rel'] = X_train_A['Fraud_Relation_Name'].map(fraud_rel)\n",
    "\n",
    "X_test_A['Fraud_Relation_Name'] = X_test_A['nameDest'] + X_test_A['nameOrig']\n",
    "X_test_A['Fraud_rel'] = X_test_A['Fraud_Relation_Name'].map(fraud_rel)\n",
    "\n",
    "# Selecting relevant features\n",
    "X_train_A = X_train_A[['type_mapped', 'isFlaggedFraud', 'Fraud_rel','without_newbalance','without_oldbalance']]\n",
    "X_test_A = X_test_A[['type_mapped', 'isFlaggedFraud', 'Fraud_rel','without_newbalance','without_oldbalance']]\n",
    "\n"
   ]
  },
  {
   "cell_type": "code",
   "execution_count": 198,
   "metadata": {},
   "outputs": [
    {
     "name": "stdout",
     "output_type": "stream",
     "text": [
      "Model A SCORE: 0.99828\n",
      "Precision Model A: 0.0\n",
      "Recall Model A: 0.0\n",
      "F1-score Model A: 0.0\n",
      "Confusion Matrix:\n",
      "[[24957     0]\n",
      " [   43     0]]\n"
     ]
    },
    {
     "name": "stderr",
     "output_type": "stream",
     "text": [
      "C:\\Users\\rozio\\anaconda3\\lib\\site-packages\\sklearn\\metrics\\_classification.py:1272: UndefinedMetricWarning: Precision is ill-defined and being set to 0.0 due to no predicted samples. Use `zero_division` parameter to control this behavior.\n",
      "  _warn_prf(average, modifier, msg_start, len(result))\n"
=======
      "       'isFlaggedFraud', 'type_mapped', 'Fraud_Dest', 'Fraud_Orig',\n",
      "       'Fraud_Relation', 'Fraud_Relation_Name', 'Fraud_rel'],\n",
      "      dtype='object')\n",
      "Model A SCORE: 1.0\n",
      "Model B SCORE: 0.99844\n",
      "Precision Model A: 1.0\n",
      "Recall Model A: 1.0\n",
      "F1-score Model A: 1.0\n",
      "Precision Model B: 0.3333333333333333\n",
      "Recall Model B: 0.02631578947368421\n",
      "F1-score Model B: 0.048780487804878044\n"
>>>>>>> 6c56a46edc250f98c1d510c528777ebe60a0529b
     ]
    }
   ],
   "source": [
<<<<<<< HEAD
    "from sklearn.impute import SimpleImputer\n",
    "\n",
    "# Handle missing values\n",
    "imputer = SimpleImputer(strategy='constant', fill_value=0)\n",
    "X_train_A_imputed = imputer.fit_transform(X_train_A)\n",
    "X_test_A_imputed = imputer.transform(X_test_A)\n",
    "\n",
    "# Training Logistic Regression Model\n",
    "Regression_Model_A = LogisticRegression(max_iter=1000)\n",
    "Regression_Model_A.fit(X_train_A_imputed, y_train_A)\n",
    "\n",
    "# Evaluating the model\n",
    "print('Model A SCORE:', Regression_Model_A.score(X_test_A_imputed, y_test_A))\n",
    "y_pred_A = Regression_Model_A.predict(X_test_A_imputed)\n",
    "print(\"Precision Model A:\", precision_score(y_test_A, y_pred_A))\n",
    "print(\"Recall Model A:\", recall_score(y_test_A, y_pred_A))\n",
    "print(\"F1-score Model A:\", f1_score(y_test_A, y_pred_A))\n",
    "print(\"Confusion Matrix:\")\n",
    "print(confusion_matrix(y_test_A, y_pred_A))"
   ]
  },
  {
   "cell_type": "code",
   "execution_count": 199,
   "metadata": {},
   "outputs": [
    {
     "name": "stdout",
     "output_type": "stream",
     "text": [
      "Model B SCORE: 0.99824\n",
      "Precision Model B: 0.0\n",
      "Recall Model B: 0.0\n",
      "F1-score Model B: 0.0\n"
     ]
    },
    {
     "name": "stderr",
     "output_type": "stream",
     "text": [
      "C:\\Users\\rozio\\anaconda3\\lib\\site-packages\\sklearn\\metrics\\_classification.py:1272: UndefinedMetricWarning: Precision is ill-defined and being set to 0.0 due to no predicted samples. Use `zero_division` parameter to control this behavior.\n",
      "  _warn_prf(average, modifier, msg_start, len(result))\n"
     ]
    }
   ],
   "source": [
    "X_B = fraud[['type_mapped','without_oldbalance','without_newbalance']]\n",
=======
    "print('Candidate variables: step, amount and choosing one of these, as there are correlated:newbalanceDest,oldbalanceDest')\n",
    "print(fraud.columns)  # Imprimir los nombres de las columnas\n",
    "X_A = fraud[['type_mapped','isFlaggedFraud','Fraud_rel']]\n",
    "#'amount', 'oldbalanceOrg', 'oldbalanceDest'\n",
    "y_A = fraud['isFraud']\n",
    "from sklearn.model_selection import train_test_split\n",
    "X_train_A, X_test_A, y_train_A, y_test_A = train_test_split(X_A, y_A)\n",
    "\n",
    "X_B = fraud[['amount', 'newbalanceOrig', 'newbalanceDest','type_mapped','isFlaggedFraud','Fraud_rel']]\n",
>>>>>>> 6c56a46edc250f98c1d510c528777ebe60a0529b
    "y_B = fraud['isFraud']\n",
    "\n",
    "X_train_B, X_test_B, y_train_B, y_test_B = train_test_split(X_B, y_B)\n",
    "\n",
    "\n",
    "Regression_Model_B = LogisticRegression(max_iter=1000)\n",
    "Regression_Model_B.fit(X_train_B, y_train_B)\n",
    "print('Model B SCORE:', Regression_Model_B.score(X_test_B, y_test_B))\n",
    "\n",
    "# Calcular precisión, recall y F1-score para el modelo B\n",
    "y_pred_B = Regression_Model_B.predict(X_test_B)\n",
    "print(\"Precision Model B:\", precision_score(y_test_B, y_pred_B))\n",
    "print(\"Recall Model B:\", recall_score(y_test_B, y_pred_B))\n",
    "print(\"F1-score Model B:\", f1_score(y_test_B, y_pred_B))"
   ]
  },
  {
   "cell_type": "code",
<<<<<<< HEAD
   "execution_count": 262,
   "metadata": {
    "scrolled": true
   },
   "outputs": [
    {
     "name": "stderr",
     "output_type": "stream",
     "text": [
      "C:\\Users\\rozio\\anaconda3\\lib\\site-packages\\ipykernel_launcher.py:9: SettingWithCopyWarning: \n",
      "A value is trying to be set on a copy of a slice from a DataFrame.\n",
      "Try using .loc[row_indexer,col_indexer] = value instead\n",
      "\n",
      "See the caveats in the documentation: https://pandas.pydata.org/pandas-docs/stable/user_guide/indexing.html#returning-a-view-versus-a-copy\n",
      "  if __name__ == '__main__':\n",
      "C:\\Users\\rozio\\anaconda3\\lib\\site-packages\\ipykernel_launcher.py:11: SettingWithCopyWarning: \n",
      "A value is trying to be set on a copy of a slice from a DataFrame.\n",
      "Try using .loc[row_indexer,col_indexer] = value instead\n",
      "\n",
      "See the caveats in the documentation: https://pandas.pydata.org/pandas-docs/stable/user_guide/indexing.html#returning-a-view-versus-a-copy\n",
      "  # This is added back by InteractiveShellApp.init_path()\n",
      "C:\\Users\\rozio\\anaconda3\\lib\\site-packages\\ipykernel_launcher.py:13: SettingWithCopyWarning: \n",
      "A value is trying to be set on a copy of a slice from a DataFrame.\n",
      "Try using .loc[row_indexer,col_indexer] = value instead\n",
      "\n",
      "See the caveats in the documentation: https://pandas.pydata.org/pandas-docs/stable/user_guide/indexing.html#returning-a-view-versus-a-copy\n",
      "  del sys.path[0]\n",
      "C:\\Users\\rozio\\anaconda3\\lib\\site-packages\\ipykernel_launcher.py:14: SettingWithCopyWarning: \n",
      "A value is trying to be set on a copy of a slice from a DataFrame.\n",
      "Try using .loc[row_indexer,col_indexer] = value instead\n",
      "\n",
      "See the caveats in the documentation: https://pandas.pydata.org/pandas-docs/stable/user_guide/indexing.html#returning-a-view-versus-a-copy\n",
      "  \n"
     ]
    },
    {
     "name": "stdout",
     "output_type": "stream",
     "text": [
      "Model C SCORE: 0.99884\n",
      "Precision Model C: 0.0\n",
      "Recall Model C: 0.0\n",
      "F1-score Model C: 0.0\n"
     ]
    },
    {
     "name": "stderr",
     "output_type": "stream",
     "text": [
      "C:\\Users\\rozio\\anaconda3\\lib\\site-packages\\sklearn\\metrics\\_classification.py:1272: UndefinedMetricWarning: Precision is ill-defined and being set to 0.0 due to no predicted samples. Use `zero_division` parameter to control this behavior.\n",
      "  _warn_prf(average, modifier, msg_start, len(result))\n"
     ]
    }
   ],
   "source": [
    "X_C = fraud[['critical_situation','type_mapped','nameOrig','nameDest','amount','isFlaggedFraud','isFraud']]\n",
    "y_C = fraud['isFraud']\n",
    "#'without_oldbalance',\n",
    "X_train_C, X_test_C, y_train_C, y_test_C = train_test_split(X_C, y_C)\n",
    "\n",
    "\n",
    "\n",
    "# Creating engineered features\n",
    "X_train_C['Fraud_Relation_Name'] = X_train_C['nameDest'] + X_train_C['nameOrig']\n",
    "fraud_rel = X_train_C.groupby('Fraud_Relation_Name')['isFraud'].max()\n",
    "X_train_C['Fraud_rel'] = X_train_C['Fraud_Relation_Name'].map(fraud_rel)\n",
    "\n",
    "X_test_C['Fraud_Relation_Name'] = X_test_C['nameDest'] + X_test_C['nameOrig']\n",
    "X_test_C['Fraud_rel'] = X_test_C['Fraud_Relation_Name'].map(fraud_rel)\n",
    "\n",
    "# Selecting relevant features\n",
    "X_train_C = X_train_C[[  'critical_situation']]\n",
    "X_test_C = X_test_C[[ 'critical_situation']]\n",
    "imputer = SimpleImputer(strategy='constant', fill_value=0)  # Or any other strategy you prefer\n",
    "X_train_C_imputed = imputer.fit_transform(X_train_C)\n",
    "X_test_C_imputed = imputer.transform(X_test_C)\n",
    "\n",
    "Regression_Model_C = LogisticRegression(max_iter=1000)\n",
    "Regression_Model_C.fit(X_train_C_imputed, y_train_C)\n",
    "\n",
    "# Evaluating the model\n",
    "print('Model C SCORE:', Regression_Model_C.score(X_test_C_imputed, y_test_C))\n",
    "y_pred_C = Regression_Model_C.predict(X_test_C_imputed)\n",
    "print(\"Precision Model C:\", precision_score(y_test_C, y_pred_C))\n",
    "print(\"Recall Model C:\", recall_score(y_test_C, y_pred_C))\n",
    "print(\"F1-score Model C:\", f1_score(y_test_C, y_pred_C))"
=======
   "execution_count": 427,
   "metadata": {},
   "outputs": [
    {
     "name": "stdout",
     "output_type": "stream",
     "text": [
      "Candidate variables: step, amount and choosing one of these, as there are correlated:newbalanceDest,oldbalanceDest\n",
      "Index(['step', 'type', 'amount', 'nameOrig', 'oldbalanceOrg', 'newbalanceOrig',\n",
      "       'nameDest', 'oldbalanceDest', 'newbalanceDest', 'isFraud',\n",
      "       'isFlaggedFraud', 'type_mapped', 'Fraud_Dest', 'Fraud_Orig',\n",
      "       'Fraud_Relation', 'Fraud_Relation_Name', 'Fraud_rel'],\n",
      "      dtype='object')\n",
      "Model C SCORE: 1.0\n",
      "Precision Model C: 1.0\n",
      "Recall Model C: 1.0\n",
      "F1-score Model C: 1.0\n"
     ]
    },
    {
     "data": {
      "text/plain": [
       "array([[24964,     0],\n",
       "       [    0,    36]], dtype=int64)"
      ]
     },
     "execution_count": 427,
     "metadata": {},
     "output_type": "execute_result"
    }
   ],
   "source": [
    "print('Candidate variables: step, amount and choosing one of these, as there are correlated:newbalanceDest,oldbalanceDest')\n",
    "print(fraud.columns)  # Imprimir los nombres de las columnas\n",
    "X_C= fraud[['type_mapped','Fraud_rel']]\n",
    "#'amount', 'oldbalanceOrg', 'oldbalanceDest','isFlaggedFraud',\n",
    "y_C = fraud['isFraud']\n",
    "from sklearn.model_selection import train_test_split\n",
    "X_train_C, X_test_C, y_train_C, y_test_C = train_test_split(X_C, y_C)\n",
    "\n",
    "\n",
    "Regression_Model_C = LogisticRegression(max_iter=1000)\n",
    "Regression_Model_C.fit(X_train_C, y_train_C)\n",
    "print('Model C SCORE:', Regression_Model_C.score(X_test_C, y_test_C))\n",
    "\n",
    "# Calcular precisión, recall y F1-score para el modelo A\n",
    "y_pred_C = Regression_Model_A.predict(X_test_C)\n",
    "print(\"Precision Model C:\", precision_score(y_test_C, y_pred_C))\n",
    "print(\"Recall Model C:\", recall_score(y_test_C, y_pred_C))\n",
    "print(\"F1-score Model C:\", f1_score(y_test_C, y_pred_C))\n",
    "confusion_matrix(y_test_C,y_pred_C)\n"
>>>>>>> 6c56a46edc250f98c1d510c528777ebe60a0529b
   ]
  },
  {
   "cell_type": "code",
<<<<<<< HEAD
   "execution_count": 235,
=======
   "execution_count": 408,
>>>>>>> 6c56a46edc250f98c1d510c528777ebe60a0529b
   "metadata": {},
   "outputs": [
    {
     "data": {
      "text/plain": [
<<<<<<< HEAD
       "array([[24956,     0],\n",
       "       [   44,     0]], dtype=int64)"
      ]
     },
     "execution_count": 235,
=======
       "array([[24960,     2],\n",
       "       [   37,     1]], dtype=int64)"
      ]
     },
     "execution_count": 408,
>>>>>>> 6c56a46edc250f98c1d510c528777ebe60a0529b
     "metadata": {},
     "output_type": "execute_result"
    }
   ],
   "source": [
    "from sklearn.metrics import confusion_matrix\n",
    "confusion_matrix(y_test_B,y_pred_B)"
   ]
  },
  {
<<<<<<< HEAD
   "cell_type": "code",
   "execution_count": 236,
=======
   "cell_type": "code",
   "execution_count": 409,
   "metadata": {},
   "outputs": [
    {
     "data": {
      "text/plain": [
       "array([[24967,     0],\n",
       "       [    0,    33]], dtype=int64)"
      ]
     },
     "execution_count": 409,
     "metadata": {},
     "output_type": "execute_result"
    }
   ],
   "source": [
    "from sklearn.metrics import confusion_matrix\n",
    "confusion_matrix(y_test_A,y_pred_A)"
   ]
  },
  {
   "cell_type": "markdown",
   "metadata": {},
   "source": [
    "# Oversamping over \"A\" approach :"
   ]
  },
  {
   "cell_type": "code",
   "execution_count": 410,
>>>>>>> 6c56a46edc250f98c1d510c528777ebe60a0529b
   "metadata": {},
   "outputs": [
    {
     "data": {
      "text/plain": [
       "array([[24957,     0],\n",
       "       [   43,     0]], dtype=int64)"
      ]
     },
     "execution_count": 236,
     "metadata": {},
     "output_type": "execute_result"
    }
   ],
   "source": [
    "from sklearn.metrics import confusion_matrix\n",
    "confusion_matrix(y_test_A,y_pred_A)"
   ]
  },
  {
   "cell_type": "code",
   "execution_count": 263,
   "metadata": {},
   "outputs": [
    {
     "data": {
      "text/plain": [
       "array([[24971,     0],\n",
       "       [   29,     0]], dtype=int64)"
      ]
     },
     "execution_count": 263,
     "metadata": {},
     "output_type": "execute_result"
    }
   ],
   "source": [
    "\n",
    "confusion_matrix(y_test_C,y_pred_C)"
   ]
  },
  {
   "cell_type": "code",
   "execution_count": 238,
   "metadata": {},
   "outputs": [
    {
     "data": {
      "text/plain": [
       "Index(['step', 'type', 'amount', 'nameOrig', 'oldbalanceOrg', 'newbalanceOrig',\n",
       "       'nameDest', 'oldbalanceDest', 'newbalanceDest', 'isFraud',\n",
       "       'isFlaggedFraud', 'type_mapped', 'without_oldbalance',\n",
       "       'without_newbalance', 'critical_situation'],\n",
       "      dtype='object')"
      ]
     },
     "execution_count": 238,
     "metadata": {},
     "output_type": "execute_result"
    }
   ],
   "source": [
    "fraud.columns"
   ]
  },
  {
   "cell_type": "markdown",
   "metadata": {},
   "source": [
    "# Oversamping over \"C\" approach :"
   ]
  },
  {
   "cell_type": "code",
   "execution_count": 264,
   "metadata": {},
   "outputs": [
    {
     "data": {
      "text/plain": [
       "(75000, 2)"
      ]
     },
     "metadata": {},
     "output_type": "display_data"
    },
    {
     "data": {
      "text/html": [
       "<div>\n",
       "<style scoped>\n",
       "    .dataframe tbody tr th:only-of-type {\n",
       "        vertical-align: middle;\n",
       "    }\n",
       "\n",
       "    .dataframe tbody tr th {\n",
       "        vertical-align: top;\n",
       "    }\n",
       "\n",
       "    .dataframe thead th {\n",
       "        text-align: right;\n",
       "    }\n",
       "</style>\n",
       "<table border=\"1\" class=\"dataframe\">\n",
       "  <thead>\n",
       "    <tr style=\"text-align: right;\">\n",
       "      <th></th>\n",
<<<<<<< HEAD
       "      <th>critical_situation</th>\n",
=======
       "      <th>type_mapped</th>\n",
       "      <th>isFlaggedFraud</th>\n",
       "      <th>Fraud_rel</th>\n",
>>>>>>> 6c56a46edc250f98c1d510c528777ebe60a0529b
       "      <th>isFraud</th>\n",
       "    </tr>\n",
       "  </thead>\n",
       "  <tbody>\n",
       "    <tr>\n",
<<<<<<< HEAD
       "      <th>90413</th>\n",
=======
       "      <th>19431</th>\n",
       "      <td>0</td>\n",
       "      <td>0</td>\n",
>>>>>>> 6c56a46edc250f98c1d510c528777ebe60a0529b
       "      <td>0</td>\n",
       "      <td>0</td>\n",
       "    </tr>\n",
       "    <tr>\n",
<<<<<<< HEAD
       "      <th>48588</th>\n",
=======
       "      <th>33278</th>\n",
       "      <td>0</td>\n",
       "      <td>0</td>\n",
>>>>>>> 6c56a46edc250f98c1d510c528777ebe60a0529b
       "      <td>0</td>\n",
       "      <td>0</td>\n",
       "    </tr>\n",
       "    <tr>\n",
<<<<<<< HEAD
       "      <th>78035</th>\n",
=======
       "      <th>44286</th>\n",
       "      <td>1</td>\n",
       "      <td>0</td>\n",
>>>>>>> 6c56a46edc250f98c1d510c528777ebe60a0529b
       "      <td>0</td>\n",
       "      <td>0</td>\n",
       "    </tr>\n",
       "    <tr>\n",
<<<<<<< HEAD
       "      <th>95784</th>\n",
=======
       "      <th>64594</th>\n",
       "      <td>0</td>\n",
       "      <td>0</td>\n",
       "      <td>0</td>\n",
>>>>>>> 6c56a46edc250f98c1d510c528777ebe60a0529b
       "      <td>0</td>\n",
       "      <td>1</td>\n",
       "    </tr>\n",
       "    <tr>\n",
<<<<<<< HEAD
       "      <th>66195</th>\n",
=======
       "      <th>8775</th>\n",
       "      <td>1</td>\n",
       "      <td>0</td>\n",
>>>>>>> 6c56a46edc250f98c1d510c528777ebe60a0529b
       "      <td>0</td>\n",
       "      <td>0</td>\n",
       "    </tr>\n",
       "  </tbody>\n",
       "</table>\n",
       "</div>"
      ],
      "text/plain": [
<<<<<<< HEAD
       "       critical_situation  isFraud\n",
       "90413                   0        0\n",
       "48588                   0        0\n",
       "78035                   0        0\n",
       "95784                   0        1\n",
       "66195                   0        0"
      ]
     },
     "execution_count": 264,
=======
       "       type_mapped  isFlaggedFraud  Fraud_rel  isFraud\n",
       "19431            0               0          0        0\n",
       "33278            0               0          0        0\n",
       "44286            1               0          0        0\n",
       "64594            0               0          0        0\n",
       "8775             1               0          0        0"
      ]
     },
     "execution_count": 410,
>>>>>>> 6c56a46edc250f98c1d510c528777ebe60a0529b
     "metadata": {},
     "output_type": "execute_result"
    }
   ],
   "source": [
    "from sklearn.utils import resample\n",
<<<<<<< HEAD
    "train = pd.concat([X_train_C, y_train_C],axis=1)\n",
=======
    "train = pd.concat([X_train_A, y_train_A],axis=1)\n",
>>>>>>> 6c56a46edc250f98c1d510c528777ebe60a0529b
    "display(train.shape)\n",
    "train.head()\n"
   ]
  },
  {
   "cell_type": "code",
<<<<<<< HEAD
   "execution_count": 265,
=======
   "execution_count": 411,
>>>>>>> 6c56a46edc250f98c1d510c528777ebe60a0529b
   "metadata": {},
   "outputs": [
    {
     "data": {
      "text/plain": [
<<<<<<< HEAD
       "(124, 2)"
=======
       "(89, 4)"
>>>>>>> 6c56a46edc250f98c1d510c528777ebe60a0529b
      ]
     },
     "metadata": {},
     "output_type": "display_data"
    },
    {
     "data": {
      "text/plain": [
<<<<<<< HEAD
       "(74876, 2)"
=======
       "(74911, 4)"
>>>>>>> 6c56a46edc250f98c1d510c528777ebe60a0529b
      ]
     },
     "metadata": {},
     "output_type": "display_data"
    }
   ],
   "source": [
    "yes_fraud = train[train['isFraud']==1]\n",
    "no_fraud = train[train['isFraud']==0]\n",
    "display(yes_fraud.shape)\n",
    "display(no_fraud.shape)"
   ]
  },
  {
   "cell_type": "code",
<<<<<<< HEAD
   "execution_count": 266,
=======
   "execution_count": 412,
>>>>>>> 6c56a46edc250f98c1d510c528777ebe60a0529b
   "metadata": {},
   "outputs": [
    {
     "data": {
      "text/plain": [
<<<<<<< HEAD
       "(74876, 2)"
=======
       "(74911, 4)"
>>>>>>> 6c56a46edc250f98c1d510c528777ebe60a0529b
      ]
     },
     "metadata": {},
     "output_type": "display_data"
    }
   ],
   "source": [
    "yes_fraud_oversampled = resample(yes_fraud, #<- sample from here\n",
    "                                    replace=True, #<- we need replacement, since we don't have enough data otherwise\n",
    "                                    n_samples = len(no_fraud),#<- make both sets the same size\n",
    "                                    random_state=0)\n",
    "display(yes_fraud_oversampled.shape)"
   ]
  },
  {
   "cell_type": "code",
<<<<<<< HEAD
   "execution_count": 267,
=======
   "execution_count": 413,
>>>>>>> 6c56a46edc250f98c1d510c528777ebe60a0529b
   "metadata": {},
   "outputs": [
    {
     "data": {
      "text/html": [
       "<div>\n",
       "<style scoped>\n",
       "    .dataframe tbody tr th:only-of-type {\n",
       "        vertical-align: middle;\n",
       "    }\n",
       "\n",
       "    .dataframe tbody tr th {\n",
       "        vertical-align: top;\n",
       "    }\n",
       "\n",
       "    .dataframe thead th {\n",
       "        text-align: right;\n",
       "    }\n",
       "</style>\n",
       "<table border=\"1\" class=\"dataframe\">\n",
       "  <thead>\n",
       "    <tr style=\"text-align: right;\">\n",
       "      <th></th>\n",
<<<<<<< HEAD
       "      <th>critical_situation</th>\n",
=======
       "      <th>type_mapped</th>\n",
       "      <th>isFlaggedFraud</th>\n",
       "      <th>Fraud_rel</th>\n",
>>>>>>> 6c56a46edc250f98c1d510c528777ebe60a0529b
       "      <th>isFraud</th>\n",
       "    </tr>\n",
       "  </thead>\n",
       "  <tbody>\n",
       "    <tr>\n",
<<<<<<< HEAD
       "      <th>90413</th>\n",
=======
       "      <th>19431</th>\n",
       "      <td>0</td>\n",
       "      <td>0</td>\n",
>>>>>>> 6c56a46edc250f98c1d510c528777ebe60a0529b
       "      <td>0</td>\n",
       "      <td>0</td>\n",
       "    </tr>\n",
       "    <tr>\n",
<<<<<<< HEAD
       "      <th>48588</th>\n",
=======
       "      <th>33278</th>\n",
       "      <td>0</td>\n",
       "      <td>0</td>\n",
>>>>>>> 6c56a46edc250f98c1d510c528777ebe60a0529b
       "      <td>0</td>\n",
       "      <td>0</td>\n",
       "    </tr>\n",
       "    <tr>\n",
<<<<<<< HEAD
       "      <th>78035</th>\n",
=======
       "      <th>44286</th>\n",
       "      <td>1</td>\n",
       "      <td>0</td>\n",
>>>>>>> 6c56a46edc250f98c1d510c528777ebe60a0529b
       "      <td>0</td>\n",
       "      <td>0</td>\n",
       "    </tr>\n",
       "    <tr>\n",
<<<<<<< HEAD
       "      <th>66195</th>\n",
=======
       "      <th>64594</th>\n",
       "      <td>0</td>\n",
       "      <td>0</td>\n",
>>>>>>> 6c56a46edc250f98c1d510c528777ebe60a0529b
       "      <td>0</td>\n",
       "      <td>0</td>\n",
       "    </tr>\n",
       "    <tr>\n",
<<<<<<< HEAD
       "      <th>62313</th>\n",
       "      <td>2</td>\n",
=======
       "      <th>8775</th>\n",
       "      <td>1</td>\n",
       "      <td>0</td>\n",
       "      <td>0</td>\n",
>>>>>>> 6c56a46edc250f98c1d510c528777ebe60a0529b
       "      <td>0</td>\n",
       "    </tr>\n",
       "  </tbody>\n",
       "</table>\n",
       "</div>"
      ],
      "text/plain": [
<<<<<<< HEAD
       "       critical_situation  isFraud\n",
       "90413                   0        0\n",
       "48588                   0        0\n",
       "78035                   0        0\n",
       "66195                   0        0\n",
       "62313                   2        0"
      ]
     },
     "execution_count": 267,
=======
       "       type_mapped  isFlaggedFraud  Fraud_rel  isFraud\n",
       "19431            0               0          0        0\n",
       "33278            0               0          0        0\n",
       "44286            1               0          0        0\n",
       "64594            0               0          0        0\n",
       "8775             1               0          0        0"
      ]
     },
     "execution_count": 413,
>>>>>>> 6c56a46edc250f98c1d510c528777ebe60a0529b
     "metadata": {},
     "output_type": "execute_result"
    }
   ],
   "source": [
    "train_oversampled = pd.concat([no_fraud,yes_fraud_oversampled])\n",
    "train_oversampled.head()"
   ]
  },
  {
   "cell_type": "code",
<<<<<<< HEAD
   "execution_count": 282,
=======
   "execution_count": 421,
>>>>>>> 6c56a46edc250f98c1d510c528777ebe60a0529b
   "metadata": {},
   "outputs": [
    {
     "name": "stdout",
     "output_type": "stream",
     "text": [
<<<<<<< HEAD
      "Precision:  0.0017379839386311878\n",
      "Recall:  1.0\n",
      "F1-score:  0.0034699371821717024\n",
      "Model B OVERSAMPLED SCORE: 0.33372\n",
      "Confusion Matrix:\n",
      "[[ 8314 16657]\n",
      " [    0    29]]\n"
=======
      "precision:  1.0\n",
      "recall:  1.0\n",
      "f1:  1.0\n",
      "Model B OVERSAMPLED SCORE: 1.0\n"
>>>>>>> 6c56a46edc250f98c1d510c528777ebe60a0529b
     ]
    },
    {
     "data": {
      "text/plain": [
       "array([[24967,     0],\n",
       "       [    0,    33]], dtype=int64)"
      ]
     },
     "execution_count": 421,
     "metadata": {},
     "output_type": "execute_result"
    }
   ],
   "source": [
    "y_train_over = train_oversampled[['isFraud']]\n",
    "X_train_over = train_oversampled[['critical_situation']]\n",
    "\n",
    "# Handle missing values\n",
    "imputer = SimpleImputer(strategy='constant', fill_value=0)  \n",
    "X_train_over_imputed = imputer.fit_transform(X_train_over)\n",
    "X_test_C_imputed = imputer.transform(X_test_C)\n",
    "\n",
    "# Train Logistic Regression Model\n",
    "LR = LogisticRegression(max_iter=1000)\n",
<<<<<<< HEAD
    "LR.fit(X_train_over_imputed, y_train_over.values.ravel())  # Convert y_train_over to a 1D array\n",
    "\n",
    "# Predict using the trained model\n",
    "pred = LR.predict(X_test_C_imputed)\n",
    "\n",
    "# Print evaluation metrics\n",
    "print(\"Precision: \", precision_score(y_test_C, pred))\n",
    "print(\"Recall: \", recall_score(y_test_C, pred))\n",
    "print(\"F1-score: \", f1_score(y_test_C, pred))\n",
    "print('Model B OVERSAMPLED SCORE:', LR.score(X_test_C_imputed, y_test_C))\n",
    "\n",
    "# Compute and print confusion matrix\n",
    "cm = confusion_matrix(y_test_C, pred)\n",
    "print(\"Confusion Matrix:\")\n",
    "print(cm)"
=======
    "LR.fit(X_train_over, y_train_over)\n",
    "pred = LR.predict(X_test_A)\n",
    "from sklearn.metrics import precision_score\n",
    "from sklearn.metrics import recall_score\n",
    "from sklearn.metrics import f1_score\n",
    "print(\"precision: \",precision_score(y_test_A,pred))\n",
    "print(\"recall: \",recall_score(y_test_A,pred))\n",
    "print(\"f1: \",f1_score(y_test_A,pred))\n",
    "print('Model B OVERSAMPLED SCORE:',LR.score(X_test_A, y_test_A))\n",
    "from sklearn.metrics import confusion_matrix\n",
    "\n",
    "\n",
    "confusion_matrix(y_test_A,pred)"
>>>>>>> 6c56a46edc250f98c1d510c528777ebe60a0529b
   ]
  },
  {
   "cell_type": "markdown",
   "metadata": {},
   "source": [
<<<<<<< HEAD
    "# Decision Tree option:"
=======
    "# Undersampling over \"A\" approach:"
>>>>>>> 6c56a46edc250f98c1d510c528777ebe60a0529b
   ]
  },
  {
   "cell_type": "code",
<<<<<<< HEAD
   "execution_count": 269,
   "metadata": {},
   "outputs": [
    {
     "name": "stdout",
     "output_type": "stream",
     "text": [
      "Precision: 0.0017379839386311878\n",
      "Recall: 1.0\n",
      "Confusion Matrix:\n",
      "[[ 8314 16657]\n",
      " [    0    29]]\n"
     ]
    }
   ],
   "source": [
    "from sklearn.tree import DecisionTreeClassifier\n",
    "from sklearn.metrics import precision_score, recall_score, confusion_matrix\n",
    "imputer = SimpleImputer(strategy='constant', fill_value=0)   # You can use other strategies as well\n",
    "\n",
    "# Fit the imputer on the training data and transform both the training and test data\n",
    "X_train_over_imputed = imputer.fit_transform(X_train_over)\n",
    "X_test_C_imputed = imputer.transform(X_test_C)\n",
    "# Assuming train_oversampled contains both features (X_train_over) and target (y_train_over)\n",
    "\n",
    "# Create and fit the decision tree model\n",
    "tree_model = DecisionTreeClassifier()\n",
    "tree_model.fit(X_train_over_imputed, y_train_over)\n",
    "\n",
    "\n",
    "# Make predictions on the test set\n",
    "pred_tree = tree_model.predict(X_test_C_imputed)\n",
    "\n",
    "# Print evaluation metrics\n",
    "print(\"Precision:\", precision_score(y_test_C, pred_tree))\n",
    "print(\"Recall:\", recall_score(y_test_C, pred_tree))\n",
    "\n",
    "# Compute and print confusion matrix\n",
    "print(\"Confusion Matrix:\")\n",
    "print(confusion_matrix(y_test_C, pred_tree))"
   ]
  },
  {
   "cell_type": "markdown",
   "metadata": {},
   "source": [
    "# Undersampling over \"C\" approach:"
   ]
  },
  {
   "cell_type": "code",
   "execution_count": 273,
=======
   "execution_count": 417,
>>>>>>> 6c56a46edc250f98c1d510c528777ebe60a0529b
   "metadata": {},
   "outputs": [
    {
     "data": {
      "text/plain": [
<<<<<<< HEAD
       "(124, 2)"
=======
       "(89, 4)"
>>>>>>> 6c56a46edc250f98c1d510c528777ebe60a0529b
      ]
     },
     "metadata": {},
     "output_type": "display_data"
    }
   ],
   "source": [
    "no_fraud_undersampled = resample(no_fraud, #<- sample from here\n",
    "                                    replace=True, #<- we need replacement, since we don't have enough data otherwise\n",
    "                                    n_samples = len(yes_fraud),#<- make both sets the same size\n",
    "                                    random_state=0)\n",
    "display(no_fraud_undersampled.shape)"
   ]
  },
  {
   "cell_type": "code",
<<<<<<< HEAD
   "execution_count": 274,
=======
   "execution_count": 418,
>>>>>>> 6c56a46edc250f98c1d510c528777ebe60a0529b
   "metadata": {},
   "outputs": [
    {
     "data": {
      "text/html": [
       "<div>\n",
       "<style scoped>\n",
       "    .dataframe tbody tr th:only-of-type {\n",
       "        vertical-align: middle;\n",
       "    }\n",
       "\n",
       "    .dataframe tbody tr th {\n",
       "        vertical-align: top;\n",
       "    }\n",
       "\n",
       "    .dataframe thead th {\n",
       "        text-align: right;\n",
       "    }\n",
       "</style>\n",
       "<table border=\"1\" class=\"dataframe\">\n",
       "  <thead>\n",
       "    <tr style=\"text-align: right;\">\n",
       "      <th></th>\n",
<<<<<<< HEAD
       "      <th>critical_situation</th>\n",
=======
       "      <th>type_mapped</th>\n",
       "      <th>isFlaggedFraud</th>\n",
       "      <th>Fraud_rel</th>\n",
>>>>>>> 6c56a46edc250f98c1d510c528777ebe60a0529b
       "      <th>isFraud</th>\n",
       "    </tr>\n",
       "  </thead>\n",
       "  <tbody>\n",
       "    <tr>\n",
<<<<<<< HEAD
       "      <th>95784</th>\n",
       "      <td>0</td>\n",
       "      <td>1</td>\n",
       "    </tr>\n",
       "    <tr>\n",
       "      <th>28641</th>\n",
       "      <td>0</td>\n",
       "      <td>1</td>\n",
       "    </tr>\n",
       "    <tr>\n",
       "      <th>99292</th>\n",
       "      <td>0</td>\n",
       "      <td>1</td>\n",
       "    </tr>\n",
       "    <tr>\n",
       "      <th>3080</th>\n",
       "      <td>0</td>\n",
       "      <td>1</td>\n",
       "    </tr>\n",
       "    <tr>\n",
       "      <th>29558</th>\n",
       "      <td>0</td>\n",
=======
       "      <th>26598</th>\n",
       "      <td>1</td>\n",
       "      <td>0</td>\n",
       "      <td>1</td>\n",
       "      <td>1</td>\n",
       "    </tr>\n",
       "    <tr>\n",
       "      <th>83479</th>\n",
       "      <td>1</td>\n",
       "      <td>0</td>\n",
       "      <td>1</td>\n",
       "      <td>1</td>\n",
       "    </tr>\n",
       "    <tr>\n",
       "      <th>51432</th>\n",
       "      <td>1</td>\n",
       "      <td>0</td>\n",
       "      <td>1</td>\n",
       "      <td>1</td>\n",
       "    </tr>\n",
       "    <tr>\n",
       "      <th>48899</th>\n",
       "      <td>1</td>\n",
       "      <td>0</td>\n",
       "      <td>1</td>\n",
       "      <td>1</td>\n",
       "    </tr>\n",
       "    <tr>\n",
       "      <th>48742</th>\n",
       "      <td>1</td>\n",
       "      <td>0</td>\n",
       "      <td>1</td>\n",
>>>>>>> 6c56a46edc250f98c1d510c528777ebe60a0529b
       "      <td>1</td>\n",
       "    </tr>\n",
       "  </tbody>\n",
       "</table>\n",
       "</div>"
      ],
      "text/plain": [
<<<<<<< HEAD
       "       critical_situation  isFraud\n",
       "95784                   0        1\n",
       "28641                   0        1\n",
       "99292                   0        1\n",
       "3080                    0        1\n",
       "29558                   0        1"
      ]
     },
     "execution_count": 274,
=======
       "       type_mapped  isFlaggedFraud  Fraud_rel  isFraud\n",
       "26598            1               0          1        1\n",
       "83479            1               0          1        1\n",
       "51432            1               0          1        1\n",
       "48899            1               0          1        1\n",
       "48742            1               0          1        1"
      ]
     },
     "execution_count": 418,
>>>>>>> 6c56a46edc250f98c1d510c528777ebe60a0529b
     "metadata": {},
     "output_type": "execute_result"
    }
   ],
   "source": [
    "train_undersampled = pd.concat([yes_fraud,no_fraud_undersampled])\n",
    "train_undersampled.head()"
   ]
  },
  {
   "cell_type": "code",
<<<<<<< HEAD
   "execution_count": 276,
=======
   "execution_count": 420,
>>>>>>> 6c56a46edc250f98c1d510c528777ebe60a0529b
   "metadata": {},
   "outputs": [
    {
     "name": "stdout",
     "output_type": "stream",
     "text": [
<<<<<<< HEAD
      "precision:  0.0017379839386311878\n",
      "recall:  1.0\n",
      "f1:  0.0034699371821717024\n",
      "Model B UNDERSAMPLED SCORE: 0.33372\n"
     ]
    },
    {
     "name": "stderr",
     "output_type": "stream",
     "text": [
      "C:\\Users\\rozio\\anaconda3\\lib\\site-packages\\sklearn\\utils\\validation.py:760: DataConversionWarning: A column-vector y was passed when a 1d array was expected. Please change the shape of y to (n_samples, ), for example using ravel().\n",
      "  y = column_or_1d(y, warn=True)\n"
=======
      "precision:  1.0\n",
      "recall:  1.0\n",
      "f1:  1.0\n",
      "Model B UNDERSAMPLED SCORE: 1.0\n"
>>>>>>> 6c56a46edc250f98c1d510c528777ebe60a0529b
     ]
    },
    {
     "data": {
      "text/plain": [
<<<<<<< HEAD
       "array([[ 8314, 16657],\n",
       "       [    0,    29]], dtype=int64)"
      ]
     },
     "execution_count": 276,
=======
       "array([[24967,     0],\n",
       "       [    0,    33]], dtype=int64)"
      ]
     },
     "execution_count": 420,
>>>>>>> 6c56a46edc250f98c1d510c528777ebe60a0529b
     "metadata": {},
     "output_type": "execute_result"
    }
   ],
   "source": [
<<<<<<< HEAD
    "y_train_under = train_undersampled[['isFraud']]\n",
    "X_train_under = train_undersampled[['critical_situation']]\n",
    "LR = LogisticRegression(max_iter=1000)\n",
    "LR.fit(X_train_under, y_train_under)\n",
    "pred = LR.predict(X_test_C)\n",
    "\n",
    "print(\"precision: \",precision_score(y_test_C,pred))\n",
    "print(\"recall: \",recall_score(y_test_C,pred))\n",
    "print(\"f1: \",f1_score(y_test_C,pred))\n",
    "print('Model B UNDERSAMPLED SCORE:',LR.score(X_test_C, y_test_C))\n",
    "\n",
    "\n",
    "confusion_matrix(y_test_C,pred)"
=======
    "y_train_under = train_undersampled['isFraud'].copy()\n",
    "X_train_under = train_undersampled.drop('isFraud',axis = 1).copy()\n",
    "LR_under = LogisticRegression(max_iter=1000)\n",
    "LR_under.fit(X_train_under, y_train_under)\n",
    "pred_under = LR_under.predict(X_test_A)\n",
    "from sklearn.metrics import precision_score\n",
    "from sklearn.metrics import recall_score\n",
    "from sklearn.metrics import f1_score\n",
    "print(\"precision: \",precision_score(y_test_A,pred_under))\n",
    "print(\"recall: \",recall_score(y_test_A,pred_under))\n",
    "print(\"f1: \",f1_score(y_test_A,pred_under))\n",
    "print('Model B UNDERSAMPLED SCORE:',LR_under.score(X_test_A, y_test_A))\n",
    "from sklearn.metrics import confusion_matrix\n",
    "\n",
    "\n",
    "confusion_matrix(y_test_A,pred_under)"
>>>>>>> 6c56a46edc250f98c1d510c528777ebe60a0529b
   ]
  },
  {
   "cell_type": "markdown",
   "metadata": {},
   "source": [
    "### Now pick a model of your choice and evaluate its accuracy."
   ]
  },
  {
   "cell_type": "code",
<<<<<<< HEAD
   "execution_count": 283,
=======
   "execution_count": 430,
>>>>>>> 6c56a46edc250f98c1d510c528777ebe60a0529b
   "metadata": {},
   "outputs": [
    {
     "name": "stdout",
     "output_type": "stream",
     "text": [
<<<<<<< HEAD
      "Precision for class 0: 0.0\n",
      "Recall for class 0: 0.0\n",
      "Precision for class 1: 1.0\n",
      "Recall for class 1: 1.0\n"
     ]
    },
    {
     "name": "stderr",
     "output_type": "stream",
     "text": [
      "C:\\Users\\rozio\\anaconda3\\lib\\site-packages\\sklearn\\metrics\\_classification.py:1272: UndefinedMetricWarning: Recall is ill-defined and being set to 0.0 due to no true samples. Use `zero_division` parameter to control this behavior.\n",
      "  _warn_prf(average, modifier, msg_start, len(result))\n"
     ]
    },
    {
     "data": {
      "image/png": "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\n",
      "text/plain": [
       "<Figure size 432x288 with 2 Axes>"
      ]
     },
     "metadata": {},
     "output_type": "display_data"
    },
    {
     "data": {
      "image/png": "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\n",
      "text/plain": [
       "<Figure size 432x288 with 2 Axes>"
      ]
     },
     "metadata": {},
     "output_type": "display_data"
    }
   ],
   "source": [
    "from sklearn.metrics import confusion_matrix, precision_score, recall_score, ConfusionMatrixDisplay\n",
    "import matplotlib.pyplot as plt\n",
    "\n",
    "# Calculate the confusion matrix\n",
    "cm = confusion_matrix(y_test_C, pred)\n",
    "\n",
    "# Separate predictions and ground truth labels for each class\n",
    "pred_class_0 = pred[y_test_C == 0]\n",
    "y_test_class_0 = y_test_C[y_test_C == 0]\n",
    "\n",
    "pred_class_1 = pred[y_test_C == 1]\n",
    "y_test_class_1 = y_test_C[y_test_C == 1]\n",
    "\n",
    "# Calculate confusion matrices for each class\n",
    "cm_class_0 = confusion_matrix(y_test_class_0, pred_class_0)\n",
    "cm_class_1 = confusion_matrix(y_test_class_1, pred_class_1)\n",
    "\n",
    "# Calculate precision and recall for each class\n",
    "precision_0 = precision_score(y_test_class_0, pred_class_0)\n",
    "recall_0 = recall_score(y_test_class_0, pred_class_0)\n",
    "\n",
    "precision_1 = precision_score(y_test_class_1, pred_class_1)\n",
    "recall_1 = recall_score(y_test_class_1, pred_class_1)\n",
    "\n",
    "# Print precision and recall for each class\n",
    "print(\"Precision for class 0:\", precision_0)\n",
    "print(\"Recall for class 0:\", recall_0)\n",
    "print(\"Precision for class 1:\", precision_1)\n",
    "print(\"Recall for class 1:\", recall_1)\n",
    "\n",
    "# Plot the confusion matrix for class 0\n",
    "disp_class_0 = ConfusionMatrixDisplay(confusion_matrix=cm_class_0, display_labels=[0, 1])\n",
    "disp_class_0.plot(cmap='Greens')\n",
    "plt.title('Confusion Matrix - Class 0')\n",
    "plt.show()\n",
    "\n",
    "# Plot the confusion matrix for class 1\n",
    "disp_class_1 = ConfusionMatrixDisplay(confusion_matrix=cm_class_1, display_labels=[0, 1])\n",
    "disp_class_1.plot(cmap='Greens')\n",
    "plt.title('Confusion Matrix - Class 1')\n",
    "plt.show()"
=======
      "Model C SCORE: 1.0\n",
      "Precision Model C: 1.0\n",
      "Recall Model C: 1.0\n",
      "F1-score Model C: 1.0\n",
      "Model C, that only considers the type of the transaction and the created variable that aggregates the IDs of origin and destine is robust because has no errors, good precision withou false positives and good recall without false negatives\n"
     ]
    },
    {
     "data": {
      "text/plain": [
       "array([[24964,     0],\n",
       "       [    0,    36]], dtype=int64)"
      ]
     },
     "execution_count": 430,
     "metadata": {},
     "output_type": "execute_result"
    }
   ],
   "source": [
    "# Your code here\n",
    "\n",
    "print('Model C SCORE:', Regression_Model_C.score(X_test_C, y_test_C))\n",
    "print(\"Precision Model C:\", precision_score(y_test_C, y_pred_C))\n",
    "print(\"Recall Model C:\", recall_score(y_test_C, y_pred_C))\n",
    "print(\"F1-score Model C:\", f1_score(y_test_C, y_pred_C))\n",
    "print('Model C, that only considers the type of the transaction and the created variable that aggregates the IDs of origin and destine is robust because has no errors, good precision withou false positives and good recall without false negatives')\n",
    "confusion_matrix(y_test_C,y_pred_C)"
>>>>>>> 6c56a46edc250f98c1d510c528777ebe60a0529b
   ]
  },
  {
   "cell_type": "markdown",
   "metadata": {},
   "source": [
    "### Which model worked better and how do you know?"
   ]
  },
  {
   "cell_type": "code",
<<<<<<< HEAD
   "execution_count": 281,
=======
   "execution_count": 431,
>>>>>>> 6c56a46edc250f98c1d510c528777ebe60a0529b
   "metadata": {},
   "outputs": [
    {
     "name": "stdout",
     "output_type": "stream",
     "text": [
<<<<<<< HEAD
      "Model C under or oversampled. It is obtained with both options similar results: very good recall and bad precision but for cases of fraud, as it is a sensible topic, recall is prefered\n"
=======
      "Model C, that only considers the type of the transaction and the created variable that aggregates the IDs of origin and destine is robust because has no errors, good precision withou false positives and good recall without false negatives\n"
>>>>>>> 6c56a46edc250f98c1d510c528777ebe60a0529b
     ]
    }
   ],
   "source": [
    "# Your response here\n",
<<<<<<< HEAD
    "print('Model C under or oversampled. It is obtained with both options similar results: very good recall and bad precision but for cases of fraud, as it is a sensible topic, recall is prefered')"
=======
    "print('Model C, that only considers the type of the transaction and the created variable that aggregates the IDs of origin and destine is robust because has no errors, good precision withou false positives and good recall without false negatives')\n",
    "confusion_matrix(y_test_C,y_pred_C)\n",
    "\n",
    "fraud.to_csv('fraud_reduced_sample.csv')"
>>>>>>> 6c56a46edc250f98c1d510c528777ebe60a0529b
   ]
  },
  {
   "cell_type": "markdown",
   "metadata": {},
   "source": [
    "### Note: before doing the first commit, make sure you don't include the large csv file, either by adding it to .gitignore, or by deleting it."
   ]
  }
 ],
 "metadata": {
  "kernelspec": {
   "display_name": "Python 3",
   "language": "python",
   "name": "python3"
  },
  "language_info": {
   "codemirror_mode": {
    "name": "ipython",
    "version": 3
   },
   "file_extension": ".py",
   "mimetype": "text/x-python",
   "name": "python",
   "nbconvert_exporter": "python",
   "pygments_lexer": "ipython3",
   "version": "3.7.6"
  }
 },
 "nbformat": 4,
 "nbformat_minor": 2
}
