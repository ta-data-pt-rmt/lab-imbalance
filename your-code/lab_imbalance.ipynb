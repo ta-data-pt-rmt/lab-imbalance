{
 "cells": [
  {
   "cell_type": "markdown",
   "metadata": {},
   "source": [
    "# Inbalanced Classes\n",
    "## In this lab, we are going to explore a case of imbalanced classes. \n",
    "\n",
    "\n",
    "Like we disussed in class, when we have noisy data, if we are not careful, we can end up fitting our model to the noise in the data and not the 'signal'-- the factors that actually determine the outcome. This is called overfitting, and results in good results in training, and in bad results when the model is applied to real data. Similarly, we could have a model that is too simplistic to accurately model the signal. This produces a model that doesnt work well (ever). \n"
   ]
  },
  {
   "cell_type": "code",
   "execution_count": 1,
   "metadata": {},
   "outputs": [],
   "source": [
    "import pandas as pd\n",
    "import numpy as np"
   ]
  },
  {
   "cell_type": "markdown",
   "metadata": {},
   "source": [
    "### Note: before doing the first commit, make sure you don't include the large csv file, either by adding it to .gitignore, or by deleting it."
   ]
  },
  {
   "cell_type": "markdown",
   "metadata": {},
   "source": [
    "### First, download the data from: https://www.kaggle.com/ealaxi/paysim1 . Import the dataset and provide some discriptive statistics and plots. What do you think will be the important features in determining the outcome?\n",
    "### Note: don't use the entire dataset, use a sample instead, with n=100000 elements, so your computer doesn't freeze."
   ]
  },
  {
   "cell_type": "code",
   "execution_count": 4,
   "metadata": {},
   "outputs": [
    {
     "data": {
      "text/html": [
       "<div>\n",
       "<style scoped>\n",
       "    .dataframe tbody tr th:only-of-type {\n",
       "        vertical-align: middle;\n",
       "    }\n",
       "\n",
       "    .dataframe tbody tr th {\n",
       "        vertical-align: top;\n",
       "    }\n",
       "\n",
       "    .dataframe thead th {\n",
       "        text-align: right;\n",
       "    }\n",
       "</style>\n",
       "<table border=\"1\" class=\"dataframe\">\n",
       "  <thead>\n",
       "    <tr style=\"text-align: right;\">\n",
       "      <th></th>\n",
       "      <th>step</th>\n",
       "      <th>type</th>\n",
       "      <th>amount</th>\n",
       "      <th>nameOrig</th>\n",
       "      <th>oldbalanceOrg</th>\n",
       "      <th>newbalanceOrig</th>\n",
       "      <th>nameDest</th>\n",
       "      <th>oldbalanceDest</th>\n",
       "      <th>newbalanceDest</th>\n",
       "      <th>isFraud</th>\n",
       "      <th>isFlaggedFraud</th>\n",
       "    </tr>\n",
       "  </thead>\n",
       "  <tbody>\n",
       "    <tr>\n",
       "      <th>1485231</th>\n",
       "      <td>141</td>\n",
       "      <td>CASH_IN</td>\n",
       "      <td>59799.70</td>\n",
       "      <td>C159618322</td>\n",
       "      <td>6778417.42</td>\n",
       "      <td>6838217.12</td>\n",
       "      <td>C769244897</td>\n",
       "      <td>186159.74</td>\n",
       "      <td>126360.04</td>\n",
       "      <td>0</td>\n",
       "      <td>0</td>\n",
       "    </tr>\n",
       "    <tr>\n",
       "      <th>5985982</th>\n",
       "      <td>408</td>\n",
       "      <td>CASH_OUT</td>\n",
       "      <td>223999.83</td>\n",
       "      <td>C1326737897</td>\n",
       "      <td>22080.00</td>\n",
       "      <td>0.00</td>\n",
       "      <td>C820908785</td>\n",
       "      <td>729046.87</td>\n",
       "      <td>953046.70</td>\n",
       "      <td>0</td>\n",
       "      <td>0</td>\n",
       "    </tr>\n",
       "    <tr>\n",
       "      <th>2254415</th>\n",
       "      <td>187</td>\n",
       "      <td>CASH_IN</td>\n",
       "      <td>73486.86</td>\n",
       "      <td>C153957517</td>\n",
       "      <td>23693557.23</td>\n",
       "      <td>23767044.10</td>\n",
       "      <td>C1570556626</td>\n",
       "      <td>3515296.62</td>\n",
       "      <td>3441809.76</td>\n",
       "      <td>0</td>\n",
       "      <td>0</td>\n",
       "    </tr>\n",
       "    <tr>\n",
       "      <th>6183784</th>\n",
       "      <td>567</td>\n",
       "      <td>PAYMENT</td>\n",
       "      <td>3901.59</td>\n",
       "      <td>C433332833</td>\n",
       "      <td>0.00</td>\n",
       "      <td>0.00</td>\n",
       "      <td>M1376663395</td>\n",
       "      <td>0.00</td>\n",
       "      <td>0.00</td>\n",
       "      <td>0</td>\n",
       "      <td>0</td>\n",
       "    </tr>\n",
       "    <tr>\n",
       "      <th>6080740</th>\n",
       "      <td>520</td>\n",
       "      <td>CASH_IN</td>\n",
       "      <td>418247.50</td>\n",
       "      <td>C124243050</td>\n",
       "      <td>3745436.53</td>\n",
       "      <td>4163684.04</td>\n",
       "      <td>C1967864415</td>\n",
       "      <td>989150.23</td>\n",
       "      <td>570902.72</td>\n",
       "      <td>0</td>\n",
       "      <td>0</td>\n",
       "    </tr>\n",
       "  </tbody>\n",
       "</table>\n",
       "</div>"
      ],
      "text/plain": [
       "         step      type     amount     nameOrig  oldbalanceOrg  \\\n",
       "1485231   141   CASH_IN   59799.70   C159618322     6778417.42   \n",
       "5985982   408  CASH_OUT  223999.83  C1326737897       22080.00   \n",
       "2254415   187   CASH_IN   73486.86   C153957517    23693557.23   \n",
       "6183784   567   PAYMENT    3901.59   C433332833           0.00   \n",
       "6080740   520   CASH_IN  418247.50   C124243050     3745436.53   \n",
       "\n",
       "         newbalanceOrig     nameDest  oldbalanceDest  newbalanceDest  isFraud  \\\n",
       "1485231      6838217.12   C769244897       186159.74       126360.04        0   \n",
       "5985982            0.00   C820908785       729046.87       953046.70        0   \n",
       "2254415     23767044.10  C1570556626      3515296.62      3441809.76        0   \n",
       "6183784            0.00  M1376663395            0.00            0.00        0   \n",
       "6080740      4163684.04  C1967864415       989150.23       570902.72        0   \n",
       "\n",
       "         isFlaggedFraud  \n",
       "1485231               0  \n",
       "5985982               0  \n",
       "2254415               0  \n",
       "6183784               0  \n",
       "6080740               0  "
      ]
     },
     "execution_count": 4,
     "metadata": {},
     "output_type": "execute_result"
    }
   ],
   "source": [
    "# Your code here\n",
    "\n",
    "data = pd.read_csv('../PS_20174392719_1491204439457_log.csv')\n",
    "data = data.sample(100000)\n",
    "data.head()"
   ]
  },
  {
   "cell_type": "code",
   "execution_count": 5,
   "metadata": {},
   "outputs": [
    {
     "data": {
      "text/plain": [
       "step                int64\n",
       "type               object\n",
       "amount            float64\n",
       "nameOrig           object\n",
       "oldbalanceOrg     float64\n",
       "newbalanceOrig    float64\n",
       "nameDest           object\n",
       "oldbalanceDest    float64\n",
       "newbalanceDest    float64\n",
       "isFraud             int64\n",
       "isFlaggedFraud      int64\n",
       "dtype: object"
      ]
     },
     "execution_count": 5,
     "metadata": {},
     "output_type": "execute_result"
    }
   ],
   "source": [
    "data.dtypes"
   ]
  },
  {
   "cell_type": "code",
   "execution_count": 6,
   "metadata": {},
   "outputs": [
    {
     "data": {
      "text/html": [
       "<div>\n",
       "<style scoped>\n",
       "    .dataframe tbody tr th:only-of-type {\n",
       "        vertical-align: middle;\n",
       "    }\n",
       "\n",
       "    .dataframe tbody tr th {\n",
       "        vertical-align: top;\n",
       "    }\n",
       "\n",
       "    .dataframe thead th {\n",
       "        text-align: right;\n",
       "    }\n",
       "</style>\n",
       "<table border=\"1\" class=\"dataframe\">\n",
       "  <thead>\n",
       "    <tr style=\"text-align: right;\">\n",
       "      <th></th>\n",
       "      <th>step</th>\n",
       "      <th>amount</th>\n",
       "      <th>oldbalanceOrg</th>\n",
       "      <th>newbalanceOrig</th>\n",
       "      <th>oldbalanceDest</th>\n",
       "      <th>newbalanceDest</th>\n",
       "      <th>isFraud</th>\n",
       "      <th>isFlaggedFraud</th>\n",
       "    </tr>\n",
       "  </thead>\n",
       "  <tbody>\n",
       "    <tr>\n",
       "      <th>count</th>\n",
       "      <td>100000.000000</td>\n",
       "      <td>1.000000e+05</td>\n",
       "      <td>1.000000e+05</td>\n",
       "      <td>1.000000e+05</td>\n",
       "      <td>1.000000e+05</td>\n",
       "      <td>1.000000e+05</td>\n",
       "      <td>100000.000000</td>\n",
       "      <td>100000.0</td>\n",
       "    </tr>\n",
       "    <tr>\n",
       "      <th>mean</th>\n",
       "      <td>243.391280</td>\n",
       "      <td>1.803313e+05</td>\n",
       "      <td>8.281403e+05</td>\n",
       "      <td>8.488994e+05</td>\n",
       "      <td>1.107356e+06</td>\n",
       "      <td>1.231279e+06</td>\n",
       "      <td>0.001350</td>\n",
       "      <td>0.0</td>\n",
       "    </tr>\n",
       "    <tr>\n",
       "      <th>std</th>\n",
       "      <td>142.233392</td>\n",
       "      <td>6.223255e+05</td>\n",
       "      <td>2.892470e+06</td>\n",
       "      <td>2.926579e+06</td>\n",
       "      <td>3.462346e+06</td>\n",
       "      <td>3.730723e+06</td>\n",
       "      <td>0.036718</td>\n",
       "      <td>0.0</td>\n",
       "    </tr>\n",
       "    <tr>\n",
       "      <th>min</th>\n",
       "      <td>1.000000</td>\n",
       "      <td>8.700000e-01</td>\n",
       "      <td>0.000000e+00</td>\n",
       "      <td>0.000000e+00</td>\n",
       "      <td>0.000000e+00</td>\n",
       "      <td>0.000000e+00</td>\n",
       "      <td>0.000000</td>\n",
       "      <td>0.0</td>\n",
       "    </tr>\n",
       "    <tr>\n",
       "      <th>25%</th>\n",
       "      <td>156.000000</td>\n",
       "      <td>1.354550e+04</td>\n",
       "      <td>0.000000e+00</td>\n",
       "      <td>0.000000e+00</td>\n",
       "      <td>0.000000e+00</td>\n",
       "      <td>0.000000e+00</td>\n",
       "      <td>0.000000</td>\n",
       "      <td>0.0</td>\n",
       "    </tr>\n",
       "    <tr>\n",
       "      <th>50%</th>\n",
       "      <td>239.000000</td>\n",
       "      <td>7.525446e+04</td>\n",
       "      <td>1.432000e+04</td>\n",
       "      <td>0.000000e+00</td>\n",
       "      <td>1.325252e+05</td>\n",
       "      <td>2.162646e+05</td>\n",
       "      <td>0.000000</td>\n",
       "      <td>0.0</td>\n",
       "    </tr>\n",
       "    <tr>\n",
       "      <th>75%</th>\n",
       "      <td>334.000000</td>\n",
       "      <td>2.097559e+05</td>\n",
       "      <td>1.074115e+05</td>\n",
       "      <td>1.451257e+05</td>\n",
       "      <td>9.396259e+05</td>\n",
       "      <td>1.111239e+06</td>\n",
       "      <td>0.000000</td>\n",
       "      <td>0.0</td>\n",
       "    </tr>\n",
       "    <tr>\n",
       "      <th>max</th>\n",
       "      <td>730.000000</td>\n",
       "      <td>4.710786e+07</td>\n",
       "      <td>3.844183e+07</td>\n",
       "      <td>3.856340e+07</td>\n",
       "      <td>2.511150e+08</td>\n",
       "      <td>2.506381e+08</td>\n",
       "      <td>1.000000</td>\n",
       "      <td>0.0</td>\n",
       "    </tr>\n",
       "  </tbody>\n",
       "</table>\n",
       "</div>"
      ],
      "text/plain": [
       "                step        amount  oldbalanceOrg  newbalanceOrig  \\\n",
       "count  100000.000000  1.000000e+05   1.000000e+05    1.000000e+05   \n",
       "mean      243.391280  1.803313e+05   8.281403e+05    8.488994e+05   \n",
       "std       142.233392  6.223255e+05   2.892470e+06    2.926579e+06   \n",
       "min         1.000000  8.700000e-01   0.000000e+00    0.000000e+00   \n",
       "25%       156.000000  1.354550e+04   0.000000e+00    0.000000e+00   \n",
       "50%       239.000000  7.525446e+04   1.432000e+04    0.000000e+00   \n",
       "75%       334.000000  2.097559e+05   1.074115e+05    1.451257e+05   \n",
       "max       730.000000  4.710786e+07   3.844183e+07    3.856340e+07   \n",
       "\n",
       "       oldbalanceDest  newbalanceDest        isFraud  isFlaggedFraud  \n",
       "count    1.000000e+05    1.000000e+05  100000.000000        100000.0  \n",
       "mean     1.107356e+06    1.231279e+06       0.001350             0.0  \n",
       "std      3.462346e+06    3.730723e+06       0.036718             0.0  \n",
       "min      0.000000e+00    0.000000e+00       0.000000             0.0  \n",
       "25%      0.000000e+00    0.000000e+00       0.000000             0.0  \n",
       "50%      1.325252e+05    2.162646e+05       0.000000             0.0  \n",
       "75%      9.396259e+05    1.111239e+06       0.000000             0.0  \n",
       "max      2.511150e+08    2.506381e+08       1.000000             0.0  "
      ]
     },
     "execution_count": 6,
     "metadata": {},
     "output_type": "execute_result"
    }
   ],
   "source": [
    "data.describe()"
   ]
  },
  {
   "cell_type": "code",
   "execution_count": null,
   "metadata": {},
   "outputs": [],
   "source": [
    "#Maybe Type and Amount could be important features to determine fraud. "
   ]
  },
  {
   "cell_type": "markdown",
   "metadata": {},
   "source": [
    "### What is the distribution of the outcome? "
   ]
  },
  {
   "cell_type": "code",
   "execution_count": 8,
   "metadata": {},
   "outputs": [
    {
     "name": "stdout",
     "output_type": "stream",
     "text": [
      "0    99865\n",
      "1      135\n",
      "Name: isFraud, dtype: int64\n",
      "0    100000\n",
      "Name: isFlaggedFraud, dtype: int64\n"
     ]
    }
   ],
   "source": [
    "# Your response here\n",
    "print(data['isFraud'].value_counts())\n",
    "print(data['isFlaggedFraud'].value_counts())"
   ]
  },
  {
   "cell_type": "markdown",
   "metadata": {},
   "source": [
    "### Clean the dataset. How are you going to integrate the time variable? Do you think the step (integer) coding in which it is given is appropriate?"
   ]
  },
  {
   "cell_type": "code",
   "execution_count": 12,
   "metadata": {},
   "outputs": [
    {
     "data": {
      "text/plain": [
       "step              0\n",
       "type              0\n",
       "amount            0\n",
       "nameOrig          0\n",
       "oldbalanceOrg     0\n",
       "newbalanceOrig    0\n",
       "nameDest          0\n",
       "oldbalanceDest    0\n",
       "newbalanceDest    0\n",
       "isFraud           0\n",
       "isFlaggedFraud    0\n",
       "dtype: int64"
      ]
     },
     "metadata": {},
     "output_type": "display_data"
    },
    {
     "data": {
      "text/plain": [
       "18     825\n",
       "19     791\n",
       "187    779\n",
       "307    771\n",
       "235    736\n",
       "      ... \n",
       "459      1\n",
       "616      1\n",
       "84       1\n",
       "726      1\n",
       "658      1\n",
       "Name: step, Length: 469, dtype: int64"
      ]
     },
     "metadata": {},
     "output_type": "display_data"
    },
    {
     "data": {
      "text/plain": [
       "CASH_OUT    35306\n",
       "PAYMENT     33583\n",
       "CASH_IN     22047\n",
       "TRANSFER     8412\n",
       "DEBIT         652\n",
       "Name: type, dtype: int64"
      ]
     },
     "metadata": {},
     "output_type": "display_data"
    }
   ],
   "source": [
    "# Your code here\n",
    "display(data.isnull().sum())\n",
    "display(data['step'].value_counts())\n",
    "display(data['type'].value_counts())\n"
   ]
  },
  {
   "cell_type": "markdown",
   "metadata": {},
   "source": [
    "### Run a logisitc regression classifier and evaluate its accuracy."
   ]
  },
  {
   "cell_type": "code",
   "execution_count": 13,
   "metadata": {},
   "outputs": [],
   "source": [
    "# Your code here\n",
    "from sklearn.model_selection import train_test_split\n",
    "from sklearn.linear_model import LogisticRegression\n",
    "\n",
    "X = data.drop(['step','type','nameOrig','nameDest','isFraud','isFlaggedFraud'],axis = 1) #features\n",
    "y = data['isFraud'] #labels\n",
    "X_train, X_test, y_train, y_test = train_test_split(X, y, random_state=0)"
   ]
  },
  {
   "cell_type": "code",
   "execution_count": 14,
   "metadata": {},
   "outputs": [
    {
     "data": {
      "text/plain": [
       "0.99476"
      ]
     },
     "execution_count": 14,
     "metadata": {},
     "output_type": "execute_result"
    }
   ],
   "source": [
    "model = LogisticRegression(max_iter=1000)\n",
    "model.fit(X_train, y_train)\n",
    "model.score(X_test, y_test)"
   ]
  },
  {
   "cell_type": "markdown",
   "metadata": {},
   "source": [
    "### Now pick a model of your choice and evaluate its accuracy."
   ]
  },
  {
   "cell_type": "code",
   "execution_count": 15,
   "metadata": {},
   "outputs": [],
   "source": [
    "# Your code here\n",
    "from sklearn.neighbors import KNeighborsClassifier\n",
    "from sklearn.metrics import accuracy_score"
   ]
  },
  {
   "cell_type": "code",
   "execution_count": 16,
   "metadata": {},
   "outputs": [
    {
     "data": {
      "text/plain": [
       "0.99904"
      ]
     },
     "execution_count": 16,
     "metadata": {},
     "output_type": "execute_result"
    }
   ],
   "source": [
    "model_2 = KNeighborsClassifier(n_neighbors = 4)\n",
    "model_2 = model_2.fit(X_train, y_train)\n",
    "model_2.predict(X_test)\n",
    "np.array(y_test)\n",
    "accuracy_score(model_2.predict(X_test),np.array(y_test))"
   ]
  },
  {
   "cell_type": "markdown",
   "metadata": {},
   "source": [
    "### Which model worked better and how do you know?"
   ]
  },
  {
   "cell_type": "code",
   "execution_count": 2,
   "metadata": {},
   "outputs": [],
   "source": [
    "# Your response here\n",
    "#I think both are working really well, but the last one is slightly better.\n",
    "#Now we can code the confusion_matrix to see who is better."
   ]
  },
  {
   "cell_type": "code",
   "execution_count": 19,
   "metadata": {},
   "outputs": [
    {
     "data": {
      "text/plain": [
       "array([[24843,   118],\n",
       "       [   13,    26]], dtype=int64)"
      ]
     },
     "metadata": {},
     "output_type": "display_data"
    },
    {
     "data": {
      "text/plain": [
       "array([[24961,     0],\n",
       "       [   24,    15]], dtype=int64)"
      ]
     },
     "metadata": {},
     "output_type": "display_data"
    }
   ],
   "source": [
    "from sklearn.metrics import confusion_matrix\n",
    "pred_1 = model.predict(X_test)\n",
    "pred_2 = model_2.predict(X_test)\n",
    "display(confusion_matrix(y_test,pred_1))\n",
    "display(confusion_matrix(y_test,pred_2))"
   ]
  },
  {
   "cell_type": "code",
   "execution_count": null,
   "metadata": {},
   "outputs": [],
   "source": [
    "#This shows that the best results are given by the logistic regression.\n",
    "#Because LR is better detecting fraud than KNN as we can see in the confusion_matrix.\n",
    "\n"
   ]
  },
  {
   "cell_type": "markdown",
   "metadata": {},
   "source": [
    "### Note: before doing the first commit, make sure you don't include the large csv file, either by adding it to .gitignore, or by deleting it."
   ]
  }
 ],
 "metadata": {
  "kernelspec": {
   "display_name": "Python 3.9.7",
   "language": "python",
   "name": "python3"
  },
  "language_info": {
   "codemirror_mode": {
    "name": "ipython",
    "version": 3
   },
   "file_extension": ".py",
   "mimetype": "text/x-python",
   "name": "python",
   "nbconvert_exporter": "python",
   "pygments_lexer": "ipython3",
   "version": "3.9.7"
  },
  "vscode": {
   "interpreter": {
    "hash": "17c695474dc7255d001f177524443d02756d3925741c791a24ccef519630cd63"
   }
  }
 },
 "nbformat": 4,
 "nbformat_minor": 2
}
