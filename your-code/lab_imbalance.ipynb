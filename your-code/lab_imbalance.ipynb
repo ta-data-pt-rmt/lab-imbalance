{
 "cells": [
  {
   "cell_type": "markdown",
   "metadata": {},
   "source": [
    "# Inbalanced Classes\n",
    "## In this lab, we are going to explore a case of imbalanced classes. \n",
    "\n",
    "\n",
    "Like we disussed in class, when we have noisy data, if we are not careful, we can end up fitting our model to the noise in the data and not the 'signal'-- the factors that actually determine the outcome. This is called overfitting, and results in good results in training, and in bad results when the model is applied to real data. Similarly, we could have a model that is too simplistic to accurately model the signal. This produces a model that doesnt work well (ever). \n"
   ]
  },
  {
   "cell_type": "markdown",
   "metadata": {},
   "source": [
    "### Note: before doing the first commit, make sure you don't include the large csv file, either by adding it to .gitignore, or by deleting it."
   ]
  },
  {
   "cell_type": "markdown",
   "metadata": {},
   "source": [
    "### First, download the data from: https://www.kaggle.com/datasets/chitwanmanchanda/fraudulent-transactions-data?resource=download . Import the dataset and provide some discriptive statistics and plots. What do you think will be the important features in determining the outcome?\n",
    "### Note: don't use the entire dataset, use a sample instead, with n=100000 elements, so your computer doesn't freeze."
   ]
  },
  {
   "cell_type": "code",
   "execution_count": 46,
   "metadata": {},
   "outputs": [
    {
     "data": {
      "text/html": [
       "<div>\n",
       "<style scoped>\n",
       "    .dataframe tbody tr th:only-of-type {\n",
       "        vertical-align: middle;\n",
       "    }\n",
       "\n",
       "    .dataframe tbody tr th {\n",
       "        vertical-align: top;\n",
       "    }\n",
       "\n",
       "    .dataframe thead th {\n",
       "        text-align: right;\n",
       "    }\n",
       "</style>\n",
       "<table border=\"1\" class=\"dataframe\">\n",
       "  <thead>\n",
       "    <tr style=\"text-align: right;\">\n",
       "      <th></th>\n",
       "      <th>step</th>\n",
       "      <th>type</th>\n",
       "      <th>amount</th>\n",
       "      <th>nameOrig</th>\n",
       "      <th>oldbalanceOrg</th>\n",
       "      <th>newbalanceOrig</th>\n",
       "      <th>nameDest</th>\n",
       "      <th>oldbalanceDest</th>\n",
       "      <th>newbalanceDest</th>\n",
       "      <th>isFraud</th>\n",
       "      <th>isFlaggedFraud</th>\n",
       "    </tr>\n",
       "  </thead>\n",
       "  <tbody>\n",
       "    <tr>\n",
       "      <th>262529</th>\n",
       "      <td>15</td>\n",
       "      <td>CASH_OUT</td>\n",
       "      <td>14947.68</td>\n",
       "      <td>C1155350947</td>\n",
       "      <td>216.00</td>\n",
       "      <td>0.00</td>\n",
       "      <td>C1188229244</td>\n",
       "      <td>1107349.93</td>\n",
       "      <td>1122297.61</td>\n",
       "      <td>0</td>\n",
       "      <td>0</td>\n",
       "    </tr>\n",
       "    <tr>\n",
       "      <th>463678</th>\n",
       "      <td>19</td>\n",
       "      <td>CASH_IN</td>\n",
       "      <td>97553.13</td>\n",
       "      <td>C1371961662</td>\n",
       "      <td>50649.00</td>\n",
       "      <td>148202.13</td>\n",
       "      <td>C1126014379</td>\n",
       "      <td>723606.46</td>\n",
       "      <td>806237.88</td>\n",
       "      <td>0</td>\n",
       "      <td>0</td>\n",
       "    </tr>\n",
       "    <tr>\n",
       "      <th>3564559</th>\n",
       "      <td>260</td>\n",
       "      <td>CASH_IN</td>\n",
       "      <td>323430.80</td>\n",
       "      <td>C58462371</td>\n",
       "      <td>3147521.82</td>\n",
       "      <td>3470952.61</td>\n",
       "      <td>C1360489642</td>\n",
       "      <td>1523100.44</td>\n",
       "      <td>1199669.65</td>\n",
       "      <td>0</td>\n",
       "      <td>0</td>\n",
       "    </tr>\n",
       "  </tbody>\n",
       "</table>\n",
       "</div>"
      ],
      "text/plain": [
       "         step      type     amount     nameOrig  oldbalanceOrg  \\\n",
       "262529     15  CASH_OUT   14947.68  C1155350947         216.00   \n",
       "463678     19   CASH_IN   97553.13  C1371961662       50649.00   \n",
       "3564559   260   CASH_IN  323430.80    C58462371     3147521.82   \n",
       "\n",
       "         newbalanceOrig     nameDest  oldbalanceDest  newbalanceDest  isFraud  \\\n",
       "262529             0.00  C1188229244      1107349.93      1122297.61        0   \n",
       "463678        148202.13  C1126014379       723606.46       806237.88        0   \n",
       "3564559      3470952.61  C1360489642      1523100.44      1199669.65        0   \n",
       "\n",
       "         isFlaggedFraud  \n",
       "262529                0  \n",
       "463678                0  \n",
       "3564559               0  "
      ]
     },
     "execution_count": 46,
     "metadata": {},
     "output_type": "execute_result"
    }
   ],
   "source": [
    "# Your code here\n",
    "import pandas as pd\n",
    "fraud = pd.read_csv(\"Fraud.csv\")\n",
    "fraud =fraud.sample(100000)\n",
    "fraud.head(3)"
   ]
  },
  {
   "cell_type": "markdown",
   "metadata": {},
   "source": [
    "### What is the distribution of the outcome? "
   ]
  },
  {
   "cell_type": "code",
   "execution_count": 156,
   "metadata": {},
   "outputs": [
    {
     "data": {
      "text/plain": [
       "0    99847\n",
       "1      153\n",
       "Name: isFraud, dtype: int64"
      ]
     },
     "execution_count": 156,
     "metadata": {},
     "output_type": "execute_result"
    }
   ],
   "source": [
    "# Your response here\n",
    "fraud['isFraud'].value_counts()"
   ]
  },
  {
   "cell_type": "markdown",
   "metadata": {},
   "source": [
    "### Clean the dataset. Pre-process it to make it suitable for ML training. Feel free to explore, drop, encode, transform, etc. Whatever you feel will improve the model score."
   ]
  },
  {
   "cell_type": "code",
   "execution_count": 157,
   "metadata": {},
   "outputs": [
    {
     "name": "stdout",
     "output_type": "stream",
     "text": [
      "step                    int64\n",
      "type                   object\n",
      "amount                float64\n",
      "nameOrig               object\n",
      "oldbalanceOrg         float64\n",
      "newbalanceOrig        float64\n",
      "nameDest               object\n",
      "oldbalanceDest        float64\n",
      "newbalanceDest        float64\n",
      "isFraud                 int64\n",
      "isFlaggedFraud          int64\n",
      "type_mapped             int64\n",
      "without_oldbalance      int64\n",
      "without_newbalance      int64\n",
      "dtype: object\n",
      "step                  0\n",
      "type                  0\n",
      "amount                0\n",
      "nameOrig              0\n",
      "oldbalanceOrg         0\n",
      "newbalanceOrig        0\n",
      "nameDest              0\n",
      "oldbalanceDest        0\n",
      "newbalanceDest        0\n",
      "isFraud               0\n",
      "isFlaggedFraud        0\n",
      "type_mapped           0\n",
      "without_oldbalance    0\n",
      "without_newbalance    0\n",
      "dtype: int64\n",
      "                step        amount  oldbalanceOrg  newbalanceOrig  \\\n",
      "count  100000.000000  1.000000e+05   1.000000e+05    1.000000e+05   \n",
      "mean      243.263930  1.793573e+05   8.428866e+05    8.640810e+05   \n",
      "std       142.138683  6.019595e+05   2.907056e+06    2.943356e+06   \n",
      "min         1.000000  0.000000e+00   0.000000e+00    0.000000e+00   \n",
      "25%       155.000000  1.344827e+04   0.000000e+00    0.000000e+00   \n",
      "50%       238.000000  7.527515e+04   1.439400e+04    0.000000e+00   \n",
      "75%       334.000000  2.086389e+05   1.074093e+05    1.423193e+05   \n",
      "max       741.000000  7.382349e+07   3.767004e+07    3.501738e+07   \n",
      "\n",
      "       oldbalanceDest  newbalanceDest        isFraud  isFlaggedFraud  \\\n",
      "count    1.000000e+05    1.000000e+05  100000.000000        100000.0   \n",
      "mean     1.104822e+06    1.225550e+06       0.001530             0.0   \n",
      "std      3.334912e+06    3.585459e+06       0.039085             0.0   \n",
      "min      0.000000e+00    0.000000e+00       0.000000             0.0   \n",
      "25%      0.000000e+00    0.000000e+00       0.000000             0.0   \n",
      "50%      1.347330e+05    2.155103e+05       0.000000             0.0   \n",
      "75%      9.562332e+05    1.124950e+06       0.000000             0.0   \n",
      "max      1.746343e+08    1.956882e+08       1.000000             0.0   \n",
      "\n",
      "         type_mapped  without_oldbalance  without_newbalance  \n",
      "count  100000.000000       100000.000000       100000.000000  \n",
      "mean        0.436180            0.331010            0.331010  \n",
      "std         0.495913            0.470579            0.470579  \n",
      "min         0.000000            0.000000            0.000000  \n",
      "25%         0.000000            0.000000            0.000000  \n",
      "50%         0.000000            0.000000            0.000000  \n",
      "75%         1.000000            1.000000            1.000000  \n",
      "max         1.000000            1.000000            1.000000  \n",
      "0    99847\n",
      "1      153\n",
      "Name: isFraud, dtype: int64\n"
     ]
    }
   ],
   "source": [
    "# Your code here\n",
    "fraud.reset_index(drop=True, inplace=True)\n",
    "print(fraud.dtypes)\n",
    "print(fraud.isnull().sum())\n",
    "print(fraud.describe())\n",
    "print(fraud['isFraud'].value_counts())\n",
    "\n"
   ]
  },
  {
   "cell_type": "code",
   "execution_count": 158,
   "metadata": {},
   "outputs": [
    {
     "name": "stdout",
     "output_type": "stream",
     "text": [
      "'isFraud' and 'isFlaggedFraud' are different.\n"
     ]
    }
   ],
   "source": [
    "mismos_valores = fraud['isFraud'].equals(fraud['isFlaggedFraud'])\n",
    "\n",
    "# Imprimir el resultado\n",
    "if mismos_valores:\n",
    "    print(\"'isFraud' and 'isFlaggedFraud' are not different.\")\n",
    "else:\n",
    "    print(\"'isFraud' and 'isFlaggedFraud' are different.\")"
   ]
  },
  {
   "cell_type": "markdown",
   "metadata": {},
   "source": [
    "Description of variables:\n",
    "\n",
    "step - maps a unit of time in the real world. In this case 1 step is 1 hour of time. Total steps 744 (30 days simulation).\n",
    "\n",
    "type - CASH-IN, CASH-OUT, DEBIT, PAYMENT and TRANSFER.\n",
    "\n",
    "amount - amount of the transaction in local currency.\n",
    "\n",
    "nameOrig - customer who started the transaction\n",
    "\n",
    "oldbalanceOrg - initial balance before the transaction\n",
    "\n",
    "newbalanceOrig - new balance after the transaction\n",
    "\n",
    "nameDest - customer who is the recipient of the transaction\n",
    "\n",
    "oldbalanceDest - initial balance recipient before the transaction. Note that there is not information for customers that start with M (Merchants).\n",
    "\n",
    "newbalanceDest - new balance recipient after the transaction. Note that there is not information for customers that start with M (Merchants).\n",
    "\n",
    "isFraud - This is the transactions made by the fraudulent agents inside the simulation. In this specific dataset the fraudulent behavior of the agents aims to profit by taking control or customers accounts and try to empty the funds by transferring to another account and then cashing out of the system.\n",
    "\n",
    "isFlaggedFraud - The business model aims to control massive transfers from one account to another and flags illegal attempts. An illegal attempt in this dataset is an attempt to transfer more than 200.000 in a single transaction.\"\n",
    "\n",
    ")"
   ]
  },
  {
   "cell_type": "code",
   "execution_count": 159,
   "metadata": {},
   "outputs": [
    {
     "data": {
      "text/html": [
       "<div>\n",
       "<style scoped>\n",
       "    .dataframe tbody tr th:only-of-type {\n",
       "        vertical-align: middle;\n",
       "    }\n",
       "\n",
       "    .dataframe tbody tr th {\n",
       "        vertical-align: top;\n",
       "    }\n",
       "\n",
       "    .dataframe thead th {\n",
       "        text-align: right;\n",
       "    }\n",
       "</style>\n",
       "<table border=\"1\" class=\"dataframe\">\n",
       "  <thead>\n",
       "    <tr style=\"text-align: right;\">\n",
       "      <th></th>\n",
       "      <th>step</th>\n",
       "      <th>amount</th>\n",
       "      <th>oldbalanceOrg</th>\n",
       "      <th>newbalanceOrig</th>\n",
       "      <th>oldbalanceDest</th>\n",
       "      <th>newbalanceDest</th>\n",
       "      <th>isFraud</th>\n",
       "      <th>isFlaggedFraud</th>\n",
       "      <th>type_mapped</th>\n",
       "      <th>without_oldbalance</th>\n",
       "      <th>without_newbalance</th>\n",
       "    </tr>\n",
       "  </thead>\n",
       "  <tbody>\n",
       "    <tr>\n",
       "      <th>count</th>\n",
       "      <td>153.000000</td>\n",
       "      <td>1.530000e+02</td>\n",
       "      <td>1.530000e+02</td>\n",
       "      <td>1.530000e+02</td>\n",
       "      <td>1.530000e+02</td>\n",
       "      <td>1.530000e+02</td>\n",
       "      <td>153.0</td>\n",
       "      <td>153.0</td>\n",
       "      <td>153.0</td>\n",
       "      <td>153.000000</td>\n",
       "      <td>153.000000</td>\n",
       "    </tr>\n",
       "    <tr>\n",
       "      <th>mean</th>\n",
       "      <td>373.084967</td>\n",
       "      <td>1.327587e+06</td>\n",
       "      <td>1.549045e+06</td>\n",
       "      <td>2.214583e+05</td>\n",
       "      <td>3.581099e+05</td>\n",
       "      <td>8.864076e+05</td>\n",
       "      <td>1.0</td>\n",
       "      <td>0.0</td>\n",
       "      <td>1.0</td>\n",
       "      <td>0.006536</td>\n",
       "      <td>0.006536</td>\n",
       "    </tr>\n",
       "    <tr>\n",
       "      <th>std</th>\n",
       "      <td>227.231564</td>\n",
       "      <td>2.203774e+06</td>\n",
       "      <td>3.720105e+06</td>\n",
       "      <td>2.261887e+06</td>\n",
       "      <td>1.261737e+06</td>\n",
       "      <td>2.095600e+06</td>\n",
       "      <td>0.0</td>\n",
       "      <td>0.0</td>\n",
       "      <td>0.0</td>\n",
       "      <td>0.080845</td>\n",
       "      <td>0.080845</td>\n",
       "    </tr>\n",
       "    <tr>\n",
       "      <th>min</th>\n",
       "      <td>2.000000</td>\n",
       "      <td>0.000000e+00</td>\n",
       "      <td>0.000000e+00</td>\n",
       "      <td>0.000000e+00</td>\n",
       "      <td>0.000000e+00</td>\n",
       "      <td>0.000000e+00</td>\n",
       "      <td>1.0</td>\n",
       "      <td>0.0</td>\n",
       "      <td>1.0</td>\n",
       "      <td>0.000000</td>\n",
       "      <td>0.000000</td>\n",
       "    </tr>\n",
       "    <tr>\n",
       "      <th>25%</th>\n",
       "      <td>190.000000</td>\n",
       "      <td>1.432758e+05</td>\n",
       "      <td>1.432758e+05</td>\n",
       "      <td>0.000000e+00</td>\n",
       "      <td>0.000000e+00</td>\n",
       "      <td>0.000000e+00</td>\n",
       "      <td>1.0</td>\n",
       "      <td>0.0</td>\n",
       "      <td>1.0</td>\n",
       "      <td>0.000000</td>\n",
       "      <td>0.000000</td>\n",
       "    </tr>\n",
       "    <tr>\n",
       "      <th>50%</th>\n",
       "      <td>358.000000</td>\n",
       "      <td>4.709222e+05</td>\n",
       "      <td>4.709222e+05</td>\n",
       "      <td>0.000000e+00</td>\n",
       "      <td>0.000000e+00</td>\n",
       "      <td>0.000000e+00</td>\n",
       "      <td>1.0</td>\n",
       "      <td>0.0</td>\n",
       "      <td>1.0</td>\n",
       "      <td>0.000000</td>\n",
       "      <td>0.000000</td>\n",
       "    </tr>\n",
       "    <tr>\n",
       "      <th>75%</th>\n",
       "      <td>581.000000</td>\n",
       "      <td>1.367071e+06</td>\n",
       "      <td>1.367071e+06</td>\n",
       "      <td>0.000000e+00</td>\n",
       "      <td>1.472516e+05</td>\n",
       "      <td>9.270781e+05</td>\n",
       "      <td>1.0</td>\n",
       "      <td>0.0</td>\n",
       "      <td>1.0</td>\n",
       "      <td>0.000000</td>\n",
       "      <td>0.000000</td>\n",
       "    </tr>\n",
       "    <tr>\n",
       "      <th>max</th>\n",
       "      <td>741.000000</td>\n",
       "      <td>1.000000e+07</td>\n",
       "      <td>3.767004e+07</td>\n",
       "      <td>2.767004e+07</td>\n",
       "      <td>1.364687e+07</td>\n",
       "      <td>1.472918e+07</td>\n",
       "      <td>1.0</td>\n",
       "      <td>0.0</td>\n",
       "      <td>1.0</td>\n",
       "      <td>1.000000</td>\n",
       "      <td>1.000000</td>\n",
       "    </tr>\n",
       "  </tbody>\n",
       "</table>\n",
       "</div>"
      ],
      "text/plain": [
       "             step        amount  oldbalanceOrg  newbalanceOrig  \\\n",
       "count  153.000000  1.530000e+02   1.530000e+02    1.530000e+02   \n",
       "mean   373.084967  1.327587e+06   1.549045e+06    2.214583e+05   \n",
       "std    227.231564  2.203774e+06   3.720105e+06    2.261887e+06   \n",
       "min      2.000000  0.000000e+00   0.000000e+00    0.000000e+00   \n",
       "25%    190.000000  1.432758e+05   1.432758e+05    0.000000e+00   \n",
       "50%    358.000000  4.709222e+05   4.709222e+05    0.000000e+00   \n",
       "75%    581.000000  1.367071e+06   1.367071e+06    0.000000e+00   \n",
       "max    741.000000  1.000000e+07   3.767004e+07    2.767004e+07   \n",
       "\n",
       "       oldbalanceDest  newbalanceDest  isFraud  isFlaggedFraud  type_mapped  \\\n",
       "count    1.530000e+02    1.530000e+02    153.0           153.0        153.0   \n",
       "mean     3.581099e+05    8.864076e+05      1.0             0.0          1.0   \n",
       "std      1.261737e+06    2.095600e+06      0.0             0.0          0.0   \n",
       "min      0.000000e+00    0.000000e+00      1.0             0.0          1.0   \n",
       "25%      0.000000e+00    0.000000e+00      1.0             0.0          1.0   \n",
       "50%      0.000000e+00    0.000000e+00      1.0             0.0          1.0   \n",
       "75%      1.472516e+05    9.270781e+05      1.0             0.0          1.0   \n",
       "max      1.364687e+07    1.472918e+07      1.0             0.0          1.0   \n",
       "\n",
       "       without_oldbalance  without_newbalance  \n",
       "count          153.000000          153.000000  \n",
       "mean             0.006536            0.006536  \n",
       "std              0.080845            0.080845  \n",
       "min              0.000000            0.000000  \n",
       "25%              0.000000            0.000000  \n",
       "50%              0.000000            0.000000  \n",
       "75%              0.000000            0.000000  \n",
       "max              1.000000            1.000000  "
      ]
     },
     "execution_count": 159,
     "metadata": {},
     "output_type": "execute_result"
    }
   ],
   "source": [
    "fraud_fraud = fraud[fraud['isFraud']==1]\n",
    "fraud_fraud.describe()"
   ]
  },
  {
   "cell_type": "code",
   "execution_count": 160,
   "metadata": {},
   "outputs": [
    {
     "data": {
      "text/html": [
       "<div>\n",
       "<style scoped>\n",
       "    .dataframe tbody tr th:only-of-type {\n",
       "        vertical-align: middle;\n",
       "    }\n",
       "\n",
       "    .dataframe tbody tr th {\n",
       "        vertical-align: top;\n",
       "    }\n",
       "\n",
       "    .dataframe thead th {\n",
       "        text-align: right;\n",
       "    }\n",
       "</style>\n",
       "<table border=\"1\" class=\"dataframe\">\n",
       "  <thead>\n",
       "    <tr style=\"text-align: right;\">\n",
       "      <th></th>\n",
       "      <th>step</th>\n",
       "      <th>amount</th>\n",
       "      <th>oldbalanceOrg</th>\n",
       "      <th>newbalanceOrig</th>\n",
       "      <th>oldbalanceDest</th>\n",
       "      <th>newbalanceDest</th>\n",
       "      <th>isFraud</th>\n",
       "      <th>isFlaggedFraud</th>\n",
       "      <th>type_mapped</th>\n",
       "      <th>without_oldbalance</th>\n",
       "      <th>without_newbalance</th>\n",
       "    </tr>\n",
       "  </thead>\n",
       "  <tbody>\n",
       "    <tr>\n",
       "      <th>count</th>\n",
       "      <td>99847.000000</td>\n",
       "      <td>9.984700e+04</td>\n",
       "      <td>9.984700e+04</td>\n",
       "      <td>9.984700e+04</td>\n",
       "      <td>9.984700e+04</td>\n",
       "      <td>9.984700e+04</td>\n",
       "      <td>99847.0</td>\n",
       "      <td>99847.0</td>\n",
       "      <td>99847.000000</td>\n",
       "      <td>99847.000000</td>\n",
       "      <td>99847.000000</td>\n",
       "    </tr>\n",
       "    <tr>\n",
       "      <th>mean</th>\n",
       "      <td>243.064999</td>\n",
       "      <td>1.775978e+05</td>\n",
       "      <td>8.418045e+05</td>\n",
       "      <td>8.650658e+05</td>\n",
       "      <td>1.105966e+06</td>\n",
       "      <td>1.226070e+06</td>\n",
       "      <td>0.0</td>\n",
       "      <td>0.0</td>\n",
       "      <td>0.435316</td>\n",
       "      <td>0.331507</td>\n",
       "      <td>0.331507</td>\n",
       "    </tr>\n",
       "    <tr>\n",
       "      <th>std</th>\n",
       "      <td>141.879857</td>\n",
       "      <td>5.945533e+05</td>\n",
       "      <td>2.905528e+06</td>\n",
       "      <td>2.944180e+06</td>\n",
       "      <td>3.336975e+06</td>\n",
       "      <td>3.587248e+06</td>\n",
       "      <td>0.0</td>\n",
       "      <td>0.0</td>\n",
       "      <td>0.495801</td>\n",
       "      <td>0.470757</td>\n",
       "      <td>0.470757</td>\n",
       "    </tr>\n",
       "    <tr>\n",
       "      <th>min</th>\n",
       "      <td>1.000000</td>\n",
       "      <td>1.500000e-01</td>\n",
       "      <td>0.000000e+00</td>\n",
       "      <td>0.000000e+00</td>\n",
       "      <td>0.000000e+00</td>\n",
       "      <td>0.000000e+00</td>\n",
       "      <td>0.0</td>\n",
       "      <td>0.0</td>\n",
       "      <td>0.000000</td>\n",
       "      <td>0.000000</td>\n",
       "      <td>0.000000</td>\n",
       "    </tr>\n",
       "    <tr>\n",
       "      <th>25%</th>\n",
       "      <td>155.000000</td>\n",
       "      <td>1.342613e+04</td>\n",
       "      <td>0.000000e+00</td>\n",
       "      <td>0.000000e+00</td>\n",
       "      <td>0.000000e+00</td>\n",
       "      <td>0.000000e+00</td>\n",
       "      <td>0.0</td>\n",
       "      <td>0.0</td>\n",
       "      <td>0.000000</td>\n",
       "      <td>0.000000</td>\n",
       "      <td>0.000000</td>\n",
       "    </tr>\n",
       "    <tr>\n",
       "      <th>50%</th>\n",
       "      <td>238.000000</td>\n",
       "      <td>7.506650e+04</td>\n",
       "      <td>1.422400e+04</td>\n",
       "      <td>0.000000e+00</td>\n",
       "      <td>1.353959e+05</td>\n",
       "      <td>2.157500e+05</td>\n",
       "      <td>0.0</td>\n",
       "      <td>0.0</td>\n",
       "      <td>0.000000</td>\n",
       "      <td>0.000000</td>\n",
       "      <td>0.000000</td>\n",
       "    </tr>\n",
       "    <tr>\n",
       "      <th>75%</th>\n",
       "      <td>333.000000</td>\n",
       "      <td>2.082061e+05</td>\n",
       "      <td>1.070895e+05</td>\n",
       "      <td>1.431083e+05</td>\n",
       "      <td>9.575898e+05</td>\n",
       "      <td>1.125503e+06</td>\n",
       "      <td>0.0</td>\n",
       "      <td>0.0</td>\n",
       "      <td>1.000000</td>\n",
       "      <td>1.000000</td>\n",
       "      <td>1.000000</td>\n",
       "    </tr>\n",
       "    <tr>\n",
       "      <th>max</th>\n",
       "      <td>718.000000</td>\n",
       "      <td>7.382349e+07</td>\n",
       "      <td>3.500286e+07</td>\n",
       "      <td>3.501738e+07</td>\n",
       "      <td>1.746343e+08</td>\n",
       "      <td>1.956882e+08</td>\n",
       "      <td>0.0</td>\n",
       "      <td>0.0</td>\n",
       "      <td>1.000000</td>\n",
       "      <td>1.000000</td>\n",
       "      <td>1.000000</td>\n",
       "    </tr>\n",
       "  </tbody>\n",
       "</table>\n",
       "</div>"
      ],
      "text/plain": [
       "               step        amount  oldbalanceOrg  newbalanceOrig  \\\n",
       "count  99847.000000  9.984700e+04   9.984700e+04    9.984700e+04   \n",
       "mean     243.064999  1.775978e+05   8.418045e+05    8.650658e+05   \n",
       "std      141.879857  5.945533e+05   2.905528e+06    2.944180e+06   \n",
       "min        1.000000  1.500000e-01   0.000000e+00    0.000000e+00   \n",
       "25%      155.000000  1.342613e+04   0.000000e+00    0.000000e+00   \n",
       "50%      238.000000  7.506650e+04   1.422400e+04    0.000000e+00   \n",
       "75%      333.000000  2.082061e+05   1.070895e+05    1.431083e+05   \n",
       "max      718.000000  7.382349e+07   3.500286e+07    3.501738e+07   \n",
       "\n",
       "       oldbalanceDest  newbalanceDest  isFraud  isFlaggedFraud   type_mapped  \\\n",
       "count    9.984700e+04    9.984700e+04  99847.0         99847.0  99847.000000   \n",
       "mean     1.105966e+06    1.226070e+06      0.0             0.0      0.435316   \n",
       "std      3.336975e+06    3.587248e+06      0.0             0.0      0.495801   \n",
       "min      0.000000e+00    0.000000e+00      0.0             0.0      0.000000   \n",
       "25%      0.000000e+00    0.000000e+00      0.0             0.0      0.000000   \n",
       "50%      1.353959e+05    2.157500e+05      0.0             0.0      0.000000   \n",
       "75%      9.575898e+05    1.125503e+06      0.0             0.0      1.000000   \n",
       "max      1.746343e+08    1.956882e+08      0.0             0.0      1.000000   \n",
       "\n",
       "       without_oldbalance  without_newbalance  \n",
       "count        99847.000000        99847.000000  \n",
       "mean             0.331507            0.331507  \n",
       "std              0.470757            0.470757  \n",
       "min              0.000000            0.000000  \n",
       "25%              0.000000            0.000000  \n",
       "50%              0.000000            0.000000  \n",
       "75%              1.000000            1.000000  \n",
       "max              1.000000            1.000000  "
      ]
     },
     "execution_count": 160,
     "metadata": {},
     "output_type": "execute_result"
    }
   ],
   "source": [
    "fraud_no_fraud = fraud[fraud['isFraud']==0]\n",
    "fraud_no_fraud.describe()"
   ]
  },
  {
   "cell_type": "code",
   "execution_count": 161,
   "metadata": {},
   "outputs": [
    {
     "data": {
      "image/png": "[encoded data removed]",
      "text/plain": [
       "<Figure size 720x432 with 1 Axes>"
      ]
     },
     "metadata": {},
     "output_type": "display_data"
    },
    {
     "name": "stdout",
     "output_type": "stream",
     "text": [
      "Fraud transaction are normally with less amount, more homogenious. Normal transaction is not so homogenious.\n",
      "mean of the amount of fraud transactions: 1327586.5471895428\n",
      "mean of the amount of fraud transactions: 1327586.5471895428 Percentile 80: 1664758.864\n",
      "mean of the amount of no fraud transactions: 177597.77058629962 Percentile 80: 246382.89200000005\n"
     ]
    }
   ],
   "source": [
    "import seaborn as sns\n",
    "import matplotlib.pyplot as plt\n",
    "import numpy as np\n",
    "\n",
    "sns.set(style=\"whitegrid\")\n",
    "\n",
    "\n",
    "plt.figure(figsize=(10, 6))\n",
    "\n",
    "sns.kdeplot(fraud_fraud['amount'], shade=True, label='Fraud flag = 1', color='blue')\n",
    "sns.kdeplot(fraud_no_fraud['amount'], shade=True, label='Fraud flag = 0', color='red')\n",
    "\n",
    "# Añadir título y etiquetas de los ejes\n",
    "plt.title('Amount distribution of sample with fraud and without fraud')\n",
    "plt.xlabel('Amount')\n",
    "plt.ylabel('Density')\n",
    "\n",
    "# Añadir una leyenda\n",
    "plt.legend()\n",
    "\n",
    "# Mostrar el gráfico\n",
    "plt.show()\n",
    "percentile_80 = np.percentile(fraud_fraud['amount'], 80)\n",
    "print('Fraud transaction are normally with less amount, more homogenious. Normal transaction is not so homogenious.')\n",
    "print('mean of the amount of fraud transactions:',fraud_fraud['amount'].mean())\n",
    "\n",
    "\n",
    "# Imprimir el percentil 80%\n",
    "print('mean of the amount of fraud transactions:',fraud_fraud['amount'].mean(),'Percentile 80:',np.percentile(fraud_fraud['amount'], 80))\n",
    "print('mean of the amount of no fraud transactions:',fraud_no_fraud['amount'].mean(),'Percentile 80:',np.percentile(fraud_no_fraud['amount'], 80))"
   ]
  },
  {
   "cell_type": "code",
   "execution_count": 162,
   "metadata": {},
   "outputs": [
    {
     "data": {
      "image/png": "[encoded data removed]",
      "text/plain": [
       "<Figure size 720x432 with 1 Axes>"
      ]
     },
     "metadata": {},
     "output_type": "display_data"
    },
    {
     "name": "stdout",
     "output_type": "stream",
     "text": [
      "not so intuitive\n"
     ]
    }
   ],
   "source": [
    "import pandas as pd\n",
    "import seaborn as sns\n",
    "import matplotlib.pyplot as plt\n",
    "\n",
    "\n",
    "sns.set(style=\"whitegrid\")\n",
    "\n",
    "\n",
    "plt.figure(figsize=(10, 6))\n",
    "\n",
    "sns.kdeplot(fraud_fraud['step'], shade=True, label='Fraud flag = 1', color='blue')\n",
    "sns.kdeplot(fraud_no_fraud['step'], shade=True, label='Fraud flag = 0', color='red')\n",
    "\n",
    "# Añadir título y etiquetas de los ejes\n",
    "plt.title('Step distribution of sample with fraud and without fraud')\n",
    "plt.xlabel('step')\n",
    "plt.ylabel('Density')\n",
    "\n",
    "# Añadir una leyenda\n",
    "plt.legend()\n",
    "\n",
    "# Mostrar el gráfico\n",
    "plt.show()\n",
    "print('not so intuitive')"
   ]
  },
  {
   "cell_type": "code",
   "execution_count": 163,
   "metadata": {},
   "outputs": [
    {
     "data": {
      "image/png": "[encoded data removed]",
      "text/plain": [
       "<Figure size 720x432 with 1 Axes>"
      ]
     },
     "metadata": {},
     "output_type": "display_data"
    },
    {
     "name": "stdout",
     "output_type": "stream",
     "text": [
      "mean of the balance before transactions  of fraud transactions: 1549044.870326798 Percentile 90: 3062506.58\n",
      "mean of the balance before transactions  of no fraud transactions: 841804.5418861868 Percentile 90: 1893251.0120000008\n",
      "Very intuitive, less balance in the origin account before fraud\n"
     ]
    }
   ],
   "source": [
    "import pandas as pd\n",
    "import seaborn as sns\n",
    "import matplotlib.pyplot as plt\n",
    "\n",
    "\n",
    "sns.set(style=\"whitegrid\")\n",
    "\n",
    "\n",
    "plt.figure(figsize=(10, 6))\n",
    "\n",
    "sns.kdeplot(fraud_fraud['oldbalanceOrg'], shade=True, label='Fraud flag = 1', color='blue')\n",
    "sns.kdeplot(fraud_no_fraud['oldbalanceOrg'], shade=True, label='Fraud flag = 0', color='red')\n",
    "\n",
    "# Añadir título y etiquetas de los ejes\n",
    "plt.title('Balance before the transaction distribution of sample with fraud and without fraud')\n",
    "plt.xlabel('oldbalanceOrg')\n",
    "plt.ylabel('Density')\n",
    "\n",
    "# Añadir una leyenda\n",
    "plt.legend()\n",
    "\n",
    "# Mostrar el gráfico\n",
    "plt.show()\n",
    "print('mean of the balance before transactions  of fraud transactions:',fraud_fraud['oldbalanceOrg'].mean(),'Percentile 90:',np.percentile(fraud_fraud['oldbalanceOrg'], 90))\n",
    "print('mean of the balance before transactions  of no fraud transactions:',fraud_no_fraud['oldbalanceOrg'].mean(),'Percentile 90:',np.percentile(fraud_no_fraud['oldbalanceOrg'], 90)\n",
    "     )\n",
    "print('Very intuitive, less balance in the origin account before fraud')"
   ]
  },
  {
   "cell_type": "code",
   "execution_count": 164,
   "metadata": {},
   "outputs": [
    {
     "data": {
      "image/png": "[encoded data removed]",
      "text/plain": [
       "<Figure size 720x432 with 1 Axes>"
      ]
     },
     "metadata": {},
     "output_type": "display_data"
    },
    {
     "name": "stdout",
     "output_type": "stream",
     "text": [
      "mean of the balance in dest. before transactions  of fraud transactions: 358109.864117647 Percentile 90: 894593.6740000006\n",
      "mean of the balance before transactions in dest.  of no fraud transactions: 1105966.0199242888 Percentile 90: 2943850.132000002\n",
      "Very intuitive, less balance in dest. for fraud transactions\n"
     ]
    }
   ],
   "source": [
    "import pandas as pd\n",
    "import seaborn as sns\n",
    "import matplotlib.pyplot as plt\n",
    "\n",
    "\n",
    "sns.set(style=\"whitegrid\")\n",
    "\n",
    "\n",
    "plt.figure(figsize=(10, 6))\n",
    "\n",
    "sns.kdeplot(fraud_fraud['oldbalanceDest'], shade=True, label='Fraud flag = 1', color='blue')\n",
    "sns.kdeplot(fraud_no_fraud['oldbalanceDest'], shade=True, label='Fraud flag = 0', color='red')\n",
    "\n",
    "# Añadir título y etiquetas de los ejes\n",
    "plt.title('Balance before the transaction distribution of sample with fraud and without fraud')\n",
    "plt.xlabel('oldbalanceDest')\n",
    "plt.ylabel('Density')\n",
    "\n",
    "# Añadir una leyenda\n",
    "plt.legend()\n",
    "\n",
    "# Mostrar el gráfico\n",
    "plt.show()\n",
    "print('mean of the balance in dest. before transactions  of fraud transactions:',fraud_fraud['oldbalanceDest'].mean(),'Percentile 90:',np.percentile(fraud_fraud['oldbalanceDest'], 90))\n",
    "print('mean of the balance before transactions in dest.  of no fraud transactions:',fraud_no_fraud['oldbalanceDest'].mean(),'Percentile 90:',np.percentile(fraud_no_fraud['oldbalanceDest'], 90)\n",
    "     )\n",
    "print('Very intuitive, less balance in dest. for fraud transactions')"
   ]
  },
  {
   "cell_type": "code",
   "execution_count": 165,
   "metadata": {},
   "outputs": [
    {
     "data": {
      "image/png": "[encoded data removed]",
      "text/plain": [
       "<Figure size 720x432 with 1 Axes>"
      ]
     },
     "metadata": {},
     "output_type": "display_data"
    },
    {
     "name": "stdout",
     "output_type": "stream",
     "text": [
      "mean of the balance in dest. after transactions  of fraud transactions: 886407.6390849671 Percentile 90: 2389927.098000002\n",
      "mean of the balance after transactions in dest.  of no fraud transactions: 1226070.1473120868 Percentile 90: 3219829.668\n",
      "Very intuitive, less balance in dest. for fraud transactions\n"
     ]
    }
   ],
   "source": [
    "import pandas as pd\n",
    "import seaborn as sns\n",
    "import matplotlib.pyplot as plt\n",
    "\n",
    "\n",
    "sns.set(style=\"whitegrid\")\n",
    "\n",
    "\n",
    "plt.figure(figsize=(10, 6))\n",
    "\n",
    "sns.kdeplot(fraud_fraud['newbalanceDest'], shade=True, label='Fraud flag = 1', color='blue')\n",
    "sns.kdeplot(fraud_no_fraud['newbalanceDest'], shade=True, label='Fraud flag = 0', color='red')\n",
    "\n",
    "# Añadir título y etiquetas de los ejes\n",
    "plt.title('Balance before the transaction distribution of sample with fraud and without fraud')\n",
    "plt.xlabel('newbalanceDest')\n",
    "plt.ylabel('Density')\n",
    "\n",
    "# Añadir una leyenda\n",
    "plt.legend()\n",
    "\n",
    "# Mostrar el gráfico\n",
    "plt.show()\n",
    "print('mean of the balance in dest. after transactions  of fraud transactions:',fraud_fraud['newbalanceDest'].mean(),'Percentile 90:',np.percentile(fraud_fraud['newbalanceDest'], 90))\n",
    "print('mean of the balance after transactions in dest.  of no fraud transactions:',fraud_no_fraud['newbalanceDest'].mean(),'Percentile 90:',np.percentile(fraud_no_fraud['newbalanceDest'], 90)\n",
    "     )\n",
    "print('Very intuitive, less balance in dest. for fraud transactions')"
   ]
  },
  {
   "cell_type": "code",
   "execution_count": 166,
   "metadata": {},
   "outputs": [
    {
     "name": "stdout",
     "output_type": "stream",
     "text": [
      "['TRANSFER' 'CASH_OUT']\n",
      "['CASH_OUT' 'CASH_IN' 'PAYMENT' 'TRANSFER' 'DEBIT']\n"
     ]
    }
   ],
   "source": [
    "print(fraud_fraud['type'].unique())\n",
    "print(fraud_no_fraud['type'].unique())"
   ]
  },
  {
   "cell_type": "code",
   "execution_count": 190,
   "metadata": {},
   "outputs": [],
   "source": [
    "label_mapping = {'PAYMENT': 0, 'CASH_IN': 0, 'CASH_OUT': 1, 'TRANSFER': 1, 'DEBIT': 0}\n",
    "\n",
    "# Aplicar el mapeo al DataFrame\n",
    "fraud['type_mapped'] = fraud['type'].map(label_mapping)\n",
    "\n",
    "# Ahora puedes binarizar la columna type_mapped\n",
    "# Define los límites de los bins\n",
    "bins = [0, 1]  # Los límites de los bins deben incluir todos los valores posibles, más un límite adicional para el final\n",
    "\n",
    "# Etiquetas para los bins\n",
    "bin_labels = ['Bin1', 'Bin2', 'Bin3', 'Bin4', 'Bin5']"
   ]
  },
  {
   "cell_type": "code",
   "execution_count": 191,
   "metadata": {},
   "outputs": [],
   "source": [
    "fraud_fraud = fraud[fraud['isFraud']==1]\n",
    "fraud_no_fraud = fraud[fraud['isFraud']==0]\n"
   ]
  },
  {
   "cell_type": "code",
   "execution_count": 192,
   "metadata": {},
   "outputs": [
    {
     "data": {
      "text/plain": [
       "Index(['step', 'type', 'amount', 'nameOrig', 'oldbalanceOrg', 'newbalanceOrig',\n",
       "       'nameDest', 'oldbalanceDest', 'newbalanceDest', 'isFraud',\n",
       "       'isFlaggedFraud', 'type_mapped', 'without_oldbalance',\n",
       "       'without_newbalance'],\n",
       "      dtype='object')"
      ]
     },
     "execution_count": 192,
     "metadata": {},
     "output_type": "execute_result"
    }
   ],
   "source": [
    "fraud.columns"
   ]
  },
  {
   "cell_type": "code",
   "execution_count": 193,
   "metadata": {},
   "outputs": [
    {
     "name": "stdout",
     "output_type": "stream",
     "text": [
      "[0 1]\n"
     ]
    }
   ],
   "source": [
    "\n",
    "\n",
    "# Assuming filtered_fraud_old contains the filtered DataFrame\n",
    "filtered_fraud_old = fraud[fraud['oldbalanceOrg'] == 0]\n",
    "\n",
    "# Create a new column 'isFraud_old' in the fraud DataFrame\n",
    "fraud['without_oldbalance'] = 0  # Initialize with 0\n",
    "fraud.loc[filtered_fraud_old.index, 'without_oldbalance'] = 1  # Set 1 for the filtered rows\n",
    "\n",
    "# Display unique values of 'isFraud_old'\n",
    "print(fraud['without_oldbalance'].unique())"
   ]
  },
  {
   "cell_type": "code",
   "execution_count": 194,
   "metadata": {},
   "outputs": [
    {
     "name": "stdout",
     "output_type": "stream",
     "text": [
      "[0 1]\n"
     ]
    }
   ],
   "source": [
    "\n",
    "# Assuming filtered_fraud_old contains the filtered DataFrame\n",
    "filtered_fraud_new = fraud[fraud['newbalanceOrig'] == 0]\n",
    "\n",
    "# Create a new column 'isFraud_old' in the fraud DataFrame\n",
    "fraud['without_newbalance'] = 0  # Initialize with 0\n",
    "fraud.loc[filtered_fraud_old.index, 'without_newbalance'] = 1  # Set 1 for the filtered rows\n",
    "\n",
    "# Display unique values of 'isFraud_old'\n",
    "print(fraud['without_newbalance'].unique())"
   ]
  },
  {
   "cell_type": "code",
   "execution_count": 205,
   "metadata": {},
   "outputs": [
    {
     "data": {
      "text/plain": [
       "array([0, 2], dtype=int64)"
      ]
     },
     "execution_count": 205,
     "metadata": {},
     "output_type": "execute_result"
    }
   ],
   "source": [
    "fraud['critical_situation']=fraud['without_newbalance']+fraud['without_oldbalance']\n",
    "fraud['critical_situation'].unique()"
   ]
  },
  {
   "cell_type": "markdown",
   "metadata": {},
   "source": [
    "### Run a logisitc regression classifier and evaluate its accuracy."
   ]
  },
  {
   "cell_type": "code",
   "execution_count": 195,
   "metadata": {},
   "outputs": [
    {
     "name": "stdout",
     "output_type": "stream",
     "text": [
      "Candidate variables: step, amount and choosing one of these, as there are correlated:newbalanceDest,oldbalanceDest\n",
      "Index(['step', 'type', 'amount', 'nameOrig', 'oldbalanceOrg', 'newbalanceOrig',\n",
      "       'nameDest', 'oldbalanceDest', 'newbalanceDest', 'isFraud',\n",
      "       'isFlaggedFraud', 'type_mapped', 'without_oldbalance',\n",
      "       'without_newbalance'],\n",
      "      dtype='object')\n"
     ]
    }
   ],
   "source": [
    "print('Candidate variables: step, amount and choosing one of these, as there are correlated:newbalanceDest,oldbalanceDest')\n",
    "print(fraud.columns)  # Imprimir los nombres de las columnas\n",
    "from sklearn.metrics import precision_score\n",
    "from sklearn.metrics import recall_score\n",
    "from sklearn.metrics import f1_score\n",
    "from sklearn.linear_model import LogisticRegression\n"
   ]
  },
  {
   "cell_type": "code",
   "execution_count": 196,
   "metadata": {},
   "outputs": [
    {
     "name": "stderr",
     "output_type": "stream",
     "text": [
      "C:\\Users\\rozio\\anaconda3\\lib\\site-packages\\ipykernel_launcher.py:8: SettingWithCopyWarning: \n",
      "A value is trying to be set on a copy of a slice from a DataFrame.\n",
      "Try using .loc[row_indexer,col_indexer] = value instead\n",
      "\n",
      "See the caveats in the documentation: https://pandas.pydata.org/pandas-docs/stable/user_guide/indexing.html#returning-a-view-versus-a-copy\n",
      "  \n",
      "C:\\Users\\rozio\\anaconda3\\lib\\site-packages\\ipykernel_launcher.py:11: SettingWithCopyWarning: \n",
      "A value is trying to be set on a copy of a slice from a DataFrame.\n",
      "Try using .loc[row_indexer,col_indexer] = value instead\n",
      "\n",
      "See the caveats in the documentation: https://pandas.pydata.org/pandas-docs/stable/user_guide/indexing.html#returning-a-view-versus-a-copy\n",
      "  # This is added back by InteractiveShellApp.init_path()\n",
      "C:\\Users\\rozio\\anaconda3\\lib\\site-packages\\ipykernel_launcher.py:13: SettingWithCopyWarning: \n",
      "A value is trying to be set on a copy of a slice from a DataFrame.\n",
      "Try using .loc[row_indexer,col_indexer] = value instead\n",
      "\n",
      "See the caveats in the documentation: https://pandas.pydata.org/pandas-docs/stable/user_guide/indexing.html#returning-a-view-versus-a-copy\n",
      "  del sys.path[0]\n",
      "C:\\Users\\rozio\\anaconda3\\lib\\site-packages\\ipykernel_launcher.py:14: SettingWithCopyWarning: \n",
      "A value is trying to be set on a copy of a slice from a DataFrame.\n",
      "Try using .loc[row_indexer,col_indexer] = value instead\n",
      "\n",
      "See the caveats in the documentation: https://pandas.pydata.org/pandas-docs/stable/user_guide/indexing.html#returning-a-view-versus-a-copy\n",
      "  \n"
     ]
    }
   ],
   "source": [
    "\n",
    "X_A = fraud[['type_mapped','isFlaggedFraud','without_newbalance','without_oldbalance','nameDest','nameOrig','isFraud']]\n",
    "#'amount', 'oldbalanceOrg', 'oldbalanceDest'\n",
    "y_A = fraud['isFraud']\n",
    "from sklearn.model_selection import train_test_split\n",
    "X_train_A, X_test_A, y_train_A, y_test_A = train_test_split(X_A, y_A)\n",
    "\n",
    "\n",
    "X_train_A['Fraud_Relation_Name']=X_train_A['nameDest']+X_train_A['nameOrig']\n",
    "fraud_rel = X_train_A.groupby('Fraud_Relation_Name')['isFraud'].max()\n",
    "\n",
    "X_train_A['Fraud_rel'] = X_train_A['Fraud_Relation_Name'].map(fraud_rel)\n",
    "\n",
    "X_test_A['Fraud_Relation_Name']=X_test_A['nameDest']+X_test_A['nameOrig']\n",
    "X_test_A['Fraud_rel'] = X_test_A['Fraud_Relation_Name'].map(fraud_rel)\n",
    "X_train_A=X_train_A[['type_mapped','isFlaggedFraud','Fraud_rel']]\n",
    "X_test_A=X_test_A[['type_mapped','isFlaggedFraud','Fraud_rel']]"
   ]
  },
  {
   "cell_type": "code",
   "execution_count": 197,
   "metadata": {},
   "outputs": [
    {
     "name": "stderr",
     "output_type": "stream",
     "text": [
      "C:\\Users\\rozio\\anaconda3\\lib\\site-packages\\ipykernel_launcher.py:12: SettingWithCopyWarning: \n",
      "A value is trying to be set on a copy of a slice from a DataFrame.\n",
      "Try using .loc[row_indexer,col_indexer] = value instead\n",
      "\n",
      "See the caveats in the documentation: https://pandas.pydata.org/pandas-docs/stable/user_guide/indexing.html#returning-a-view-versus-a-copy\n",
      "  if sys.path[0] == '':\n",
      "C:\\Users\\rozio\\anaconda3\\lib\\site-packages\\ipykernel_launcher.py:14: SettingWithCopyWarning: \n",
      "A value is trying to be set on a copy of a slice from a DataFrame.\n",
      "Try using .loc[row_indexer,col_indexer] = value instead\n",
      "\n",
      "See the caveats in the documentation: https://pandas.pydata.org/pandas-docs/stable/user_guide/indexing.html#returning-a-view-versus-a-copy\n",
      "  \n",
      "C:\\Users\\rozio\\anaconda3\\lib\\site-packages\\ipykernel_launcher.py:16: SettingWithCopyWarning: \n",
      "A value is trying to be set on a copy of a slice from a DataFrame.\n",
      "Try using .loc[row_indexer,col_indexer] = value instead\n",
      "\n",
      "See the caveats in the documentation: https://pandas.pydata.org/pandas-docs/stable/user_guide/indexing.html#returning-a-view-versus-a-copy\n",
      "  app.launch_new_instance()\n",
      "C:\\Users\\rozio\\anaconda3\\lib\\site-packages\\ipykernel_launcher.py:17: SettingWithCopyWarning: \n",
      "A value is trying to be set on a copy of a slice from a DataFrame.\n",
      "Try using .loc[row_indexer,col_indexer] = value instead\n",
      "\n",
      "See the caveats in the documentation: https://pandas.pydata.org/pandas-docs/stable/user_guide/indexing.html#returning-a-view-versus-a-copy\n"
     ]
    }
   ],
   "source": [
    "from sklearn.linear_model import LogisticRegression\n",
    "from sklearn.model_selection import train_test_split\n",
    "from sklearn.metrics import precision_score, recall_score, f1_score, confusion_matrix\n",
    "\n",
    "# Assuming these are already defined\n",
    "# X_A = fraud[['type_mapped','isFlaggedFraud','nameDest','nameOrig','isFraud']]\n",
    "# y_A = fraud['isFraud']\n",
    "\n",
    "X_train_A, X_test_A, y_train_A, y_test_A = train_test_split(X_A, y_A)\n",
    "\n",
    "# Creating engineered features\n",
    "X_train_A['Fraud_Relation_Name'] = X_train_A['nameDest'] + X_train_A['nameOrig']\n",
    "fraud_rel = X_train_A.groupby('Fraud_Relation_Name')['isFraud'].max()\n",
    "X_train_A['Fraud_rel'] = X_train_A['Fraud_Relation_Name'].map(fraud_rel)\n",
    "\n",
    "X_test_A['Fraud_Relation_Name'] = X_test_A['nameDest'] + X_test_A['nameOrig']\n",
    "X_test_A['Fraud_rel'] = X_test_A['Fraud_Relation_Name'].map(fraud_rel)\n",
    "\n",
    "# Selecting relevant features\n",
    "X_train_A = X_train_A[['type_mapped', 'isFlaggedFraud', 'Fraud_rel','without_newbalance','without_oldbalance']]\n",
    "X_test_A = X_test_A[['type_mapped', 'isFlaggedFraud', 'Fraud_rel','without_newbalance','without_oldbalance']]\n",
    "\n"
   ]
  },
  {
   "cell_type": "code",
   "execution_count": 198,
   "metadata": {},
   "outputs": [
    {
     "name": "stdout",
     "output_type": "stream",
     "text": [
      "Model A SCORE: 0.99828\n",
      "Precision Model A: 0.0\n",
      "Recall Model A: 0.0\n",
      "F1-score Model A: 0.0\n",
      "Confusion Matrix:\n",
      "[[24957     0]\n",
      " [   43     0]]\n"
     ]
    },
    {
     "name": "stderr",
     "output_type": "stream",
     "text": [
      "C:\\Users\\rozio\\anaconda3\\lib\\site-packages\\sklearn\\metrics\\_classification.py:1272: UndefinedMetricWarning: Precision is ill-defined and being set to 0.0 due to no predicted samples. Use `zero_division` parameter to control this behavior.\n",
      "  _warn_prf(average, modifier, msg_start, len(result))\n"
     ]
    }
   ],
   "source": [
    "from sklearn.impute import SimpleImputer\n",
    "\n",
    "# Handle missing values\n",
    "imputer = SimpleImputer(strategy='constant', fill_value=0)\n",
    "X_train_A_imputed = imputer.fit_transform(X_train_A)\n",
    "X_test_A_imputed = imputer.transform(X_test_A)\n",
    "\n",
    "# Training Logistic Regression Model\n",
    "Regression_Model_A = LogisticRegression(max_iter=1000)\n",
    "Regression_Model_A.fit(X_train_A_imputed, y_train_A)\n",
    "\n",
    "# Evaluating the model\n",
    "print('Model A SCORE:', Regression_Model_A.score(X_test_A_imputed, y_test_A))\n",
    "y_pred_A = Regression_Model_A.predict(X_test_A_imputed)\n",
    "print(\"Precision Model A:\", precision_score(y_test_A, y_pred_A))\n",
    "print(\"Recall Model A:\", recall_score(y_test_A, y_pred_A))\n",
    "print(\"F1-score Model A:\", f1_score(y_test_A, y_pred_A))\n",
    "print(\"Confusion Matrix:\")\n",
    "print(confusion_matrix(y_test_A, y_pred_A))"
   ]
  },
  {
   "cell_type": "code",
   "execution_count": 199,
   "metadata": {},
   "outputs": [
    {
     "name": "stdout",
     "output_type": "stream",
     "text": [
      "Model B SCORE: 0.99824\n",
      "Precision Model B: 0.0\n",
      "Recall Model B: 0.0\n",
      "F1-score Model B: 0.0\n"
     ]
    },
    {
     "name": "stderr",
     "output_type": "stream",
     "text": [
      "C:\\Users\\rozio\\anaconda3\\lib\\site-packages\\sklearn\\metrics\\_classification.py:1272: UndefinedMetricWarning: Precision is ill-defined and being set to 0.0 due to no predicted samples. Use `zero_division` parameter to control this behavior.\n",
      "  _warn_prf(average, modifier, msg_start, len(result))\n"
     ]
    }
   ],
   "source": [
    "X_B = fraud[['type_mapped','without_oldbalance','without_newbalance']]\n",
    "y_B = fraud['isFraud']\n",
    "\n",
    "X_train_B, X_test_B, y_train_B, y_test_B = train_test_split(X_B, y_B)\n",
    "\n",
    "\n",
    "Regression_Model_B = LogisticRegression(max_iter=1000)\n",
    "Regression_Model_B.fit(X_train_B, y_train_B)\n",
    "print('Model B SCORE:', Regression_Model_B.score(X_test_B, y_test_B))\n",
    "\n",
    "# Calcular precisión, recall y F1-score para el modelo B\n",
    "y_pred_B = Regression_Model_B.predict(X_test_B)\n",
    "print(\"Precision Model B:\", precision_score(y_test_B, y_pred_B))\n",
    "print(\"Recall Model B:\", recall_score(y_test_B, y_pred_B))\n",
    "print(\"F1-score Model B:\", f1_score(y_test_B, y_pred_B))"
   ]
  },
  {
   "cell_type": "code",
   "execution_count": 262,
   "metadata": {
    "scrolled": true
   },
   "outputs": [
    {
     "name": "stderr",
     "output_type": "stream",
     "text": [
      "C:\\Users\\rozio\\anaconda3\\lib\\site-packages\\ipykernel_launcher.py:9: SettingWithCopyWarning: \n",
      "A value is trying to be set on a copy of a slice from a DataFrame.\n",
      "Try using .loc[row_indexer,col_indexer] = value instead\n",
      "\n",
      "See the caveats in the documentation: https://pandas.pydata.org/pandas-docs/stable/user_guide/indexing.html#returning-a-view-versus-a-copy\n",
      "  if __name__ == '__main__':\n",
      "C:\\Users\\rozio\\anaconda3\\lib\\site-packages\\ipykernel_launcher.py:11: SettingWithCopyWarning: \n",
      "A value is trying to be set on a copy of a slice from a DataFrame.\n",
      "Try using .loc[row_indexer,col_indexer] = value instead\n",
      "\n",
      "See the caveats in the documentation: https://pandas.pydata.org/pandas-docs/stable/user_guide/indexing.html#returning-a-view-versus-a-copy\n",
      "  # This is added back by InteractiveShellApp.init_path()\n",
      "C:\\Users\\rozio\\anaconda3\\lib\\site-packages\\ipykernel_launcher.py:13: SettingWithCopyWarning: \n",
      "A value is trying to be set on a copy of a slice from a DataFrame.\n",
      "Try using .loc[row_indexer,col_indexer] = value instead\n",
      "\n",
      "See the caveats in the documentation: https://pandas.pydata.org/pandas-docs/stable/user_guide/indexing.html#returning-a-view-versus-a-copy\n",
      "  del sys.path[0]\n",
      "C:\\Users\\rozio\\anaconda3\\lib\\site-packages\\ipykernel_launcher.py:14: SettingWithCopyWarning: \n",
      "A value is trying to be set on a copy of a slice from a DataFrame.\n",
      "Try using .loc[row_indexer,col_indexer] = value instead\n",
      "\n",
      "See the caveats in the documentation: https://pandas.pydata.org/pandas-docs/stable/user_guide/indexing.html#returning-a-view-versus-a-copy\n",
      "  \n"
     ]
    },
    {
     "name": "stdout",
     "output_type": "stream",
     "text": [
      "Model C SCORE: 0.99884\n",
      "Precision Model C: 0.0\n",
      "Recall Model C: 0.0\n",
      "F1-score Model C: 0.0\n"
     ]
    },
    {
     "name": "stderr",
     "output_type": "stream",
     "text": [
      "C:\\Users\\rozio\\anaconda3\\lib\\site-packages\\sklearn\\metrics\\_classification.py:1272: UndefinedMetricWarning: Precision is ill-defined and being set to 0.0 due to no predicted samples. Use `zero_division` parameter to control this behavior.\n",
      "  _warn_prf(average, modifier, msg_start, len(result))\n"
     ]
    }
   ],
   "source": [
    "X_C = fraud[['critical_situation','type_mapped','nameOrig','nameDest','amount','isFlaggedFraud','isFraud']]\n",
    "y_C = fraud['isFraud']\n",
    "#'without_oldbalance',\n",
    "X_train_C, X_test_C, y_train_C, y_test_C = train_test_split(X_C, y_C)\n",
    "\n",
    "\n",
    "\n",
    "# Creating engineered features\n",
    "X_train_C['Fraud_Relation_Name'] = X_train_C['nameDest'] + X_train_C['nameOrig']\n",
    "fraud_rel = X_train_C.groupby('Fraud_Relation_Name')['isFraud'].max()\n",
    "X_train_C['Fraud_rel'] = X_train_C['Fraud_Relation_Name'].map(fraud_rel)\n",
    "\n",
    "X_test_C['Fraud_Relation_Name'] = X_test_C['nameDest'] + X_test_C['nameOrig']\n",
    "X_test_C['Fraud_rel'] = X_test_C['Fraud_Relation_Name'].map(fraud_rel)\n",
    "\n",
    "# Selecting relevant features\n",
    "X_train_C = X_train_C[[  'critical_situation']]\n",
    "X_test_C = X_test_C[[ 'critical_situation']]\n",
    "imputer = SimpleImputer(strategy='constant', fill_value=0)  # Or any other strategy you prefer\n",
    "X_train_C_imputed = imputer.fit_transform(X_train_C)\n",
    "X_test_C_imputed = imputer.transform(X_test_C)\n",
    "\n",
    "Regression_Model_C = LogisticRegression(max_iter=1000)\n",
    "Regression_Model_C.fit(X_train_C_imputed, y_train_C)\n",
    "\n",
    "# Evaluating the model\n",
    "print('Model C SCORE:', Regression_Model_C.score(X_test_C_imputed, y_test_C))\n",
    "y_pred_C = Regression_Model_C.predict(X_test_C_imputed)\n",
    "print(\"Precision Model C:\", precision_score(y_test_C, y_pred_C))\n",
    "print(\"Recall Model C:\", recall_score(y_test_C, y_pred_C))\n",
    "print(\"F1-score Model C:\", f1_score(y_test_C, y_pred_C))"
   ]
  },
  {
   "cell_type": "code",
   "execution_count": 235,
   "metadata": {},
   "outputs": [
    {
     "data": {
      "text/plain": [
       "array([[24956,     0],\n",
       "       [   44,     0]], dtype=int64)"
      ]
     },
     "execution_count": 235,
     "metadata": {},
     "output_type": "execute_result"
    }
   ],
   "source": [
    "from sklearn.metrics import confusion_matrix\n",
    "confusion_matrix(y_test_B,y_pred_B)"
   ]
  },
  {
   "cell_type": "code",
   "execution_count": 236,
   "metadata": {},
   "outputs": [
    {
     "data": {
      "text/plain": [
       "array([[24957,     0],\n",
       "       [   43,     0]], dtype=int64)"
      ]
     },
     "execution_count": 236,
     "metadata": {},
     "output_type": "execute_result"
    }
   ],
   "source": [
    "from sklearn.metrics import confusion_matrix\n",
    "confusion_matrix(y_test_A,y_pred_A)"
   ]
  },
  {
   "cell_type": "code",
   "execution_count": 263,
   "metadata": {},
   "outputs": [
    {
     "data": {
      "text/plain": [
       "array([[24971,     0],\n",
       "       [   29,     0]], dtype=int64)"
      ]
     },
     "execution_count": 263,
     "metadata": {},
     "output_type": "execute_result"
    }
   ],
   "source": [
    "\n",
    "confusion_matrix(y_test_C,y_pred_C)"
   ]
  },
  {
   "cell_type": "code",
   "execution_count": 238,
   "metadata": {},
   "outputs": [
    {
     "data": {
      "text/plain": [
       "Index(['step', 'type', 'amount', 'nameOrig', 'oldbalanceOrg', 'newbalanceOrig',\n",
       "       'nameDest', 'oldbalanceDest', 'newbalanceDest', 'isFraud',\n",
       "       'isFlaggedFraud', 'type_mapped', 'without_oldbalance',\n",
       "       'without_newbalance', 'critical_situation'],\n",
       "      dtype='object')"
      ]
     },
     "execution_count": 238,
     "metadata": {},
     "output_type": "execute_result"
    }
   ],
   "source": [
    "fraud.columns"
   ]
  },
  {
   "cell_type": "markdown",
   "metadata": {},
   "source": [
    "# Oversamping over \"C\" approach :"
   ]
  },
  {
   "cell_type": "code",
   "execution_count": 264,
   "metadata": {},
   "outputs": [
    {
     "data": {
      "text/plain": [
       "(75000, 2)"
      ]
     },
     "metadata": {},
     "output_type": "display_data"
    },
    {
     "data": {
      "text/html": [
       "<div>\n",
       "<style scoped>\n",
       "    .dataframe tbody tr th:only-of-type {\n",
       "        vertical-align: middle;\n",
       "    }\n",
       "\n",
       "    .dataframe tbody tr th {\n",
       "        vertical-align: top;\n",
       "    }\n",
       "\n",
       "    .dataframe thead th {\n",
       "        text-align: right;\n",
       "    }\n",
       "</style>\n",
       "<table border=\"1\" class=\"dataframe\">\n",
       "  <thead>\n",
       "    <tr style=\"text-align: right;\">\n",
       "      <th></th>\n",
       "      <th>critical_situation</th>\n",
       "      <th>isFraud</th>\n",
       "    </tr>\n",
       "  </thead>\n",
       "  <tbody>\n",
       "    <tr>\n",
       "      <th>90413</th>\n",
       "      <td>0</td>\n",
       "      <td>0</td>\n",
       "    </tr>\n",
       "    <tr>\n",
       "      <th>48588</th>\n",
       "      <td>0</td>\n",
       "      <td>0</td>\n",
       "    </tr>\n",
       "    <tr>\n",
       "      <th>78035</th>\n",
       "      <td>0</td>\n",
       "      <td>0</td>\n",
       "    </tr>\n",
       "    <tr>\n",
       "      <th>95784</th>\n",
       "      <td>0</td>\n",
       "      <td>1</td>\n",
       "    </tr>\n",
       "    <tr>\n",
       "      <th>66195</th>\n",
       "      <td>0</td>\n",
       "      <td>0</td>\n",
       "    </tr>\n",
       "  </tbody>\n",
       "</table>\n",
       "</div>"
      ],
      "text/plain": [
       "       critical_situation  isFraud\n",
       "90413                   0        0\n",
       "48588                   0        0\n",
       "78035                   0        0\n",
       "95784                   0        1\n",
       "66195                   0        0"
      ]
     },
     "execution_count": 264,
     "metadata": {},
     "output_type": "execute_result"
    }
   ],
   "source": [
    "from sklearn.utils import resample\n",
    "train = pd.concat([X_train_C, y_train_C],axis=1)\n",
    "display(train.shape)\n",
    "train.head()\n"
   ]
  },
  {
   "cell_type": "code",
   "execution_count": 265,
   "metadata": {},
   "outputs": [
    {
     "data": {
      "text/plain": [
       "(124, 2)"
      ]
     },
     "metadata": {},
     "output_type": "display_data"
    },
    {
     "data": {
      "text/plain": [
       "(74876, 2)"
      ]
     },
     "metadata": {},
     "output_type": "display_data"
    }
   ],
   "source": [
    "yes_fraud = train[train['isFraud']==1]\n",
    "no_fraud = train[train['isFraud']==0]\n",
    "display(yes_fraud.shape)\n",
    "display(no_fraud.shape)"
   ]
  },
  {
   "cell_type": "code",
   "execution_count": 266,
   "metadata": {},
   "outputs": [
    {
     "data": {
      "text/plain": [
       "(74876, 2)"
      ]
     },
     "metadata": {},
     "output_type": "display_data"
    }
   ],
   "source": [
    "yes_fraud_oversampled = resample(yes_fraud, #<- sample from here\n",
    "                                    replace=True, #<- we need replacement, since we don't have enough data otherwise\n",
    "                                    n_samples = len(no_fraud),#<- make both sets the same size\n",
    "                                    random_state=0)\n",
    "display(yes_fraud_oversampled.shape)"
   ]
  },
  {
   "cell_type": "code",
   "execution_count": 267,
   "metadata": {},
   "outputs": [
    {
     "data": {
      "text/html": [
       "<div>\n",
       "<style scoped>\n",
       "    .dataframe tbody tr th:only-of-type {\n",
       "        vertical-align: middle;\n",
       "    }\n",
       "\n",
       "    .dataframe tbody tr th {\n",
       "        vertical-align: top;\n",
       "    }\n",
       "\n",
       "    .dataframe thead th {\n",
       "        text-align: right;\n",
       "    }\n",
       "</style>\n",
       "<table border=\"1\" class=\"dataframe\">\n",
       "  <thead>\n",
       "    <tr style=\"text-align: right;\">\n",
       "      <th></th>\n",
       "      <th>critical_situation</th>\n",
       "      <th>isFraud</th>\n",
       "    </tr>\n",
       "  </thead>\n",
       "  <tbody>\n",
       "    <tr>\n",
       "      <th>90413</th>\n",
       "      <td>0</td>\n",
       "      <td>0</td>\n",
       "    </tr>\n",
       "    <tr>\n",
       "      <th>48588</th>\n",
       "      <td>0</td>\n",
       "      <td>0</td>\n",
       "    </tr>\n",
       "    <tr>\n",
       "      <th>78035</th>\n",
       "      <td>0</td>\n",
       "      <td>0</td>\n",
       "    </tr>\n",
       "    <tr>\n",
       "      <th>66195</th>\n",
       "      <td>0</td>\n",
       "      <td>0</td>\n",
       "    </tr>\n",
       "    <tr>\n",
       "      <th>62313</th>\n",
       "      <td>2</td>\n",
       "      <td>0</td>\n",
       "    </tr>\n",
       "  </tbody>\n",
       "</table>\n",
       "</div>"
      ],
      "text/plain": [
       "       critical_situation  isFraud\n",
       "90413                   0        0\n",
       "48588                   0        0\n",
       "78035                   0        0\n",
       "66195                   0        0\n",
       "62313                   2        0"
      ]
     },
     "execution_count": 267,
     "metadata": {},
     "output_type": "execute_result"
    }
   ],
   "source": [
    "train_oversampled = pd.concat([no_fraud,yes_fraud_oversampled])\n",
    "train_oversampled.head()"
   ]
  },
  {
   "cell_type": "code",
   "execution_count": 282,
   "metadata": {},
   "outputs": [
    {
     "name": "stdout",
     "output_type": "stream",
     "text": [
      "Precision:  0.0017379839386311878\n",
      "Recall:  1.0\n",
      "F1-score:  0.0034699371821717024\n",
      "Model B OVERSAMPLED SCORE: 0.33372\n",
      "Confusion Matrix:\n",
      "[[ 8314 16657]\n",
      " [    0    29]]\n"
     ]
    }
   ],
   "source": [
    "y_train_over = train_oversampled[['isFraud']]\n",
    "X_train_over = train_oversampled[['critical_situation']]\n",
    "\n",
    "# Handle missing values\n",
    "imputer = SimpleImputer(strategy='constant', fill_value=0)  \n",
    "X_train_over_imputed = imputer.fit_transform(X_train_over)\n",
    "X_test_C_imputed = imputer.transform(X_test_C)\n",
    "\n",
    "# Train Logistic Regression Model\n",
    "LR = LogisticRegression(max_iter=1000)\n",
    "LR.fit(X_train_over_imputed, y_train_over.values.ravel())  # Convert y_train_over to a 1D array\n",
    "\n",
    "# Predict using the trained model\n",
    "pred = LR.predict(X_test_C_imputed)\n",
    "\n",
    "# Print evaluation metrics\n",
    "print(\"Precision: \", precision_score(y_test_C, pred))\n",
    "print(\"Recall: \", recall_score(y_test_C, pred))\n",
    "print(\"F1-score: \", f1_score(y_test_C, pred))\n",
    "print('Model B OVERSAMPLED SCORE:', LR.score(X_test_C_imputed, y_test_C))\n",
    "\n",
    "# Compute and print confusion matrix\n",
    "cm = confusion_matrix(y_test_C, pred)\n",
    "print(\"Confusion Matrix:\")\n",
    "print(cm)"
   ]
  },
  {
   "cell_type": "markdown",
   "metadata": {},
   "source": [
    "# Decision Tree option:"
   ]
  },
  {
   "cell_type": "code",
   "execution_count": 269,
   "metadata": {},
   "outputs": [
    {
     "name": "stdout",
     "output_type": "stream",
     "text": [
      "Precision: 0.0017379839386311878\n",
      "Recall: 1.0\n",
      "Confusion Matrix:\n",
      "[[ 8314 16657]\n",
      " [    0    29]]\n"
     ]
    }
   ],
   "source": [
    "from sklearn.tree import DecisionTreeClassifier\n",
    "from sklearn.metrics import precision_score, recall_score, confusion_matrix\n",
    "imputer = SimpleImputer(strategy='constant', fill_value=0)   # You can use other strategies as well\n",
    "\n",
    "# Fit the imputer on the training data and transform both the training and test data\n",
    "X_train_over_imputed = imputer.fit_transform(X_train_over)\n",
    "X_test_C_imputed = imputer.transform(X_test_C)\n",
    "# Assuming train_oversampled contains both features (X_train_over) and target (y_train_over)\n",
    "\n",
    "# Create and fit the decision tree model\n",
    "tree_model = DecisionTreeClassifier()\n",
    "tree_model.fit(X_train_over_imputed, y_train_over)\n",
    "\n",
    "\n",
    "# Make predictions on the test set\n",
    "pred_tree = tree_model.predict(X_test_C_imputed)\n",
    "\n",
    "# Print evaluation metrics\n",
    "print(\"Precision:\", precision_score(y_test_C, pred_tree))\n",
    "print(\"Recall:\", recall_score(y_test_C, pred_tree))\n",
    "\n",
    "# Compute and print confusion matrix\n",
    "print(\"Confusion Matrix:\")\n",
    "print(confusion_matrix(y_test_C, pred_tree))"
   ]
  },
  {
   "cell_type": "markdown",
   "metadata": {},
   "source": [
    "# Undersampling over \"C\" approach:"
   ]
  },
  {
   "cell_type": "code",
   "execution_count": 273,
   "metadata": {},
   "outputs": [
    {
     "data": {
      "text/plain": [
       "(124, 2)"
      ]
     },
     "metadata": {},
     "output_type": "display_data"
    }
   ],
   "source": [
    "no_fraud_undersampled = resample(no_fraud, #<- sample from here\n",
    "                                    replace=True, #<- we need replacement, since we don't have enough data otherwise\n",
    "                                    n_samples = len(yes_fraud),#<- make both sets the same size\n",
    "                                    random_state=0)\n",
    "display(no_fraud_undersampled.shape)"
   ]
  },
  {
   "cell_type": "code",
   "execution_count": 274,
   "metadata": {},
   "outputs": [
    {
     "data": {
      "text/html": [
       "<div>\n",
       "<style scoped>\n",
       "    .dataframe tbody tr th:only-of-type {\n",
       "        vertical-align: middle;\n",
       "    }\n",
       "\n",
       "    .dataframe tbody tr th {\n",
       "        vertical-align: top;\n",
       "    }\n",
       "\n",
       "    .dataframe thead th {\n",
       "        text-align: right;\n",
       "    }\n",
       "</style>\n",
       "<table border=\"1\" class=\"dataframe\">\n",
       "  <thead>\n",
       "    <tr style=\"text-align: right;\">\n",
       "      <th></th>\n",
       "      <th>critical_situation</th>\n",
       "      <th>isFraud</th>\n",
       "    </tr>\n",
       "  </thead>\n",
       "  <tbody>\n",
       "    <tr>\n",
       "      <th>95784</th>\n",
       "      <td>0</td>\n",
       "      <td>1</td>\n",
       "    </tr>\n",
       "    <tr>\n",
       "      <th>28641</th>\n",
       "      <td>0</td>\n",
       "      <td>1</td>\n",
       "    </tr>\n",
       "    <tr>\n",
       "      <th>99292</th>\n",
       "      <td>0</td>\n",
       "      <td>1</td>\n",
       "    </tr>\n",
       "    <tr>\n",
       "      <th>3080</th>\n",
       "      <td>0</td>\n",
       "      <td>1</td>\n",
       "    </tr>\n",
       "    <tr>\n",
       "      <th>29558</th>\n",
       "      <td>0</td>\n",
       "      <td>1</td>\n",
       "    </tr>\n",
       "  </tbody>\n",
       "</table>\n",
       "</div>"
      ],
      "text/plain": [
       "       critical_situation  isFraud\n",
       "95784                   0        1\n",
       "28641                   0        1\n",
       "99292                   0        1\n",
       "3080                    0        1\n",
       "29558                   0        1"
      ]
     },
     "execution_count": 274,
     "metadata": {},
     "output_type": "execute_result"
    }
   ],
   "source": [
    "train_undersampled = pd.concat([yes_fraud,no_fraud_undersampled])\n",
    "train_undersampled.head()"
   ]
  },
  {
   "cell_type": "code",
   "execution_count": 276,
   "metadata": {},
   "outputs": [
    {
     "name": "stdout",
     "output_type": "stream",
     "text": [
      "precision:  0.0017379839386311878\n",
      "recall:  1.0\n",
      "f1:  0.0034699371821717024\n",
      "Model B UNDERSAMPLED SCORE: 0.33372\n"
     ]
    },
    {
     "name": "stderr",
     "output_type": "stream",
     "text": [
      "C:\\Users\\rozio\\anaconda3\\lib\\site-packages\\sklearn\\utils\\validation.py:760: DataConversionWarning: A column-vector y was passed when a 1d array was expected. Please change the shape of y to (n_samples, ), for example using ravel().\n",
      "  y = column_or_1d(y, warn=True)\n"
     ]
    },
    {
     "data": {
      "text/plain": [
       "array([[ 8314, 16657],\n",
       "       [    0,    29]], dtype=int64)"
      ]
     },
     "execution_count": 276,
     "metadata": {},
     "output_type": "execute_result"
    }
   ],
   "source": [
    "y_train_under = train_undersampled[['isFraud']]\n",
    "X_train_under = train_undersampled[['critical_situation']]\n",
    "LR = LogisticRegression(max_iter=1000)\n",
    "LR.fit(X_train_under, y_train_under)\n",
    "pred = LR.predict(X_test_C)\n",
    "\n",
    "print(\"precision: \",precision_score(y_test_C,pred))\n",
    "print(\"recall: \",recall_score(y_test_C,pred))\n",
    "print(\"f1: \",f1_score(y_test_C,pred))\n",
    "print('Model B UNDERSAMPLED SCORE:',LR.score(X_test_C, y_test_C))\n",
    "\n",
    "\n",
    "confusion_matrix(y_test_C,pred)"
   ]
  },
  {
   "cell_type": "markdown",
   "metadata": {},
   "source": [
    "### Now pick a model of your choice and evaluate its accuracy."
   ]
  },
  {
   "cell_type": "code",
   "execution_count": 283,
   "metadata": {},
   "outputs": [
    {
     "name": "stdout",
     "output_type": "stream",
     "text": [
      "Precision for class 0: 0.0\n",
      "Recall for class 0: 0.0\n",
      "Precision for class 1: 1.0\n",
      "Recall for class 1: 1.0\n"
     ]
    },
    {
     "name": "stderr",
     "output_type": "stream",
     "text": [
      "C:\\Users\\rozio\\anaconda3\\lib\\site-packages\\sklearn\\metrics\\_classification.py:1272: UndefinedMetricWarning: Recall is ill-defined and being set to 0.0 due to no true samples. Use `zero_division` parameter to control this behavior.\n",
      "  _warn_prf(average, modifier, msg_start, len(result))\n"
     ]
    },
    {
     "data": {
      "image/png": "[encoded data removed]",
      "text/plain": [
       "<Figure size 432x288 with 2 Axes>"
      ]
     },
     "metadata": {},
     "output_type": "display_data"
    },
    {
     "data": {
      "image/png": "[encoded data removed]",
      "text/plain": [
       "<Figure size 432x288 with 2 Axes>"
      ]
     },
     "metadata": {},
     "output_type": "display_data"
    }
   ],
   "source": [
    "from sklearn.metrics import confusion_matrix, precision_score, recall_score, ConfusionMatrixDisplay\n",
    "import matplotlib.pyplot as plt\n",
    "\n",
    "# Calculate the confusion matrix\n",
    "cm = confusion_matrix(y_test_C, pred)\n",
    "\n",
    "# Separate predictions and ground truth labels for each class\n",
    "pred_class_0 = pred[y_test_C == 0]\n",
    "y_test_class_0 = y_test_C[y_test_C == 0]\n",
    "\n",
    "pred_class_1 = pred[y_test_C == 1]\n",
    "y_test_class_1 = y_test_C[y_test_C == 1]\n",
    "\n",
    "# Calculate confusion matrices for each class\n",
    "cm_class_0 = confusion_matrix(y_test_class_0, pred_class_0)\n",
    "cm_class_1 = confusion_matrix(y_test_class_1, pred_class_1)\n",
    "\n",
    "# Calculate precision and recall for each class\n",
    "precision_0 = precision_score(y_test_class_0, pred_class_0)\n",
    "recall_0 = recall_score(y_test_class_0, pred_class_0)\n",
    "\n",
    "precision_1 = precision_score(y_test_class_1, pred_class_1)\n",
    "recall_1 = recall_score(y_test_class_1, pred_class_1)\n",
    "\n",
    "# Print precision and recall for each class\n",
    "print(\"Precision for class 0:\", precision_0)\n",
    "print(\"Recall for class 0:\", recall_0)\n",
    "print(\"Precision for class 1:\", precision_1)\n",
    "print(\"Recall for class 1:\", recall_1)\n",
    "\n",
    "# Plot the confusion matrix for class 0\n",
    "disp_class_0 = ConfusionMatrixDisplay(confusion_matrix=cm_class_0, display_labels=[0, 1])\n",
    "disp_class_0.plot(cmap='Greens')\n",
    "plt.title('Confusion Matrix - Class 0')\n",
    "plt.show()\n",
    "\n",
    "# Plot the confusion matrix for class 1\n",
    "disp_class_1 = ConfusionMatrixDisplay(confusion_matrix=cm_class_1, display_labels=[0, 1])\n",
    "disp_class_1.plot(cmap='Greens')\n",
    "plt.title('Confusion Matrix - Class 1')\n",
    "plt.show()"
   ]
  },
  {
   "cell_type": "markdown",
   "metadata": {},
   "source": [
    "### Which model worked better and how do you know?"
   ]
  },
  {
   "cell_type": "code",
   "execution_count": 281,
   "metadata": {},
   "outputs": [
    {
     "name": "stdout",
     "output_type": "stream",
     "text": [
      "Model C under or oversampled. It is obtained with both options similar results: very good recall and bad precision but for cases of fraud, as it is a sensible topic, recall is prefered\n"
     ]
    }
   ],
   "source": [
    "# Your response here\n",
    "print('Model C under or oversampled. It is obtained with both options similar results: very good recall and bad precision but for cases of fraud, as it is a sensible topic, recall is prefered')"
   ]
  },
  {
   "cell_type": "markdown",
   "metadata": {},
   "source": [
    "### Note: before doing the first commit, make sure you don't include the large csv file, either by adding it to .gitignore, or by deleting it."
   ]
  }
 ],
 "metadata": {
  "kernelspec": {
   "display_name": "Python 3",
   "language": "python",
   "name": "python3"
  },
  "language_info": {
   "codemirror_mode": {
    "name": "ipython",
    "version": 3
   },
   "file_extension": ".py",
   "mimetype": "text/x-python",
   "name": "python",
   "nbconvert_exporter": "python",
   "pygments_lexer": "ipython3",
   "version": "3.7.6"
  }
 },
 "nbformat": 4,
 "nbformat_minor": 2
}
